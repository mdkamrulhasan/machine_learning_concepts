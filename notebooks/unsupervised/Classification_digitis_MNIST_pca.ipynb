{
  "nbformat": 4,
  "nbformat_minor": 0,
  "metadata": {
    "colab": {
      "provenance": [],
      "include_colab_link": true
    },
    "kernelspec": {
      "name": "python3",
      "display_name": "Python 3"
    },
    "language_info": {
      "name": "python"
    }
  },
  "cells": [
    {
      "cell_type": "markdown",
      "metadata": {
        "id": "view-in-github",
        "colab_type": "text"
      },
      "source": [
        "<a href=\"https://colab.research.google.com/github/mdkamrulhasan/data_mining_kdd/blob/main/notebooks/Classification_digitis_MNIST_pca.ipynb\" target=\"_parent\"><img src=\"https://colab.research.google.com/assets/colab-badge.svg\" alt=\"Open In Colab\"/></a>"
      ]
    },
    {
      "cell_type": "markdown",
      "source": [
        "What will we cover today ?\n",
        "\n",
        "\n",
        "1.   Four models:\n",
        "\n",
        " *   Logistic Rregression (LR)\n",
        " *   Random Forest (RF)\n",
        " *   Support Vectror Classification (SVR)\n",
        " *   Boosting\n",
        " *   Naive Bayes\n"
      ],
      "metadata": {
        "id": "FBRyAWfz-KuJ"
      }
    },
    {
      "cell_type": "code",
      "execution_count": 1,
      "metadata": {
        "id": "03-NXl9m_dPA"
      },
      "outputs": [],
      "source": [
        "import numpy as np\n",
        "import pandas as pd\n",
        "# Models (Sklearn)\n",
        "from sklearn.linear_model import LogisticRegression\n",
        "from sklearn.ensemble import RandomForestClassifier, GradientBoostingClassifier\n",
        "from sklearn.naive_bayes import GaussianNB\n",
        "from sklearn.svm import SVC\n",
        "# Data and Evaluation packages\n",
        "from sklearn import datasets\n",
        "from sklearn.metrics import mean_squared_error\n",
        "from sklearn.metrics import accuracy_score\n",
        "# visualization\n",
        "import plotly.express as px\n",
        "from sklearn.model_selection import train_test_split"
      ]
    },
    {
      "cell_type": "markdown",
      "source": [
        "# Our Wrapper Class (Can take any model as an input)"
      ],
      "metadata": {
        "id": "gZH3V3LG-uqL"
      }
    },
    {
      "cell_type": "code",
      "source": [
        "from sklearn.model_selection import cross_val_score\n",
        "\n",
        "class myClassificationModel:\n",
        "  def __init__(self, model):\n",
        "    self.model = model\n",
        "    self.nb_cv_splits = 3\n",
        "    self.evaluation_metrics = 'accuracy' #'f1'\n",
        "\n",
        "  def train(self, X, y):\n",
        "    self.model.fit(X, y)\n",
        "\n",
        "  def evaluate(self, X, y):\n",
        "    y_predict = self.model.predict(X)\n",
        "    # return mean_squared_error(y, y_predict)\n",
        "    return accuracy_score(y, y_predict)\n",
        "\n",
        "  def cv_error(self, X, y):\n",
        "    return cross_val_score(self.model,\n",
        "                           X,\n",
        "                           y, scoring=self.evaluation_metrics,\n",
        "                           cv=self.nb_cv_splits)\n",
        "\n"
      ],
      "metadata": {
        "id": "5k6GS-4h-oW9"
      },
      "execution_count": 43,
      "outputs": []
    },
    {
      "cell_type": "markdown",
      "source": [
        "[Data description](https://archive.ics.uci.edu/dataset/80/optical+recognition+of+handwritten+digits)"
      ],
      "metadata": {
        "id": "WhUKTt3zUnSh"
      }
    },
    {
      "cell_type": "code",
      "source": [
        "from sklearn.datasets import load_digits\n",
        "df = load_digits(as_frame=True)\n",
        "print(df.data.shape)\n",
        "import matplotlib.pyplot as plt\n",
        "plt.gray()\n",
        "plt.matshow(df.images[0])\n",
        "plt.show()\n",
        "df.keys()"
      ],
      "metadata": {
        "colab": {
          "base_uri": "https://localhost:8080/",
          "height": 489
        },
        "id": "4s-U2y5DPOHR",
        "outputId": "8bb01e6f-34a2-466e-b5a4-8df32963729d"
      },
      "execution_count": 2,
      "outputs": [
        {
          "output_type": "stream",
          "name": "stdout",
          "text": [
            "(1797, 64)\n"
          ]
        },
        {
          "output_type": "display_data",
          "data": {
            "text/plain": [
              "<Figure size 640x480 with 0 Axes>"
            ]
          },
          "metadata": {}
        },
        {
          "output_type": "display_data",
          "data": {
            "text/plain": [
              "<Figure size 480x480 with 1 Axes>"
            ],
            "image/png": "[encoded data removed]"
          },
          "metadata": {}
        },
        {
          "output_type": "execute_result",
          "data": {
            "text/plain": [
              "dict_keys(['data', 'target', 'frame', 'feature_names', 'target_names', 'images', 'DESCR'])"
            ]
          },
          "metadata": {},
          "execution_count": 2
        }
      ]
    },
    {
      "cell_type": "code",
      "source": [
        "df.data.head()"
      ],
      "metadata": {
        "colab": {
          "base_uri": "https://localhost:8080/",
          "height": 255
        },
        "id": "7J7PEf7IL487",
        "outputId": "83bdf141-01cc-4545-dea3-743a9c3c3598"
      },
      "execution_count": 3,
      "outputs": [
        {
          "output_type": "execute_result",
          "data": {
            "text/plain": [
              "   pixel_0_0  pixel_0_1  pixel_0_2  pixel_0_3  pixel_0_4  pixel_0_5  \\\n",
              "0        0.0        0.0        5.0       13.0        9.0        1.0   \n",
              "1        0.0        0.0        0.0       12.0       13.0        5.0   \n",
              "2        0.0        0.0        0.0        4.0       15.0       12.0   \n",
              "3        0.0        0.0        7.0       15.0       13.0        1.0   \n",
              "4        0.0        0.0        0.0        1.0       11.0        0.0   \n",
              "\n",
              "   pixel_0_6  pixel_0_7  pixel_1_0  pixel_1_1  ...  pixel_6_6  pixel_6_7  \\\n",
              "0        0.0        0.0        0.0        0.0  ...        0.0        0.0   \n",
              "1        0.0        0.0        0.0        0.0  ...        0.0        0.0   \n",
              "2        0.0        0.0        0.0        0.0  ...        5.0        0.0   \n",
              "3        0.0        0.0        0.0        8.0  ...        9.0        0.0   \n",
              "4        0.0        0.0        0.0        0.0  ...        0.0        0.0   \n",
              "\n",
              "   pixel_7_0  pixel_7_1  pixel_7_2  pixel_7_3  pixel_7_4  pixel_7_5  \\\n",
              "0        0.0        0.0        6.0       13.0       10.0        0.0   \n",
              "1        0.0        0.0        0.0       11.0       16.0       10.0   \n",
              "2        0.0        0.0        0.0        3.0       11.0       16.0   \n",
              "3        0.0        0.0        7.0       13.0       13.0        9.0   \n",
              "4        0.0        0.0        0.0        2.0       16.0        4.0   \n",
              "\n",
              "   pixel_7_6  pixel_7_7  \n",
              "0        0.0        0.0  \n",
              "1        0.0        0.0  \n",
              "2        9.0        0.0  \n",
              "3        0.0        0.0  \n",
              "4        0.0        0.0  \n",
              "\n",
              "[5 rows x 64 columns]"
            ],
            "text/html": [
              "\n",
              "  <div id=\"df-e18074f1-4537-4765-99e6-0ca2c16a45bb\" class=\"colab-df-container\">\n",
              "    <div>\n",
              "<style scoped>\n",
              "    .dataframe tbody tr th:only-of-type {\n",
              "        vertical-align: middle;\n",
              "    }\n",
              "\n",
              "    .dataframe tbody tr th {\n",
              "        vertical-align: top;\n",
              "    }\n",
              "\n",
              "    .dataframe thead th {\n",
              "        text-align: right;\n",
              "    }\n",
              "</style>\n",
              "<table border=\"1\" class=\"dataframe\">\n",
              "  <thead>\n",
              "    <tr style=\"text-align: right;\">\n",
              "      <th></th>\n",
              "      <th>pixel_0_0</th>\n",
              "      <th>pixel_0_1</th>\n",
              "      <th>pixel_0_2</th>\n",
              "      <th>pixel_0_3</th>\n",
              "      <th>pixel_0_4</th>\n",
              "      <th>pixel_0_5</th>\n",
              "      <th>pixel_0_6</th>\n",
              "      <th>pixel_0_7</th>\n",
              "      <th>pixel_1_0</th>\n",
              "      <th>pixel_1_1</th>\n",
              "      <th>...</th>\n",
              "      <th>pixel_6_6</th>\n",
              "      <th>pixel_6_7</th>\n",
              "      <th>pixel_7_0</th>\n",
              "      <th>pixel_7_1</th>\n",
              "      <th>pixel_7_2</th>\n",
              "      <th>pixel_7_3</th>\n",
              "      <th>pixel_7_4</th>\n",
              "      <th>pixel_7_5</th>\n",
              "      <th>pixel_7_6</th>\n",
              "      <th>pixel_7_7</th>\n",
              "    </tr>\n",
              "  </thead>\n",
              "  <tbody>\n",
              "    <tr>\n",
              "      <th>0</th>\n",
              "      <td>0.0</td>\n",
              "      <td>0.0</td>\n",
              "      <td>5.0</td>\n",
              "      <td>13.0</td>\n",
              "      <td>9.0</td>\n",
              "      <td>1.0</td>\n",
              "      <td>0.0</td>\n",
              "      <td>0.0</td>\n",
              "      <td>0.0</td>\n",
              "      <td>0.0</td>\n",
              "      <td>...</td>\n",
              "      <td>0.0</td>\n",
              "      <td>0.0</td>\n",
              "      <td>0.0</td>\n",
              "      <td>0.0</td>\n",
              "      <td>6.0</td>\n",
              "      <td>13.0</td>\n",
              "      <td>10.0</td>\n",
              "      <td>0.0</td>\n",
              "      <td>0.0</td>\n",
              "      <td>0.0</td>\n",
              "    </tr>\n",
              "    <tr>\n",
              "      <th>1</th>\n",
              "      <td>0.0</td>\n",
              "      <td>0.0</td>\n",
              "      <td>0.0</td>\n",
              "      <td>12.0</td>\n",
              "      <td>13.0</td>\n",
              "      <td>5.0</td>\n",
              "      <td>0.0</td>\n",
              "      <td>0.0</td>\n",
              "      <td>0.0</td>\n",
              "      <td>0.0</td>\n",
              "      <td>...</td>\n",
              "      <td>0.0</td>\n",
              "      <td>0.0</td>\n",
              "      <td>0.0</td>\n",
              "      <td>0.0</td>\n",
              "      <td>0.0</td>\n",
              "      <td>11.0</td>\n",
              "      <td>16.0</td>\n",
              "      <td>10.0</td>\n",
              "      <td>0.0</td>\n",
              "      <td>0.0</td>\n",
              "    </tr>\n",
              "    <tr>\n",
              "      <th>2</th>\n",
              "      <td>0.0</td>\n",
              "      <td>0.0</td>\n",
              "      <td>0.0</td>\n",
              "      <td>4.0</td>\n",
              "      <td>15.0</td>\n",
              "      <td>12.0</td>\n",
              "      <td>0.0</td>\n",
              "      <td>0.0</td>\n",
              "      <td>0.0</td>\n",
              "      <td>0.0</td>\n",
              "      <td>...</td>\n",
              "      <td>5.0</td>\n",
              "      <td>0.0</td>\n",
              "      <td>0.0</td>\n",
              "      <td>0.0</td>\n",
              "      <td>0.0</td>\n",
              "      <td>3.0</td>\n",
              "      <td>11.0</td>\n",
              "      <td>16.0</td>\n",
              "      <td>9.0</td>\n",
              "      <td>0.0</td>\n",
              "    </tr>\n",
              "    <tr>\n",
              "      <th>3</th>\n",
              "      <td>0.0</td>\n",
              "      <td>0.0</td>\n",
              "      <td>7.0</td>\n",
              "      <td>15.0</td>\n",
              "      <td>13.0</td>\n",
              "      <td>1.0</td>\n",
              "      <td>0.0</td>\n",
              "      <td>0.0</td>\n",
              "      <td>0.0</td>\n",
              "      <td>8.0</td>\n",
              "      <td>...</td>\n",
              "      <td>9.0</td>\n",
              "      <td>0.0</td>\n",
              "      <td>0.0</td>\n",
              "      <td>0.0</td>\n",
              "      <td>7.0</td>\n",
              "      <td>13.0</td>\n",
              "      <td>13.0</td>\n",
              "      <td>9.0</td>\n",
              "      <td>0.0</td>\n",
              "      <td>0.0</td>\n",
              "    </tr>\n",
              "    <tr>\n",
              "      <th>4</th>\n",
              "      <td>0.0</td>\n",
              "      <td>0.0</td>\n",
              "      <td>0.0</td>\n",
              "      <td>1.0</td>\n",
              "      <td>11.0</td>\n",
              "      <td>0.0</td>\n",
              "      <td>0.0</td>\n",
              "      <td>0.0</td>\n",
              "      <td>0.0</td>\n",
              "      <td>0.0</td>\n",
              "      <td>...</td>\n",
              "      <td>0.0</td>\n",
              "      <td>0.0</td>\n",
              "      <td>0.0</td>\n",
              "      <td>0.0</td>\n",
              "      <td>0.0</td>\n",
              "      <td>2.0</td>\n",
              "      <td>16.0</td>\n",
              "      <td>4.0</td>\n",
              "      <td>0.0</td>\n",
              "      <td>0.0</td>\n",
              "    </tr>\n",
              "  </tbody>\n",
              "</table>\n",
              "<p>5 rows × 64 columns</p>\n",
              "</div>\n",
              "    <div class=\"colab-df-buttons\">\n",
              "\n",
              "  <div class=\"colab-df-container\">\n",
              "    <button class=\"colab-df-convert\" onclick=\"convertToInteractive('df-e18074f1-4537-4765-99e6-0ca2c16a45bb')\"\n",
              "            title=\"Convert this dataframe to an interactive table.\"\n",
              "            style=\"display:none;\">\n",
              "\n",
              "  <svg xmlns=\"http://www.w3.org/2000/svg\" height=\"24px\" viewBox=\"0 -960 960 960\">\n",
              "    <path d=\"M120-120v-720h720v720H120Zm60-500h600v-160H180v160Zm220 220h160v-160H400v160Zm0 220h160v-160H400v160ZM180-400h160v-160H180v160Zm440 0h160v-160H620v160ZM180-180h160v-160H180v160Zm440 0h160v-160H620v160Z\"/>\n",
              "  </svg>\n",
              "    </button>\n",
              "\n",
              "  <style>\n",
              "    .colab-df-container {\n",
              "      display:flex;\n",
              "      gap: 12px;\n",
              "    }\n",
              "\n",
              "    .colab-df-convert {\n",
              "      background-color: #E8F0FE;\n",
              "      border: none;\n",
              "      border-radius: 50%;\n",
              "      cursor: pointer;\n",
              "      display: none;\n",
              "      fill: #1967D2;\n",
              "      height: 32px;\n",
              "      padding: 0 0 0 0;\n",
              "      width: 32px;\n",
              "    }\n",
              "\n",
              "    .colab-df-convert:hover {\n",
              "      background-color: #E2EBFA;\n",
              "      box-shadow: 0px 1px 2px rgba(60, 64, 67, 0.3), 0px 1px 3px 1px rgba(60, 64, 67, 0.15);\n",
              "      fill: #174EA6;\n",
              "    }\n",
              "\n",
              "    .colab-df-buttons div {\n",
              "      margin-bottom: 4px;\n",
              "    }\n",
              "\n",
              "    [theme=dark] .colab-df-convert {\n",
              "      background-color: #3B4455;\n",
              "      fill: #D2E3FC;\n",
              "    }\n",
              "\n",
              "    [theme=dark] .colab-df-convert:hover {\n",
              "      background-color: #434B5C;\n",
              "      box-shadow: 0px 1px 3px 1px rgba(0, 0, 0, 0.15);\n",
              "      filter: drop-shadow(0px 1px 2px rgba(0, 0, 0, 0.3));\n",
              "      fill: #FFFFFF;\n",
              "    }\n",
              "  </style>\n",
              "\n",
              "    <script>\n",
              "      const buttonEl =\n",
              "        document.querySelector('#df-e18074f1-4537-4765-99e6-0ca2c16a45bb button.colab-df-convert');\n",
              "      buttonEl.style.display =\n",
              "        google.colab.kernel.accessAllowed ? 'block' : 'none';\n",
              "\n",
              "      async function convertToInteractive(key) {\n",
              "        const element = document.querySelector('#df-e18074f1-4537-4765-99e6-0ca2c16a45bb');\n",
              "        const dataTable =\n",
              "          await google.colab.kernel.invokeFunction('convertToInteractive',\n",
              "                                                    [key], {});\n",
              "        if (!dataTable) return;\n",
              "\n",
              "        const docLinkHtml = 'Like what you see? Visit the ' +\n",
              "          '<a target=\"_blank\" href=https://colab.research.google.com/notebooks/data_table.ipynb>data table notebook</a>'\n",
              "          + ' to learn more about interactive tables.';\n",
              "        element.innerHTML = '';\n",
              "        dataTable['output_type'] = 'display_data';\n",
              "        await google.colab.output.renderOutput(dataTable, element);\n",
              "        const docLink = document.createElement('div');\n",
              "        docLink.innerHTML = docLinkHtml;\n",
              "        element.appendChild(docLink);\n",
              "      }\n",
              "    </script>\n",
              "  </div>\n",
              "\n",
              "\n",
              "<div id=\"df-332390e9-b31e-407b-b4c3-f8e8d2d547e0\">\n",
              "  <button class=\"colab-df-quickchart\" onclick=\"quickchart('df-332390e9-b31e-407b-b4c3-f8e8d2d547e0')\"\n",
              "            title=\"Suggest charts\"\n",
              "            style=\"display:none;\">\n",
              "\n",
              "<svg xmlns=\"http://www.w3.org/2000/svg\" height=\"24px\"viewBox=\"0 0 24 24\"\n",
              "     width=\"24px\">\n",
              "    <g>\n",
              "        <path d=\"M19 3H5c-1.1 0-2 .9-2 2v14c0 1.1.9 2 2 2h14c1.1 0 2-.9 2-2V5c0-1.1-.9-2-2-2zM9 17H7v-7h2v7zm4 0h-2V7h2v10zm4 0h-2v-4h2v4z\"/>\n",
              "    </g>\n",
              "</svg>\n",
              "  </button>\n",
              "\n",
              "<style>\n",
              "  .colab-df-quickchart {\n",
              "      --bg-color: #E8F0FE;\n",
              "      --fill-color: #1967D2;\n",
              "      --hover-bg-color: #E2EBFA;\n",
              "      --hover-fill-color: #174EA6;\n",
              "      --disabled-fill-color: #AAA;\n",
              "      --disabled-bg-color: #DDD;\n",
              "  }\n",
              "\n",
              "  [theme=dark] .colab-df-quickchart {\n",
              "      --bg-color: #3B4455;\n",
              "      --fill-color: #D2E3FC;\n",
              "      --hover-bg-color: #434B5C;\n",
              "      --hover-fill-color: #FFFFFF;\n",
              "      --disabled-bg-color: #3B4455;\n",
              "      --disabled-fill-color: #666;\n",
              "  }\n",
              "\n",
              "  .colab-df-quickchart {\n",
              "    background-color: var(--bg-color);\n",
              "    border: none;\n",
              "    border-radius: 50%;\n",
              "    cursor: pointer;\n",
              "    display: none;\n",
              "    fill: var(--fill-color);\n",
              "    height: 32px;\n",
              "    padding: 0;\n",
              "    width: 32px;\n",
              "  }\n",
              "\n",
              "  .colab-df-quickchart:hover {\n",
              "    background-color: var(--hover-bg-color);\n",
              "    box-shadow: 0 1px 2px rgba(60, 64, 67, 0.3), 0 1px 3px 1px rgba(60, 64, 67, 0.15);\n",
              "    fill: var(--button-hover-fill-color);\n",
              "  }\n",
              "\n",
              "  .colab-df-quickchart-complete:disabled,\n",
              "  .colab-df-quickchart-complete:disabled:hover {\n",
              "    background-color: var(--disabled-bg-color);\n",
              "    fill: var(--disabled-fill-color);\n",
              "    box-shadow: none;\n",
              "  }\n",
              "\n",
              "  .colab-df-spinner {\n",
              "    border: 2px solid var(--fill-color);\n",
              "    border-color: transparent;\n",
              "    border-bottom-color: var(--fill-color);\n",
              "    animation:\n",
              "      spin 1s steps(1) infinite;\n",
              "  }\n",
              "\n",
              "  @keyframes spin {\n",
              "    0% {\n",
              "      border-color: transparent;\n",
              "      border-bottom-color: var(--fill-color);\n",
              "      border-left-color: var(--fill-color);\n",
              "    }\n",
              "    20% {\n",
              "      border-color: transparent;\n",
              "      border-left-color: var(--fill-color);\n",
              "      border-top-color: var(--fill-color);\n",
              "    }\n",
              "    30% {\n",
              "      border-color: transparent;\n",
              "      border-left-color: var(--fill-color);\n",
              "      border-top-color: var(--fill-color);\n",
              "      border-right-color: var(--fill-color);\n",
              "    }\n",
              "    40% {\n",
              "      border-color: transparent;\n",
              "      border-right-color: var(--fill-color);\n",
              "      border-top-color: var(--fill-color);\n",
              "    }\n",
              "    60% {\n",
              "      border-color: transparent;\n",
              "      border-right-color: var(--fill-color);\n",
              "    }\n",
              "    80% {\n",
              "      border-color: transparent;\n",
              "      border-right-color: var(--fill-color);\n",
              "      border-bottom-color: var(--fill-color);\n",
              "    }\n",
              "    90% {\n",
              "      border-color: transparent;\n",
              "      border-bottom-color: var(--fill-color);\n",
              "    }\n",
              "  }\n",
              "</style>\n",
              "\n",
              "  <script>\n",
              "    async function quickchart(key) {\n",
              "      const quickchartButtonEl =\n",
              "        document.querySelector('#' + key + ' button');\n",
              "      quickchartButtonEl.disabled = true;  // To prevent multiple clicks.\n",
              "      quickchartButtonEl.classList.add('colab-df-spinner');\n",
              "      try {\n",
              "        const charts = await google.colab.kernel.invokeFunction(\n",
              "            'suggestCharts', [key], {});\n",
              "      } catch (error) {\n",
              "        console.error('Error during call to suggestCharts:', error);\n",
              "      }\n",
              "      quickchartButtonEl.classList.remove('colab-df-spinner');\n",
              "      quickchartButtonEl.classList.add('colab-df-quickchart-complete');\n",
              "    }\n",
              "    (() => {\n",
              "      let quickchartButtonEl =\n",
              "        document.querySelector('#df-332390e9-b31e-407b-b4c3-f8e8d2d547e0 button');\n",
              "      quickchartButtonEl.style.display =\n",
              "        google.colab.kernel.accessAllowed ? 'block' : 'none';\n",
              "    })();\n",
              "  </script>\n",
              "</div>\n",
              "    </div>\n",
              "  </div>\n"
            ],
            "application/vnd.google.colaboratory.intrinsic+json": {
              "type": "dataframe"
            }
          },
          "metadata": {},
          "execution_count": 3
        }
      ]
    },
    {
      "cell_type": "code",
      "source": [
        "X, y = load_digits(return_X_y=True)\n",
        "X.shape, y.shape"
      ],
      "metadata": {
        "colab": {
          "base_uri": "https://localhost:8080/"
        },
        "id": "NBfvYkH5LSEW",
        "outputId": "98073303-4b63-4d50-b739-6f08c05a2823"
      },
      "execution_count": 4,
      "outputs": [
        {
          "output_type": "execute_result",
          "data": {
            "text/plain": [
              "((1797, 64), (1797,))"
            ]
          },
          "metadata": {},
          "execution_count": 4
        }
      ]
    },
    {
      "cell_type": "markdown",
      "source": [
        "## Unique y values (i.e the labels)"
      ],
      "metadata": {
        "id": "_WAO-2Lz2bre"
      }
    },
    {
      "cell_type": "code",
      "source": [
        "set(y)"
      ],
      "metadata": {
        "colab": {
          "base_uri": "https://localhost:8080/"
        },
        "id": "dKP4ET432fn8",
        "outputId": "2d88064a-441a-4d7d-c750-086a2fa2e733"
      },
      "execution_count": 5,
      "outputs": [
        {
          "output_type": "execute_result",
          "data": {
            "text/plain": [
              "{0, 1, 2, 3, 4, 5, 6, 7, 8, 9}"
            ]
          },
          "metadata": {},
          "execution_count": 5
        }
      ]
    },
    {
      "cell_type": "markdown",
      "source": [
        "## Are the feature values scaled/normalized ?"
      ],
      "metadata": {
        "id": "zv_92Vp65AtP"
      }
    },
    {
      "cell_type": "code",
      "source": [
        "X.min(), X.max()"
      ],
      "metadata": {
        "colab": {
          "base_uri": "https://localhost:8080/"
        },
        "id": "qHL9vFmp374V",
        "outputId": "977944b8-801a-4faa-ad95-90cdb7f50d85"
      },
      "execution_count": 6,
      "outputs": [
        {
          "output_type": "execute_result",
          "data": {
            "text/plain": [
              "(0.0, 16.0)"
            ]
          },
          "metadata": {},
          "execution_count": 6
        }
      ]
    },
    {
      "cell_type": "markdown",
      "source": [
        "## Lets normalize the features."
      ],
      "metadata": {
        "id": "KZJPi6Ww5INQ"
      }
    },
    {
      "cell_type": "code",
      "source": [
        "from sklearn.preprocessing import MinMaxScaler\n",
        "feature_scaler = MinMaxScaler()\n",
        "X_scaled = feature_scaler.fit_transform(X)"
      ],
      "metadata": {
        "id": "SPsyFqcT3w2X"
      },
      "execution_count": 7,
      "outputs": []
    },
    {
      "cell_type": "code",
      "source": [
        "X_scaled.min(), X_scaled.max()"
      ],
      "metadata": {
        "colab": {
          "base_uri": "https://localhost:8080/"
        },
        "id": "fXfbExgX4A7A",
        "outputId": "e96f1520-4332-4d91-eb61-f0cbc729b579"
      },
      "execution_count": 8,
      "outputs": [
        {
          "output_type": "execute_result",
          "data": {
            "text/plain": [
              "(0.0, 1.0)"
            ]
          },
          "metadata": {},
          "execution_count": 8
        }
      ]
    },
    {
      "cell_type": "code",
      "source": [
        "# make sure X is scaled\n",
        "X = X_scaled"
      ],
      "metadata": {
        "id": "09P_wF7O4JQz"
      },
      "execution_count": 44,
      "outputs": []
    },
    {
      "cell_type": "markdown",
      "source": [
        "# Imporing and fitting the PCA model"
      ],
      "metadata": {
        "id": "NTRvB0ct3vbF"
      }
    },
    {
      "cell_type": "code",
      "source": [
        "# importing PCA module\n",
        "from sklearn.decomposition import PCA"
      ],
      "metadata": {
        "id": "5U4b3WgU4TiA"
      },
      "execution_count": 20,
      "outputs": []
    },
    {
      "cell_type": "code",
      "source": [
        "# fitting the PCA model\n",
        "pca = PCA(n_components=34)\n",
        "pca.fit(X)"
      ],
      "metadata": {
        "colab": {
          "base_uri": "https://localhost:8080/",
          "height": 74
        },
        "id": "_59q-IWf3q0e",
        "outputId": "8fa7c877-5c06-4a3f-a399-4e979489f4f1"
      },
      "execution_count": 21,
      "outputs": [
        {
          "output_type": "execute_result",
          "data": {
            "text/plain": [
              "PCA(n_components=34)"
            ],
            "text/html": [
              "<style>#sk-container-id-2 {color: black;background-color: white;}#sk-container-id-2 pre{padding: 0;}#sk-container-id-2 div.sk-toggleable {background-color: white;}#sk-container-id-2 label.sk-toggleable__label {cursor: pointer;display: block;width: 100%;margin-bottom: 0;padding: 0.3em;box-sizing: border-box;text-align: center;}#sk-container-id-2 label.sk-toggleable__label-arrow:before {content: \"▸\";float: left;margin-right: 0.25em;color: #696969;}#sk-container-id-2 label.sk-toggleable__label-arrow:hover:before {color: black;}#sk-container-id-2 div.sk-estimator:hover label.sk-toggleable__label-arrow:before {color: black;}#sk-container-id-2 div.sk-toggleable__content {max-height: 0;max-width: 0;overflow: hidden;text-align: left;background-color: #f0f8ff;}#sk-container-id-2 div.sk-toggleable__content pre {margin: 0.2em;color: black;border-radius: 0.25em;background-color: #f0f8ff;}#sk-container-id-2 input.sk-toggleable__control:checked~div.sk-toggleable__content {max-height: 200px;max-width: 100%;overflow: auto;}#sk-container-id-2 input.sk-toggleable__control:checked~label.sk-toggleable__label-arrow:before {content: \"▾\";}#sk-container-id-2 div.sk-estimator input.sk-toggleable__control:checked~label.sk-toggleable__label {background-color: #d4ebff;}#sk-container-id-2 div.sk-label input.sk-toggleable__control:checked~label.sk-toggleable__label {background-color: #d4ebff;}#sk-container-id-2 input.sk-hidden--visually {border: 0;clip: rect(1px 1px 1px 1px);clip: rect(1px, 1px, 1px, 1px);height: 1px;margin: -1px;overflow: hidden;padding: 0;position: absolute;width: 1px;}#sk-container-id-2 div.sk-estimator {font-family: monospace;background-color: #f0f8ff;border: 1px dotted black;border-radius: 0.25em;box-sizing: border-box;margin-bottom: 0.5em;}#sk-container-id-2 div.sk-estimator:hover {background-color: #d4ebff;}#sk-container-id-2 div.sk-parallel-item::after {content: \"\";width: 100%;border-bottom: 1px solid gray;flex-grow: 1;}#sk-container-id-2 div.sk-label:hover label.sk-toggleable__label {background-color: #d4ebff;}#sk-container-id-2 div.sk-serial::before {content: \"\";position: absolute;border-left: 1px solid gray;box-sizing: border-box;top: 0;bottom: 0;left: 50%;z-index: 0;}#sk-container-id-2 div.sk-serial {display: flex;flex-direction: column;align-items: center;background-color: white;padding-right: 0.2em;padding-left: 0.2em;position: relative;}#sk-container-id-2 div.sk-item {position: relative;z-index: 1;}#sk-container-id-2 div.sk-parallel {display: flex;align-items: stretch;justify-content: center;background-color: white;position: relative;}#sk-container-id-2 div.sk-item::before, #sk-container-id-2 div.sk-parallel-item::before {content: \"\";position: absolute;border-left: 1px solid gray;box-sizing: border-box;top: 0;bottom: 0;left: 50%;z-index: -1;}#sk-container-id-2 div.sk-parallel-item {display: flex;flex-direction: column;z-index: 1;position: relative;background-color: white;}#sk-container-id-2 div.sk-parallel-item:first-child::after {align-self: flex-end;width: 50%;}#sk-container-id-2 div.sk-parallel-item:last-child::after {align-self: flex-start;width: 50%;}#sk-container-id-2 div.sk-parallel-item:only-child::after {width: 0;}#sk-container-id-2 div.sk-dashed-wrapped {border: 1px dashed gray;margin: 0 0.4em 0.5em 0.4em;box-sizing: border-box;padding-bottom: 0.4em;background-color: white;}#sk-container-id-2 div.sk-label label {font-family: monospace;font-weight: bold;display: inline-block;line-height: 1.2em;}#sk-container-id-2 div.sk-label-container {text-align: center;}#sk-container-id-2 div.sk-container {/* jupyter's `normalize.less` sets `[hidden] { display: none; }` but bootstrap.min.css set `[hidden] { display: none !important; }` so we also need the `!important` here to be able to override the default hidden behavior on the sphinx rendered scikit-learn.org. See: https://github.com/scikit-learn/scikit-learn/issues/21755 */display: inline-block !important;position: relative;}#sk-container-id-2 div.sk-text-repr-fallback {display: none;}</style><div id=\"sk-container-id-2\" class=\"sk-top-container\"><div class=\"sk-text-repr-fallback\"><pre>PCA(n_components=34)</pre><b>In a Jupyter environment, please rerun this cell to show the HTML representation or trust the notebook. <br />On GitHub, the HTML representation is unable to render, please try loading this page with nbviewer.org.</b></div><div class=\"sk-container\" hidden><div class=\"sk-item\"><div class=\"sk-estimator sk-toggleable\"><input class=\"sk-toggleable__control sk-hidden--visually\" id=\"sk-estimator-id-2\" type=\"checkbox\" checked><label for=\"sk-estimator-id-2\" class=\"sk-toggleable__label sk-toggleable__label-arrow\">PCA</label><div class=\"sk-toggleable__content\"><pre>PCA(n_components=34)</pre></div></div></div></div></div>"
            ]
          },
          "metadata": {},
          "execution_count": 21
        }
      ]
    },
    {
      "cell_type": "code",
      "source": [
        "# perform copression\n",
        "X_compressed = pca.transform(X)\n",
        "X.shape, X_compressed.shape"
      ],
      "metadata": {
        "colab": {
          "base_uri": "https://localhost:8080/"
        },
        "id": "pILrlA_x4Kol",
        "outputId": "758eacdd-049c-4ce5-abb4-db881215c632"
      },
      "execution_count": 23,
      "outputs": [
        {
          "output_type": "execute_result",
          "data": {
            "text/plain": [
              "((1797, 64), (1797, 34))"
            ]
          },
          "metadata": {},
          "execution_count": 23
        }
      ]
    },
    {
      "cell_type": "code",
      "source": [
        "# plotting the per component variances\n",
        "fig = px.bar(x=np.arange(X_compressed.shape[1]), y=pca.explained_variance_ratio_)\n",
        "fig.show()\n",
        "print(np.sum(pca.explained_variance_ratio_))"
      ],
      "metadata": {
        "colab": {
          "base_uri": "https://localhost:8080/",
          "height": 559
        },
        "id": "njlfDxnKAzaO",
        "outputId": "e42927a9-4060-4a9f-db37-50d823e7fcbe"
      },
      "execution_count": 27,
      "outputs": [
        {
          "output_type": "display_data",
          "data": {
            "text/html": [
              "<html>\n",
              "<head><meta charset=\"utf-8\" /></head>\n",
              "<body>\n",
              "    <div>            <script src=\"https://cdnjs.cloudflare.com/ajax/libs/mathjax/2.7.5/MathJax.js?config=TeX-AMS-MML_SVG\"></script><script type=\"text/javascript\">if (window.MathJax && window.MathJax.Hub && window.MathJax.Hub.Config) {window.MathJax.Hub.Config({SVG: {font: \"STIX-Web\"}});}</script>                <script type=\"text/javascript\">window.PlotlyConfig = {MathJaxConfig: 'local'};</script>\n",
              "        <script charset=\"utf-8\" src=\"https://cdn.plot.ly/plotly-2.24.1.min.js\"></script>                <div id=\"07c78059-0b65-436c-bcbf-905eee22ce36\" class=\"plotly-graph-div\" style=\"height:525px; width:100%;\"></div>            <script type=\"text/javascript\">                                    window.PLOTLYENV=window.PLOTLYENV || {};                                    if (document.getElementById(\"07c78059-0b65-436c-bcbf-905eee22ce36\")) {                    Plotly.newPlot(                        \"07c78059-0b65-436c-bcbf-905eee22ce36\",                        [{\"alignmentgroup\":\"True\",\"hovertemplate\":\"x=%{x}\\u003cbr\\u003ey=%{y}\\u003cextra\\u003e\\u003c\\u002fextra\\u003e\",\"legendgroup\":\"\",\"marker\":{\"color\":\"#636efa\",\"pattern\":{\"shape\":\"\"}},\"name\":\"\",\"offsetgroup\":\"\",\"orientation\":\"v\",\"showlegend\":false,\"textposition\":\"auto\",\"x\":[0,1,2,3,4,5,6,7,8,9,10,11,12,13,14,15,16,17,18,19,20,21,22,23,24,25,26,27,28,29,30,31,32,33],\"xaxis\":\"x\",\"y\":[0.1481515738211788,0.13523675191284878,0.11706653762538939,0.0831652424048188,0.0573661316343272,0.048500901250824645,0.042528806102950685,0.036775151583037825,0.033233763965120705,0.03046634284088188,0.02359530509327489,0.02282285866229413,0.01821311837732999,0.01773373306073331,0.01458559814402197,0.013962722509035219,0.013100196856821263,0.012430182544867106,0.010203892883198283,0.009096043116116061,0.008907484899012509,0.007979842777574181,0.007884236109583146,0.007632102127314538,0.006902111610576179,0.005955962898778304,0.005767322826420224,0.0051124200237759815,0.005007902883616819,0.004424722044832364,0.003976728433908913,0.00377442269573028,0.003432670026012832,0.003302504647291428],\"yaxis\":\"y\",\"type\":\"bar\"}],                        {\"template\":{\"data\":{\"histogram2dcontour\":[{\"type\":\"histogram2dcontour\",\"colorbar\":{\"outlinewidth\":0,\"ticks\":\"\"},\"colorscale\":[[0.0,\"#0d0887\"],[0.1111111111111111,\"#46039f\"],[0.2222222222222222,\"#7201a8\"],[0.3333333333333333,\"#9c179e\"],[0.4444444444444444,\"#bd3786\"],[0.5555555555555556,\"#d8576b\"],[0.6666666666666666,\"#ed7953\"],[0.7777777777777778,\"#fb9f3a\"],[0.8888888888888888,\"#fdca26\"],[1.0,\"#f0f921\"]]}],\"choropleth\":[{\"type\":\"choropleth\",\"colorbar\":{\"outlinewidth\":0,\"ticks\":\"\"}}],\"histogram2d\":[{\"type\":\"histogram2d\",\"colorbar\":{\"outlinewidth\":0,\"ticks\":\"\"},\"colorscale\":[[0.0,\"#0d0887\"],[0.1111111111111111,\"#46039f\"],[0.2222222222222222,\"#7201a8\"],[0.3333333333333333,\"#9c179e\"],[0.4444444444444444,\"#bd3786\"],[0.5555555555555556,\"#d8576b\"],[0.6666666666666666,\"#ed7953\"],[0.7777777777777778,\"#fb9f3a\"],[0.8888888888888888,\"#fdca26\"],[1.0,\"#f0f921\"]]}],\"heatmap\":[{\"type\":\"heatmap\",\"colorbar\":{\"outlinewidth\":0,\"ticks\":\"\"},\"colorscale\":[[0.0,\"#0d0887\"],[0.1111111111111111,\"#46039f\"],[0.2222222222222222,\"#7201a8\"],[0.3333333333333333,\"#9c179e\"],[0.4444444444444444,\"#bd3786\"],[0.5555555555555556,\"#d8576b\"],[0.6666666666666666,\"#ed7953\"],[0.7777777777777778,\"#fb9f3a\"],[0.8888888888888888,\"#fdca26\"],[1.0,\"#f0f921\"]]}],\"heatmapgl\":[{\"type\":\"heatmapgl\",\"colorbar\":{\"outlinewidth\":0,\"ticks\":\"\"},\"colorscale\":[[0.0,\"#0d0887\"],[0.1111111111111111,\"#46039f\"],[0.2222222222222222,\"#7201a8\"],[0.3333333333333333,\"#9c179e\"],[0.4444444444444444,\"#bd3786\"],[0.5555555555555556,\"#d8576b\"],[0.6666666666666666,\"#ed7953\"],[0.7777777777777778,\"#fb9f3a\"],[0.8888888888888888,\"#fdca26\"],[1.0,\"#f0f921\"]]}],\"contourcarpet\":[{\"type\":\"contourcarpet\",\"colorbar\":{\"outlinewidth\":0,\"ticks\":\"\"}}],\"contour\":[{\"type\":\"contour\",\"colorbar\":{\"outlinewidth\":0,\"ticks\":\"\"},\"colorscale\":[[0.0,\"#0d0887\"],[0.1111111111111111,\"#46039f\"],[0.2222222222222222,\"#7201a8\"],[0.3333333333333333,\"#9c179e\"],[0.4444444444444444,\"#bd3786\"],[0.5555555555555556,\"#d8576b\"],[0.6666666666666666,\"#ed7953\"],[0.7777777777777778,\"#fb9f3a\"],[0.8888888888888888,\"#fdca26\"],[1.0,\"#f0f921\"]]}],\"surface\":[{\"type\":\"surface\",\"colorbar\":{\"outlinewidth\":0,\"ticks\":\"\"},\"colorscale\":[[0.0,\"#0d0887\"],[0.1111111111111111,\"#46039f\"],[0.2222222222222222,\"#7201a8\"],[0.3333333333333333,\"#9c179e\"],[0.4444444444444444,\"#bd3786\"],[0.5555555555555556,\"#d8576b\"],[0.6666666666666666,\"#ed7953\"],[0.7777777777777778,\"#fb9f3a\"],[0.8888888888888888,\"#fdca26\"],[1.0,\"#f0f921\"]]}],\"mesh3d\":[{\"type\":\"mesh3d\",\"colorbar\":{\"outlinewidth\":0,\"ticks\":\"\"}}],\"scatter\":[{\"fillpattern\":{\"fillmode\":\"overlay\",\"size\":10,\"solidity\":0.2},\"type\":\"scatter\"}],\"parcoords\":[{\"type\":\"parcoords\",\"line\":{\"colorbar\":{\"outlinewidth\":0,\"ticks\":\"\"}}}],\"scatterpolargl\":[{\"type\":\"scatterpolargl\",\"marker\":{\"colorbar\":{\"outlinewidth\":0,\"ticks\":\"\"}}}],\"bar\":[{\"error_x\":{\"color\":\"#2a3f5f\"},\"error_y\":{\"color\":\"#2a3f5f\"},\"marker\":{\"line\":{\"color\":\"#E5ECF6\",\"width\":0.5},\"pattern\":{\"fillmode\":\"overlay\",\"size\":10,\"solidity\":0.2}},\"type\":\"bar\"}],\"scattergeo\":[{\"type\":\"scattergeo\",\"marker\":{\"colorbar\":{\"outlinewidth\":0,\"ticks\":\"\"}}}],\"scatterpolar\":[{\"type\":\"scatterpolar\",\"marker\":{\"colorbar\":{\"outlinewidth\":0,\"ticks\":\"\"}}}],\"histogram\":[{\"marker\":{\"pattern\":{\"fillmode\":\"overlay\",\"size\":10,\"solidity\":0.2}},\"type\":\"histogram\"}],\"scattergl\":[{\"type\":\"scattergl\",\"marker\":{\"colorbar\":{\"outlinewidth\":0,\"ticks\":\"\"}}}],\"scatter3d\":[{\"type\":\"scatter3d\",\"line\":{\"colorbar\":{\"outlinewidth\":0,\"ticks\":\"\"}},\"marker\":{\"colorbar\":{\"outlinewidth\":0,\"ticks\":\"\"}}}],\"scattermapbox\":[{\"type\":\"scattermapbox\",\"marker\":{\"colorbar\":{\"outlinewidth\":0,\"ticks\":\"\"}}}],\"scatterternary\":[{\"type\":\"scatterternary\",\"marker\":{\"colorbar\":{\"outlinewidth\":0,\"ticks\":\"\"}}}],\"scattercarpet\":[{\"type\":\"scattercarpet\",\"marker\":{\"colorbar\":{\"outlinewidth\":0,\"ticks\":\"\"}}}],\"carpet\":[{\"aaxis\":{\"endlinecolor\":\"#2a3f5f\",\"gridcolor\":\"white\",\"linecolor\":\"white\",\"minorgridcolor\":\"white\",\"startlinecolor\":\"#2a3f5f\"},\"baxis\":{\"endlinecolor\":\"#2a3f5f\",\"gridcolor\":\"white\",\"linecolor\":\"white\",\"minorgridcolor\":\"white\",\"startlinecolor\":\"#2a3f5f\"},\"type\":\"carpet\"}],\"table\":[{\"cells\":{\"fill\":{\"color\":\"#EBF0F8\"},\"line\":{\"color\":\"white\"}},\"header\":{\"fill\":{\"color\":\"#C8D4E3\"},\"line\":{\"color\":\"white\"}},\"type\":\"table\"}],\"barpolar\":[{\"marker\":{\"line\":{\"color\":\"#E5ECF6\",\"width\":0.5},\"pattern\":{\"fillmode\":\"overlay\",\"size\":10,\"solidity\":0.2}},\"type\":\"barpolar\"}],\"pie\":[{\"automargin\":true,\"type\":\"pie\"}]},\"layout\":{\"autotypenumbers\":\"strict\",\"colorway\":[\"#636efa\",\"#EF553B\",\"#00cc96\",\"#ab63fa\",\"#FFA15A\",\"#19d3f3\",\"#FF6692\",\"#B6E880\",\"#FF97FF\",\"#FECB52\"],\"font\":{\"color\":\"#2a3f5f\"},\"hovermode\":\"closest\",\"hoverlabel\":{\"align\":\"left\"},\"paper_bgcolor\":\"white\",\"plot_bgcolor\":\"#E5ECF6\",\"polar\":{\"bgcolor\":\"#E5ECF6\",\"angularaxis\":{\"gridcolor\":\"white\",\"linecolor\":\"white\",\"ticks\":\"\"},\"radialaxis\":{\"gridcolor\":\"white\",\"linecolor\":\"white\",\"ticks\":\"\"}},\"ternary\":{\"bgcolor\":\"#E5ECF6\",\"aaxis\":{\"gridcolor\":\"white\",\"linecolor\":\"white\",\"ticks\":\"\"},\"baxis\":{\"gridcolor\":\"white\",\"linecolor\":\"white\",\"ticks\":\"\"},\"caxis\":{\"gridcolor\":\"white\",\"linecolor\":\"white\",\"ticks\":\"\"}},\"coloraxis\":{\"colorbar\":{\"outlinewidth\":0,\"ticks\":\"\"}},\"colorscale\":{\"sequential\":[[0.0,\"#0d0887\"],[0.1111111111111111,\"#46039f\"],[0.2222222222222222,\"#7201a8\"],[0.3333333333333333,\"#9c179e\"],[0.4444444444444444,\"#bd3786\"],[0.5555555555555556,\"#d8576b\"],[0.6666666666666666,\"#ed7953\"],[0.7777777777777778,\"#fb9f3a\"],[0.8888888888888888,\"#fdca26\"],[1.0,\"#f0f921\"]],\"sequentialminus\":[[0.0,\"#0d0887\"],[0.1111111111111111,\"#46039f\"],[0.2222222222222222,\"#7201a8\"],[0.3333333333333333,\"#9c179e\"],[0.4444444444444444,\"#bd3786\"],[0.5555555555555556,\"#d8576b\"],[0.6666666666666666,\"#ed7953\"],[0.7777777777777778,\"#fb9f3a\"],[0.8888888888888888,\"#fdca26\"],[1.0,\"#f0f921\"]],\"diverging\":[[0,\"#8e0152\"],[0.1,\"#c51b7d\"],[0.2,\"#de77ae\"],[0.3,\"#f1b6da\"],[0.4,\"#fde0ef\"],[0.5,\"#f7f7f7\"],[0.6,\"#e6f5d0\"],[0.7,\"#b8e186\"],[0.8,\"#7fbc41\"],[0.9,\"#4d9221\"],[1,\"#276419\"]]},\"xaxis\":{\"gridcolor\":\"white\",\"linecolor\":\"white\",\"ticks\":\"\",\"title\":{\"standoff\":15},\"zerolinecolor\":\"white\",\"automargin\":true,\"zerolinewidth\":2},\"yaxis\":{\"gridcolor\":\"white\",\"linecolor\":\"white\",\"ticks\":\"\",\"title\":{\"standoff\":15},\"zerolinecolor\":\"white\",\"automargin\":true,\"zerolinewidth\":2},\"scene\":{\"xaxis\":{\"backgroundcolor\":\"#E5ECF6\",\"gridcolor\":\"white\",\"linecolor\":\"white\",\"showbackground\":true,\"ticks\":\"\",\"zerolinecolor\":\"white\",\"gridwidth\":2},\"yaxis\":{\"backgroundcolor\":\"#E5ECF6\",\"gridcolor\":\"white\",\"linecolor\":\"white\",\"showbackground\":true,\"ticks\":\"\",\"zerolinecolor\":\"white\",\"gridwidth\":2},\"zaxis\":{\"backgroundcolor\":\"#E5ECF6\",\"gridcolor\":\"white\",\"linecolor\":\"white\",\"showbackground\":true,\"ticks\":\"\",\"zerolinecolor\":\"white\",\"gridwidth\":2}},\"shapedefaults\":{\"line\":{\"color\":\"#2a3f5f\"}},\"annotationdefaults\":{\"arrowcolor\":\"#2a3f5f\",\"arrowhead\":0,\"arrowwidth\":1},\"geo\":{\"bgcolor\":\"white\",\"landcolor\":\"#E5ECF6\",\"subunitcolor\":\"white\",\"showland\":true,\"showlakes\":true,\"lakecolor\":\"white\"},\"title\":{\"x\":0.05},\"mapbox\":{\"style\":\"light\"}}},\"xaxis\":{\"anchor\":\"y\",\"domain\":[0.0,1.0],\"title\":{\"text\":\"x\"}},\"yaxis\":{\"anchor\":\"x\",\"domain\":[0.0,1.0],\"title\":{\"text\":\"y\"}},\"legend\":{\"tracegroupgap\":0},\"margin\":{\"t\":60},\"barmode\":\"relative\"},                        {\"responsive\": true}                    ).then(function(){\n",
              "                            \n",
              "var gd = document.getElementById('07c78059-0b65-436c-bcbf-905eee22ce36');\n",
              "var x = new MutationObserver(function (mutations, observer) {{\n",
              "        var display = window.getComputedStyle(gd).display;\n",
              "        if (!display || display === 'none') {{\n",
              "            console.log([gd, 'removed!']);\n",
              "            Plotly.purge(gd);\n",
              "            observer.disconnect();\n",
              "        }}\n",
              "}});\n",
              "\n",
              "// Listen for the removal of the full notebook cells\n",
              "var notebookContainer = gd.closest('#notebook-container');\n",
              "if (notebookContainer) {{\n",
              "    x.observe(notebookContainer, {childList: true});\n",
              "}}\n",
              "\n",
              "// Listen for the clearing of the current output cell\n",
              "var outputEl = gd.closest('.output');\n",
              "if (outputEl) {{\n",
              "    x.observe(outputEl, {childList: true});\n",
              "}}\n",
              "\n",
              "                        })                };                            </script>        </div>\n",
              "</body>\n",
              "</html>"
            ]
          },
          "metadata": {}
        },
        {
          "output_type": "stream",
          "name": "stdout",
          "text": [
            "0.9682952883934987\n"
          ]
        }
      ]
    },
    {
      "cell_type": "code",
      "source": [
        "X.shape, X_compressed.shape"
      ],
      "metadata": {
        "colab": {
          "base_uri": "https://localhost:8080/"
        },
        "id": "LdePlM2u9Dho",
        "outputId": "f58c5243-e0d5-4076-e5fd-dd0545e356eb"
      },
      "execution_count": 29,
      "outputs": [
        {
          "output_type": "execute_result",
          "data": {
            "text/plain": [
              "((1797, 64), (1797, 34))"
            ]
          },
          "metadata": {},
          "execution_count": 29
        }
      ]
    },
    {
      "cell_type": "markdown",
      "source": [
        "# Model testing with raw data"
      ],
      "metadata": {
        "id": "qcaltgrg-23H"
      }
    },
    {
      "cell_type": "code",
      "source": [
        "model_repo = {\n",
        "    'lr': LogisticRegression(),\n",
        "    'rf': RandomForestClassifier(),\n",
        "    'gb': GradientBoostingClassifier(),\n",
        "    'svm': SVC()\n",
        "}"
      ],
      "metadata": {
        "id": "wa-2XNBW_pcQ"
      },
      "execution_count": 58,
      "outputs": []
    },
    {
      "cell_type": "code",
      "source": [
        "# testing a model type\n",
        "my_model = myClassificationModel(model_repo['svm'])"
      ],
      "metadata": {
        "id": "mPrW42YOA54T"
      },
      "execution_count": 65,
      "outputs": []
    },
    {
      "cell_type": "code",
      "source": [
        "cv_scores = my_model.cv_error(X, y)\n",
        "print('cross validation scores:', cv_scores)\n",
        "print('cross validation score (mean):', np.mean(cv_scores))\n",
        "print('cross validation score (std):', np.std(cv_scores))"
      ],
      "metadata": {
        "colab": {
          "base_uri": "https://localhost:8080/"
        },
        "id": "km_iBt4Z3Poc",
        "outputId": "afe23e1e-9fd8-4ab0-c37c-e2b7475687fd"
      },
      "execution_count": 66,
      "outputs": [
        {
          "output_type": "stream",
          "name": "stdout",
          "text": [
            "cross validation scores: [0.96327212 0.97996661 0.96494157]\n",
            "cross validation score (mean): 0.9693934335002782\n",
            "cross validation score (std): 0.007507366479260984\n"
          ]
        }
      ]
    },
    {
      "cell_type": "markdown",
      "source": [
        "# Model testing with compressed data"
      ],
      "metadata": {
        "id": "7F37eJKv_RVV"
      }
    },
    {
      "cell_type": "code",
      "source": [
        "cv_scores = my_model.cv_error(X_compressed, y)\n",
        "print('cross validation scores:', cv_scores)\n",
        "print('cross validation score (mean):', np.mean(cv_scores))\n",
        "print('cross validation score (std):', np.std(cv_scores))"
      ],
      "metadata": {
        "colab": {
          "base_uri": "https://localhost:8080/"
        },
        "id": "8e1e5wjw-QG2",
        "outputId": "b70ff8bc-93b3-4480-ce2e-b693fd35c123"
      },
      "execution_count": 67,
      "outputs": [
        {
          "output_type": "stream",
          "name": "stdout",
          "text": [
            "cross validation scores: [0.96828047 0.98163606 0.97161937]\n",
            "cross validation score (mean): 0.9738452977184195\n",
            "cross validation score (std): 0.005675035630042031\n"
          ]
        }
      ]
    },
    {
      "cell_type": "markdown",
      "source": [
        "Advantages:\n",
        "\n",
        "*   lower std\n",
        "*   half the data size (so gain in complexity both time and space\n"
      ],
      "metadata": {
        "id": "LGP-9kb4BkxM"
      }
    },
    {
      "cell_type": "markdown",
      "source": [
        "# How about plotting the data?\n",
        "- We will have hard time plotting 64D data matrix; right?"
      ],
      "metadata": {
        "id": "UT5mvTKqB4qI"
      }
    },
    {
      "cell_type": "code",
      "source": [
        "pca = PCA(n_components=2)\n",
        "X_2D = pca.fit_transform(X)"
      ],
      "metadata": {
        "id": "sjTGeBTF2i3F"
      },
      "execution_count": 68,
      "outputs": []
    },
    {
      "cell_type": "code",
      "source": [
        "X_2D.shape"
      ],
      "metadata": {
        "colab": {
          "base_uri": "https://localhost:8080/"
        },
        "id": "qjLyf0p3CJlO",
        "outputId": "d49440ed-06d8-4741-92d1-1b785062fd53"
      },
      "execution_count": 69,
      "outputs": [
        {
          "output_type": "execute_result",
          "data": {
            "text/plain": [
              "(1797, 2)"
            ]
          },
          "metadata": {},
          "execution_count": 69
        }
      ]
    },
    {
      "cell_type": "code",
      "source": [
        "df_2D = pd.DataFrame({'f1':X_2D[:,0],\n",
        "                      'f2':X_2D[:,1],\n",
        "                      'y':y})\n",
        "df_2D.head(2)"
      ],
      "metadata": {
        "colab": {
          "base_uri": "https://localhost:8080/",
          "height": 112
        },
        "id": "u3yw3g8ECMIJ",
        "outputId": "6fe1d394-b8ae-40c8-8edd-da5b7ae49654"
      },
      "execution_count": 78,
      "outputs": [
        {
          "output_type": "execute_result",
          "data": {
            "text/plain": [
              "         f1        f2  y\n",
              "0  0.061137  1.378117  0\n",
              "1  0.375737 -1.354664  1"
            ],
            "text/html": [
              "\n",
              "  <div id=\"df-fb4ce635-5bd3-41c4-af79-1607dee6e65b\" class=\"colab-df-container\">\n",
              "    <div>\n",
              "<style scoped>\n",
              "    .dataframe tbody tr th:only-of-type {\n",
              "        vertical-align: middle;\n",
              "    }\n",
              "\n",
              "    .dataframe tbody tr th {\n",
              "        vertical-align: top;\n",
              "    }\n",
              "\n",
              "    .dataframe thead th {\n",
              "        text-align: right;\n",
              "    }\n",
              "</style>\n",
              "<table border=\"1\" class=\"dataframe\">\n",
              "  <thead>\n",
              "    <tr style=\"text-align: right;\">\n",
              "      <th></th>\n",
              "      <th>f1</th>\n",
              "      <th>f2</th>\n",
              "      <th>y</th>\n",
              "    </tr>\n",
              "  </thead>\n",
              "  <tbody>\n",
              "    <tr>\n",
              "      <th>0</th>\n",
              "      <td>0.061137</td>\n",
              "      <td>1.378117</td>\n",
              "      <td>0</td>\n",
              "    </tr>\n",
              "    <tr>\n",
              "      <th>1</th>\n",
              "      <td>0.375737</td>\n",
              "      <td>-1.354664</td>\n",
              "      <td>1</td>\n",
              "    </tr>\n",
              "  </tbody>\n",
              "</table>\n",
              "</div>\n",
              "    <div class=\"colab-df-buttons\">\n",
              "\n",
              "  <div class=\"colab-df-container\">\n",
              "    <button class=\"colab-df-convert\" onclick=\"convertToInteractive('df-fb4ce635-5bd3-41c4-af79-1607dee6e65b')\"\n",
              "            title=\"Convert this dataframe to an interactive table.\"\n",
              "            style=\"display:none;\">\n",
              "\n",
              "  <svg xmlns=\"http://www.w3.org/2000/svg\" height=\"24px\" viewBox=\"0 -960 960 960\">\n",
              "    <path d=\"M120-120v-720h720v720H120Zm60-500h600v-160H180v160Zm220 220h160v-160H400v160Zm0 220h160v-160H400v160ZM180-400h160v-160H180v160Zm440 0h160v-160H620v160ZM180-180h160v-160H180v160Zm440 0h160v-160H620v160Z\"/>\n",
              "  </svg>\n",
              "    </button>\n",
              "\n",
              "  <style>\n",
              "    .colab-df-container {\n",
              "      display:flex;\n",
              "      gap: 12px;\n",
              "    }\n",
              "\n",
              "    .colab-df-convert {\n",
              "      background-color: #E8F0FE;\n",
              "      border: none;\n",
              "      border-radius: 50%;\n",
              "      cursor: pointer;\n",
              "      display: none;\n",
              "      fill: #1967D2;\n",
              "      height: 32px;\n",
              "      padding: 0 0 0 0;\n",
              "      width: 32px;\n",
              "    }\n",
              "\n",
              "    .colab-df-convert:hover {\n",
              "      background-color: #E2EBFA;\n",
              "      box-shadow: 0px 1px 2px rgba(60, 64, 67, 0.3), 0px 1px 3px 1px rgba(60, 64, 67, 0.15);\n",
              "      fill: #174EA6;\n",
              "    }\n",
              "\n",
              "    .colab-df-buttons div {\n",
              "      margin-bottom: 4px;\n",
              "    }\n",
              "\n",
              "    [theme=dark] .colab-df-convert {\n",
              "      background-color: #3B4455;\n",
              "      fill: #D2E3FC;\n",
              "    }\n",
              "\n",
              "    [theme=dark] .colab-df-convert:hover {\n",
              "      background-color: #434B5C;\n",
              "      box-shadow: 0px 1px 3px 1px rgba(0, 0, 0, 0.15);\n",
              "      filter: drop-shadow(0px 1px 2px rgba(0, 0, 0, 0.3));\n",
              "      fill: #FFFFFF;\n",
              "    }\n",
              "  </style>\n",
              "\n",
              "    <script>\n",
              "      const buttonEl =\n",
              "        document.querySelector('#df-fb4ce635-5bd3-41c4-af79-1607dee6e65b button.colab-df-convert');\n",
              "      buttonEl.style.display =\n",
              "        google.colab.kernel.accessAllowed ? 'block' : 'none';\n",
              "\n",
              "      async function convertToInteractive(key) {\n",
              "        const element = document.querySelector('#df-fb4ce635-5bd3-41c4-af79-1607dee6e65b');\n",
              "        const dataTable =\n",
              "          await google.colab.kernel.invokeFunction('convertToInteractive',\n",
              "                                                    [key], {});\n",
              "        if (!dataTable) return;\n",
              "\n",
              "        const docLinkHtml = 'Like what you see? Visit the ' +\n",
              "          '<a target=\"_blank\" href=https://colab.research.google.com/notebooks/data_table.ipynb>data table notebook</a>'\n",
              "          + ' to learn more about interactive tables.';\n",
              "        element.innerHTML = '';\n",
              "        dataTable['output_type'] = 'display_data';\n",
              "        await google.colab.output.renderOutput(dataTable, element);\n",
              "        const docLink = document.createElement('div');\n",
              "        docLink.innerHTML = docLinkHtml;\n",
              "        element.appendChild(docLink);\n",
              "      }\n",
              "    </script>\n",
              "  </div>\n",
              "\n",
              "\n",
              "<div id=\"df-00466c4b-e85c-4285-9af6-0f0aa60a4e0c\">\n",
              "  <button class=\"colab-df-quickchart\" onclick=\"quickchart('df-00466c4b-e85c-4285-9af6-0f0aa60a4e0c')\"\n",
              "            title=\"Suggest charts\"\n",
              "            style=\"display:none;\">\n",
              "\n",
              "<svg xmlns=\"http://www.w3.org/2000/svg\" height=\"24px\"viewBox=\"0 0 24 24\"\n",
              "     width=\"24px\">\n",
              "    <g>\n",
              "        <path d=\"M19 3H5c-1.1 0-2 .9-2 2v14c0 1.1.9 2 2 2h14c1.1 0 2-.9 2-2V5c0-1.1-.9-2-2-2zM9 17H7v-7h2v7zm4 0h-2V7h2v10zm4 0h-2v-4h2v4z\"/>\n",
              "    </g>\n",
              "</svg>\n",
              "  </button>\n",
              "\n",
              "<style>\n",
              "  .colab-df-quickchart {\n",
              "      --bg-color: #E8F0FE;\n",
              "      --fill-color: #1967D2;\n",
              "      --hover-bg-color: #E2EBFA;\n",
              "      --hover-fill-color: #174EA6;\n",
              "      --disabled-fill-color: #AAA;\n",
              "      --disabled-bg-color: #DDD;\n",
              "  }\n",
              "\n",
              "  [theme=dark] .colab-df-quickchart {\n",
              "      --bg-color: #3B4455;\n",
              "      --fill-color: #D2E3FC;\n",
              "      --hover-bg-color: #434B5C;\n",
              "      --hover-fill-color: #FFFFFF;\n",
              "      --disabled-bg-color: #3B4455;\n",
              "      --disabled-fill-color: #666;\n",
              "  }\n",
              "\n",
              "  .colab-df-quickchart {\n",
              "    background-color: var(--bg-color);\n",
              "    border: none;\n",
              "    border-radius: 50%;\n",
              "    cursor: pointer;\n",
              "    display: none;\n",
              "    fill: var(--fill-color);\n",
              "    height: 32px;\n",
              "    padding: 0;\n",
              "    width: 32px;\n",
              "  }\n",
              "\n",
              "  .colab-df-quickchart:hover {\n",
              "    background-color: var(--hover-bg-color);\n",
              "    box-shadow: 0 1px 2px rgba(60, 64, 67, 0.3), 0 1px 3px 1px rgba(60, 64, 67, 0.15);\n",
              "    fill: var(--button-hover-fill-color);\n",
              "  }\n",
              "\n",
              "  .colab-df-quickchart-complete:disabled,\n",
              "  .colab-df-quickchart-complete:disabled:hover {\n",
              "    background-color: var(--disabled-bg-color);\n",
              "    fill: var(--disabled-fill-color);\n",
              "    box-shadow: none;\n",
              "  }\n",
              "\n",
              "  .colab-df-spinner {\n",
              "    border: 2px solid var(--fill-color);\n",
              "    border-color: transparent;\n",
              "    border-bottom-color: var(--fill-color);\n",
              "    animation:\n",
              "      spin 1s steps(1) infinite;\n",
              "  }\n",
              "\n",
              "  @keyframes spin {\n",
              "    0% {\n",
              "      border-color: transparent;\n",
              "      border-bottom-color: var(--fill-color);\n",
              "      border-left-color: var(--fill-color);\n",
              "    }\n",
              "    20% {\n",
              "      border-color: transparent;\n",
              "      border-left-color: var(--fill-color);\n",
              "      border-top-color: var(--fill-color);\n",
              "    }\n",
              "    30% {\n",
              "      border-color: transparent;\n",
              "      border-left-color: var(--fill-color);\n",
              "      border-top-color: var(--fill-color);\n",
              "      border-right-color: var(--fill-color);\n",
              "    }\n",
              "    40% {\n",
              "      border-color: transparent;\n",
              "      border-right-color: var(--fill-color);\n",
              "      border-top-color: var(--fill-color);\n",
              "    }\n",
              "    60% {\n",
              "      border-color: transparent;\n",
              "      border-right-color: var(--fill-color);\n",
              "    }\n",
              "    80% {\n",
              "      border-color: transparent;\n",
              "      border-right-color: var(--fill-color);\n",
              "      border-bottom-color: var(--fill-color);\n",
              "    }\n",
              "    90% {\n",
              "      border-color: transparent;\n",
              "      border-bottom-color: var(--fill-color);\n",
              "    }\n",
              "  }\n",
              "</style>\n",
              "\n",
              "  <script>\n",
              "    async function quickchart(key) {\n",
              "      const quickchartButtonEl =\n",
              "        document.querySelector('#' + key + ' button');\n",
              "      quickchartButtonEl.disabled = true;  // To prevent multiple clicks.\n",
              "      quickchartButtonEl.classList.add('colab-df-spinner');\n",
              "      try {\n",
              "        const charts = await google.colab.kernel.invokeFunction(\n",
              "            'suggestCharts', [key], {});\n",
              "      } catch (error) {\n",
              "        console.error('Error during call to suggestCharts:', error);\n",
              "      }\n",
              "      quickchartButtonEl.classList.remove('colab-df-spinner');\n",
              "      quickchartButtonEl.classList.add('colab-df-quickchart-complete');\n",
              "    }\n",
              "    (() => {\n",
              "      let quickchartButtonEl =\n",
              "        document.querySelector('#df-00466c4b-e85c-4285-9af6-0f0aa60a4e0c button');\n",
              "      quickchartButtonEl.style.display =\n",
              "        google.colab.kernel.accessAllowed ? 'block' : 'none';\n",
              "    })();\n",
              "  </script>\n",
              "</div>\n",
              "    </div>\n",
              "  </div>\n"
            ],
            "application/vnd.google.colaboratory.intrinsic+json": {
              "type": "dataframe",
              "variable_name": "df_2D",
              "summary": "{\n  \"name\": \"df_2D\",\n  \"rows\": 1797,\n  \"fields\": [\n    {\n      \"column\": \"f1\",\n      \"properties\": {\n        \"dtype\": \"number\",\n        \"std\": 0.8408956475427753,\n        \"min\": -1.906220986375966,\n        \"max\": 2.032638213646779,\n        \"num_unique_values\": 1797,\n        \"samples\": [\n          0.9693044512117579,\n          -0.8327809096844176,\n          -1.3673276442065398\n        ],\n        \"semantic_type\": \"\",\n        \"description\": \"\"\n      }\n    },\n    {\n      \"column\": \"f2\",\n      \"properties\": {\n        \"dtype\": \"number\",\n        \"std\": 0.8034083397846646,\n        \"min\": -1.7437792978642268,\n        \"max\": 1.9139222584445523,\n        \"num_unique_values\": 1797,\n        \"samples\": [\n          0.5741765682325136,\n          0.42775617396952675,\n          0.11103981363971473\n        ],\n        \"semantic_type\": \"\",\n        \"description\": \"\"\n      }\n    },\n    {\n      \"column\": \"y\",\n      \"properties\": {\n        \"dtype\": \"number\",\n        \"std\": 2,\n        \"min\": 0,\n        \"max\": 9,\n        \"num_unique_values\": 10,\n        \"samples\": [\n          8,\n          1,\n          5\n        ],\n        \"semantic_type\": \"\",\n        \"description\": \"\"\n      }\n    }\n  ]\n}"
            }
          },
          "metadata": {},
          "execution_count": 78
        }
      ]
    },
    {
      "cell_type": "code",
      "source": [
        "fig = px.scatter(df_2D, x=\"f1\", y=\"f2\", color=\"y\",\n",
        "                 title=\"String 'y(digits)' values mean discrete colors\")\n",
        "\n",
        "fig.show()"
      ],
      "metadata": {
        "colab": {
          "base_uri": "https://localhost:8080/",
          "height": 542
        },
        "id": "XSVEcM_4DWyj",
        "outputId": "7f44b17d-da01-4b67-df90-26c9a18a52ef"
      },
      "execution_count": 77,
      "outputs": [
        {
          "output_type": "display_data",
          "data": {
            "text/html": [
              "<html>\n",
              "<head><meta charset=\"utf-8\" /></head>\n",
              "<body>\n",
              "    <div>            <script src=\"https://cdnjs.cloudflare.com/ajax/libs/mathjax/2.7.5/MathJax.js?config=TeX-AMS-MML_SVG\"></script><script type=\"text/javascript\">if (window.MathJax && window.MathJax.Hub && window.MathJax.Hub.Config) {window.MathJax.Hub.Config({SVG: {font: \"STIX-Web\"}});}</script>                <script type=\"text/javascript\">window.PlotlyConfig = {MathJaxConfig: 'local'};</script>\n",
              "        <script charset=\"utf-8\" src=\"https://cdn.plot.ly/plotly-2.24.1.min.js\"></script>                <div id=\"5f86d123-7fe2-47e9-8e2d-04dd5d4ab5f5\" class=\"plotly-graph-div\" style=\"height:525px; width:100%;\"></div>            <script type=\"text/javascript\">                                    window.PLOTLYENV=window.PLOTLYENV || {};                                    if (document.getElementById(\"5f86d123-7fe2-47e9-8e2d-04dd5d4ab5f5\")) {                    Plotly.newPlot(                        \"5f86d123-7fe2-47e9-8e2d-04dd5d4ab5f5\",                        [{\"hovertemplate\":\"f1=%{x}\\u003cbr\\u003ef2=%{y}\\u003cbr\\u003ey=%{marker.color}\\u003cextra\\u003e\\u003c\\u002fextra\\u003e\",\"legendgroup\":\"\",\"marker\":{\"color\":[0,1,2,3,4,5,6,7,8,9,0,1,2,3,4,5,6,7,8,9,0,1,2,3,4,5,6,7,8,9,0,9,5,5,6,5,0,9,8,9,8,4,1,7,7,3,5,1,0,0,2,2,7,8,2,0,1,2,6,3,3,7,3,3,4,6,6,6,4,9,1,5,0,9,5,2,8,2,0,0,1,7,6,3,2,1,7,4,6,3,1,3,9,1,7,6,8,4,3,1,4,0,5,3,6,9,6,1,7,5,4,4,7,2,8,2,2,5,7,9,5,4,8,8,4,9,0,8,9,8,0,1,2,3,4,5,6,7,8,9,0,1,2,3,4,5,6,7,8,9,0,1,2,3,4,5,6,7,8,9,0,9,5,5,6,5,0,9,8,9,8,4,1,7,7,3,5,1,0,0,2,2,7,8,2,0,1,2,6,3,3,7,3,3,4,6,6,6,4,9,1,5,0,9,5,2,8,2,0,0,1,7,6,3,2,1,7,3,1,3,9,1,7,6,8,4,3,1,4,0,5,3,6,9,6,1,7,5,4,4,7,2,8,2,2,5,5,4,8,8,4,9,0,8,9,8,0,1,2,3,4,5,6,7,8,9,0,1,2,3,4,5,6,7,8,9,0,1,2,3,4,5,6,7,8,9,0,9,5,5,6,5,0,9,8,9,8,4,1,7,7,3,5,1,0,0,2,2,7,8,2,0,1,2,6,3,3,7,3,3,4,6,6,6,4,9,1,5,0,9,5,2,8,2,0,0,1,7,6,3,2,1,7,4,6,3,1,3,9,1,7,6,8,4,3,1,4,0,5,3,6,9,6,1,7,5,4,4,7,2,8,2,2,5,7,9,5,4,8,8,4,9,0,8,9,3,0,1,2,3,4,5,6,7,8,9,0,1,2,3,4,5,6,7,8,9,0,1,2,3,4,5,6,7,8,9,0,9,5,5,6,5,0,9,8,9,8,4,1,7,7,3,5,1,0,0,2,2,7,8,2,0,1,2,6,3,3,7,3,3,4,6,6,6,4,9,1,5,0,9,5,2,8,2,0,0,1,7,6,3,2,1,7,4,6,3,1,3,9,1,7,6,8,4,3,1,4,0,5,3,6,9,6,1,7,5,4,4,7,2,8,2,2,5,7,9,5,4,8,8,4,9,0,8,9,8,0,1,2,3,4,5,6,7,8,9,0,1,2,3,4,5,6,7,8,9,0,1,2,3,4,5,6,7,8,9,0,9,5,5,6,5,0,9,8,9,8,4,1,7,7,3,5,1,0,0,2,2,7,8,2,0,1,2,6,3,3,7,3,3,4,6,6,6,4,9,1,5,0,9,5,2,8,2,0,0,1,7,6,3,2,1,7,4,6,3,1,3,9,1,7,6,8,4,3,1,4,0,5,3,6,9,6,1,7,5,4,4,7,2,8,2,2,5,7,9,5,4,8,8,4,9,0,8,9,8,0,1,2,3,4,5,6,7,8,9,0,1,2,3,4,5,6,7,8,9,0,1,2,3,4,5,6,7,8,9,0,9,5,5,6,5,0,9,8,9,8,4,1,7,7,3,5,1,0,0,2,2,7,8,2,0,1,2,6,3,3,7,3,3,4,6,6,6,4,9,1,5,0,9,5,2,8,2,0,0,1,7,6,3,2,1,7,4,6,3,1,3,9,1,7,6,8,4,3,1,4,0,5,3,6,9,6,1,7,5,4,4,7,2,8,2,2,5,7,9,5,4,8,8,4,9,0,8,9,8,0,1,2,3,4,5,6,7,8,9,0,1,2,3,4,5,6,7,8,9,0,1,2,3,4,5,6,7,8,9,0,9,5,5,6,5,0,9,8,9,8,4,1,7,7,3,5,1,0,0,2,2,7,8,2,0,1,2,6,3,3,7,3,3,4,6,6,6,4,9,1,5,0,9,5,2,8,2,0,0,1,7,6,3,2,1,7,4,6,3,1,3,9,1,7,6,8,4,3,1,4,0,5,3,6,9,6,1,7,5,4,4,7,2,8,2,2,5,7,9,5,4,8,8,4,9,0,8,9,8,1,2,3,4,5,6,7,8,9,0,1,2,3,4,5,6,7,8,9,0,1,2,3,4,5,6,7,8,9,0,9,5,5,6,5,0,9,8,9,8,4,1,7,7,3,5,1,2,7,8,2,0,1,2,6,3,3,7,3,3,4,6,6,6,4,9,1,5,0,9,5,2,8,2,0,0,1,7,6,3,2,1,4,6,3,1,3,9,1,7,6,8,4,3,1,4,0,5,3,6,9,6,1,7,5,4,4,7,2,8,2,2,5,7,9,5,4,4,9,0,8,9,8,0,1,2,3,4,5,6,7,8,9,0,1,2,3,4,5,6,7,8,9,0,1,2,3,4,5,6,7,8,9,0,9,5,5,6,5,0,9,8,9,8,4,1,7,7,3,5,1,0,0,7,8,2,0,1,2,6,3,3,7,3,3,4,6,6,6,4,9,1,5,0,9,5,2,8,2,0,0,1,7,6,3,2,1,7,4,6,3,1,3,9,1,7,6,8,4,3,1,4,0,5,3,6,9,6,1,7,5,4,4,7,2,8,2,2,5,7,9,5,4,8,8,4,9,0,8,9,8,0,1,2,3,4,5,6,7,8,9,0,1,2,3,4,5,6,7,8,9,0,1,2,3,4,5,6,7,8,9,0,9,5,5,6,5,0,9,8,9,8,4,1,7,7,3,5,1,0,0,2,2,7,8,2,0,1,2,6,3,3,7,3,3,4,6,6,6,4,9,1,5,0,9,5,2,8,2,0,0,1,7,6,3,2,1,7,4,6,3,1,3,9,1,7,6,8,4,3,1,4,0,5,3,6,9,6,1,7,5,4,4,7,2,8,2,2,5,7,9,5,4,8,8,4,9,0,8,9,8,0,1,2,3,4,5,6,7,8,9,0,1,2,3,4,5,6,7,8,9,0,1,2,3,4,5,6,7,8,9,0,9,5,5,6,5,0,9,8,9,8,4,1,7,7,3,5,1,0,0,2,2,7,8,2,0,1,2,6,3,3,7,3,3,4,6,6,6,4,9,1,5,0,9,5,2,8,2,0,0,1,7,6,3,2,1,7,4,6,3,1,3,9,1,7,6,8,4,3,1,4,0,5,3,6,9,6,1,7,5,4,4,7,2,8,2,2,5,7,9,5,4,8,8,4,9,0,8,0,1,2,3,4,5,6,7,8,9,0,1,2,3,4,5,6,7,8,9,0,1,2,3,4,5,6,7,8,9,0,9,5,5,6,5,0,9,8,9,8,4,1,7,7,3,5,1,0,0,2,2,7,8,2,0,1,2,6,3,3,7,3,3,4,6,6,6,4,9,1,5,0,9,5,2,8,2,0,0,1,7,6,3,2,1,7,4,6,3,1,3,9,1,7,6,8,4,3,1,4,0,5,3,6,9,6,1,7,5,4,4,7,2,8,2,2,5,7,9,5,4,8,8,4,9,0,8,9,8,0,1,2,3,4,5,6,7,8,9,0,1,2,3,4,5,6,9,0,1,2,3,4,5,6,7,8,9,0,9,5,5,6,5,0,9,8,9,8,4,1,7,7,3,5,1,0,0,2,2,7,8,2,0,1,2,6,3,3,7,3,3,4,6,6,6,4,9,1,5,0,9,5,2,8,0,1,7,6,3,2,1,7,4,6,3,1,3,9,1,7,6,8,4,3,1,4,0,5,3,6,9,6,1,7,5,4,4,7,2,2,5,7,9,5,4,4,9,0,8,9,8,0,1,2,3,4,5,6,7,8,9,0,1,2,3,4,5,6,7,8,9,0,1,2,3,4,5,6,7,8,9,0,9,5,5,6,5,0,9,8,9,8,4,1,7,7,3,5,1,0,0,2,2,7,8,2,0,1,2,6,3,3,7,3,3,4,6,6,6,4,9,1,5,0,9,5,2,8,2,0,0,1,7,6,3,2,1,7,4,6,3,1,3,9,1,7,6,8,4,3,1,4,0,5,3,6,9,6,1,7,5,4,4,7,2,8,2,2,5,7,9,5,4,8,8,4,9,0,8,9,8],\"coloraxis\":\"coloraxis\",\"symbol\":\"circle\"},\"mode\":\"markers\",\"name\":\"\",\"showlegend\":false,\"x\":[0.061137405664328126,0.375737365238368,0.3705269435750832,-0.99707345056854,1.4843987438094854,-0.8435202514487757,1.308609471137698,-0.2613671675376218,-0.34088288341673495,-0.30083522362892307,0.8055155665497044,0.14438160008293446,-0.20792659904740685,-1.4666437551552762,1.5812387752052277,-0.19723524375295284,1.012622013594255,0.3075686288219931,-0.2537551450009081,-0.8397735018604581,0.5086285685341075,-0.036682779439971426,-0.5861381103750156,-1.201514293998299,1.1354990310406652,0.34680186408712,1.3334215399802434,0.33933552532624384,-0.015462579436554413,-0.8766472381927997,0.18709324558893115,-0.82154189253946,-0.32531415209576026,-0.4565786017717,1.0974988657880556,-0.2635751805732766,0.46866071506049367,-0.8171423443589861,-0.058542306284618734,-1.2329486211430538,-0.344238222705488,1.6001652993175484,0.15583041404233705,0.34488068904225117,-0.2590337554048329,-1.2877665371881069,0.11462872562349434,0.060595842703030284,0.43839740665614846,0.36326060937677496,0.014398599555999371,0.35154563537763633,0.434138816444496,0.05244974658722388,0.6344575648720567,0.7401439146472969,0.18143612254990046,0.3425270085926448,1.4140490571383106,-1.258953078694853,-1.451390424503029,0.2734448652575256,-1.479658142911666,-1.4025254225029373,1.836486391149365,1.3499850964003481,1.324289896289913,0.9585321416940076,1.1943087345623655,-0.5799486585387912,0.44168238869322146,-0.4085043174514363,0.511697698932211,-1.1069490728769589,-0.0955985256082072,0.1382969315346073,0.08500072999284973,0.3535829869461006,-0.07837321278724384,0.06891489023003884,-0.053977559003469566,0.02746154690692669,1.3315836572086226,-1.2808605639060189,-0.3079547878388688,0.38050783265914745,0.43553286675047526,1.0825109444539407,1.3348783329971485,-1.4991171446400924,0.1455930500170873,-1.3734225293477615,-1.1891649641539306,0.6869958013927557,-0.07748982531024959,1.186917034223498,0.15053782311508526,1.4251436592584164,-1.561628873719619,1.1344767815272758,1.4582224239688653,0.6471984186589776,-0.03579556963434553,-1.028764263963349,1.5034102815913202,-0.9650585779819446,1.0696207842371004,-0.07031067429446897,0.21242675014765183,0.0038596813340611713,1.0642664602050642,1.1995950919097425,0.09522072940779128,-0.21275523228990256,0.15385815397494762,0.13198496950527983,-0.3461281811208925,-0.30549540900506966,-0.03668043530400088,-0.6871944578582011,-0.23204623041840639,1.0068374758216134,-0.1044590143746641,-0.3344067564968241,1.5664532639176074,-1.0099160206787827,0.595901514754503,0.04412792720658066,-0.8778590364369023,0.16509925086041316,0.26042794393788826,-0.18524009582809872,-0.6274154397130949,-1.2810433390732354,1.1108663624438162,-0.16509276660508554,0.9546582461202514,-0.004965788963964318,0.035159573912329004,-1.069074604196529,0.35536806765205575,0.18756449168716394,-0.7186237955921386,-1.6932679219516638,1.3605097384677365,-0.4038575589607223,1.136797651413885,0.20858519284749383,0.23698174165430883,-1.0753307647235233,0.6076085168246722,-0.11317469057076161,-0.8297297040327651,-1.087464640135675,1.203392063851991,0.3800637766103979,1.2234278944387296,0.16887958010635695,0.376864666618784,-0.9489520389406185,0.5233108156430827,-0.7649453512053719,-0.02160344783349629,0.22084111970621345,1.1791778714704269,0.06902334073427202,0.40422335188996994,-0.8362270432114511,0.18732577932703687,-0.9943814806073048,0.16344058879881027,1.5098036824670138,-0.12341166694920963,-0.04379541322380136,-0.2079033150750931,-1.3826127539429771,-0.24980361918095276,-0.05040771147612274,0.3239249699678265,0.7695092921271836,-0.6860384760407402,-0.709978619941941,-0.05091409536242539,-0.34707045755070015,-0.06355521095935647,0.7936110135860459,0.11654401193709431,-0.2926756538282404,0.9984951652781271,-1.6054310090646189,-1.2144521185963726,0.45990684601732124,-1.3237782344141982,-1.4495078107977637,1.224965644280257,1.464445911045459,1.174105845928747,1.233423077420173,1.2239390873915452,-0.591594204046616,0.41884051430007513,-0.09939131736365156,0.50342939581607,-0.8891520008698307,0.12230834181521266,-0.6241491483352332,-0.10489846119611909,-0.4335477294355931,1.0366342209985315,0.8258580820897374,0.10115816364158615,-0.04486105848877772,1.11890353509714,-1.3045629834360541,-0.4237693800154124,0.024759287747213244,0.252564179196304,-1.1745312388393645,-0.06182646143862005,-1.2793898242240471,-0.8327809096844176,0.43862372396164473,-0.17974180149818453,1.1740936011082632,0.11093357359938268,1.594369056047737,-1.141339157550495,0.2258759513417355,1.5129569538922507,0.16925301761399109,-0.10684723671019103,-0.8606573374303508,1.1420543219562402,-0.8182556268793226,0.695012531415602,0.5876912175623408,-0.09852479116329041,0.41194613762401877,1.2116613477869644,1.3214188336070951,0.2525920630235697,0.028117810832088034,0.23785292875144293,-0.15198108135978308,-0.3597825179643849,0.18608554082408357,0.09767199321211792,1.0671885336451368,0.031057998610548736,-0.08766428690678645,1.3800618855361206,-0.4806556081481671,0.6265680511457757,-0.13991505101242854,-0.20417801976977254,0.2868593227010719,0.4777875670776123,0.5428873984907776,-0.7174467211013258,-1.21806203801985,1.3104615039623309,-0.6668652926442854,0.9596666675302554,-0.4303528645222954,-0.42144932975644334,-0.5164747716181661,0.3322332234541386,0.4442891756919784,-0.7427782168555939,-0.991224583310205,1.6630529436095052,-0.48999751772236905,1.1844241719439936,0.0117886624882168,0.058041852186408956,-0.3275339148672463,0.15995482910410067,0.7426944776823474,-0.8930618793486904,-1.4049165056132327,1.474273130547213,-0.5431441238861486,0.9915702563731662,0.4248016876480045,0.393699463118463,-1.4051195767688776,0.4811288053623838,-1.020598675759461,-0.4363813059227837,-0.38749998880566977,1.1102086310224786,-0.47854142764296975,-0.06576702679513675,-0.8911587060809674,-0.19019464587872775,-0.9135010673359681,-0.08567811435832563,1.7618023671479472,0.7449662386094462,-0.3401053196724286,0.04870621090254389,-1.2835942852105025,-0.4374565949644526,0.49124612657616873,0.33907419398292166,0.11249644054813056,-0.8406019025542835,-0.6902083593621618,-0.3839897963934649,-0.4881799987972146,-0.9026451860561407,0.20217494895178068,0.3017498985250433,-0.8451189838779184,0.3849324237273064,-1.0727726480960091,-1.2923261761000762,0.0677494641844264,-1.584758029840183,-1.289589249250906,1.853375096150859,0.9292230187826014,0.9441316370001912,1.2062050409040244,1.6633715504832796,-0.22971646363139767,0.5771988919621155,0.343499713756046,0.2372170236992421,-0.4782630627103222,-0.3263329276307075,-1.0441457175176991,-0.29003296784525673,-1.006441325162635,0.35856821691361807,0.13573205659217577,0.37232031872302246,0.10600513756338877,1.2608068454196928,-1.2857062058619195,-1.0593044225568757,0.30834131268234993,0.004568282537722996,1.6494826715346942,0.9222317868064173,-1.5796652335066323,0.5425702011600135,-1.0477349741406108,-0.4413376926237575,0.48877630297423946,-0.20746036587309696,1.098469853969767,0.09087020825062145,1.9746750643084574,-0.688672610575652,0.07616217111307216,1.2925805174401344,0.1971451316578196,-0.5705319357811917,-1.375486354334596,1.1209182368322181,-0.5355942689438016,0.988132651414582,0.866580129578084,0.1934230901546666,-0.5082147162401284,1.905533820054522,1.773771164134208,-0.04974917540750044,-0.9060520781473416,-0.4431282273964475,-0.8015992014675233,-0.9231801630536414,-0.7904806539603308,0.2967327964956136,0.08134397294362515,-0.24589924977431585,1.8426242034423579,-0.41315989147767007,-0.3081450959718075,1.6979690051023224,0.2213555511374402,0.27942898656954557,0.14710313359384733,-0.019353431479288037,-1.4885683750314547,-0.175378734749926,-0.33828507910569194,-0.5748225979420442,-1.30737646449229,1.0918175499467586,-0.647654344097502,1.3485672682392498,0.13998940851092923,0.0035705346699424745,-1.1525281203696982,0.11796361922402614,0.1054614705189875,-0.48449302231129193,-1.0677307064721993,1.3349026567432078,-0.12384825083638601,0.9275711595800744,0.2076418590341091,-0.27845054751874126,-0.7993619680679009,0.4231314703248585,0.26648201914120256,-0.4462875481319584,-0.5034466122736626,1.3536744155722342,-0.05453449640719455,1.0493042555038603,0.38524815339743634,0.35741398331069013,-0.8493608336978382,0.588982428970469,-0.6036796710032444,-0.9501899086987787,-0.2185244426096672,0.6965587557158757,-0.7255053541963895,-0.014785079214682131,-0.7787191703697531,-0.2980275195449151,-1.2262969775813932,-0.3625180481683672,1.195470574482384,-0.08423533083692304,0.4880774891154592,-0.3302448137796315,-1.2696362985191267,-0.10602153931865199,0.050778429225844884,0.3359063916858529,0.4626283848022744,-0.7145971722014673,-0.7981819578625711,0.14870251720705785,-0.41572674383849917,-0.8239593763822973,-0.17041564058285374,-0.07379503304244445,-0.7595720502266298,0.7157638677896918,-0.8657249564944958,-0.678461124920986,0.40995855955899335,-0.8283379877481423,-0.7738783310462546,1.4093966082808616,1.260575417861967,1.0816241546512926,1.137486009384927,1.2296821314079902,-1.2473829282982314,-0.0601954607812715,-0.2523960094473219,0.2620541247227618,-0.7006509321427498,-0.35434882388286415,-0.4415003271855171,-0.4407299643599195,-0.6444162821173911,0.10689140054774082,0.1580400389870368,0.32747665424518135,0.5920388228674247,1.327423830553625,-0.826784654342346,-0.43900463211752183,0.7324453800939252,-0.38556978491330246,1.1096516815741617,0.8727996490083476,-0.7848714633024668,-0.07141675478423781,-1.0062767879465069,-0.6886310116580411,0.03885046201004128,-0.07833728143936323,0.8649905403606126,-0.10071868015384607,1.3288613025574827,-0.9639890769078692,0.05024898820309575,1.2757226269941695,0.314018586303177,-0.46804997256881575,-0.7250286691217906,1.3328726042301617,-0.3595299732808696,1.3109839706209072,0.14681658396554936,0.29866689203127733,-0.3404038871744198,0.9551956345146119,1.336532621804238,0.19007512459080234,-0.4772646178624348,-0.06247948809104973,-0.7742992712824326,0.1285677459108979,-0.014472388437550054,-0.12809364019693995,-0.615429943146954,0.5245236133857285,1.280175589108178,-0.17684330698387749,-0.009978143787308892,1.1234937607909259,-0.7283859329114837,0.18206342006825138,-0.3296313262880179,-0.8443013322077433,-0.5050961681977499,-0.07430750358247074,-0.1320307910287394,-0.22646982149572858,-0.8127160058669921,1.2206964252282317,-0.05938573663574036,0.9030816325078734,-0.4577509819888507,0.18707188843670639,-0.4193935160014653,0.1427463706927974,-0.08172367706233859,-0.3695268734813708,-1.174766800882383,0.7492610553717719,-0.5285394106089049,0.8357683951552505,-0.5362423411781936,0.19735917558992597,-0.4512396473930567,-0.25960916255829997,0.01313613195005388,-0.5299583124243534,-0.7575813110294121,1.4100611827579723,-0.78704744184195,0.8926823321389237,-0.1915454535497244,-0.2733234929960595,-0.80146305840236,0.1627178882750304,-0.3937439977307483,-0.7075208611842835,-0.618167934500149,0.9131112441482765,-0.6271913315627345,-0.23876106881472048,-1.136336937821069,0.36458522220461603,-0.4782556333918463,-0.035277253555567566,1.215872357131572,0.3912476682032108,0.19411083234721077,-0.33839750914845274,-1.1021156884680252,-0.748792693472765,0.676072159037385,-0.013321418230006057,-0.11578452773048713,-0.7045104972590338,-0.3622313671810535,-0.41580676787784665,0.18490679446097708,-0.8404947443267266,0.36591962712681114,0.5309625733983615,-0.4472333842193506,0.846790068966594,-0.9108669753825848,-1.169123936439552,-0.14897539819349317,-0.6464302663931779,-0.7065277920024983,1.5715780003932254,0.863542115963996,1.1953084150367788,0.84908218883096,0.9043580849194585,-0.7757987016160228,0.7246686590111356,-0.4863419708954004,0.21765267144515468,-1.1369168383239927,-0.3929706155865988,-0.6996561234484073,0.039155546619987505,-0.8603811385474739,-0.4087934860018284,0.018683083348159584,0.4309764660563959,-0.42525047555338147,0.947760013936594,-0.8689088942962135,-0.25754376574826715,0.23624807708936052,-0.20533602215641433,1.0451250130696723,1.1340740112191177,-0.5931417886635273,0.49090133329118546,-0.4978720348327542,-0.546819466013118,-0.06890607570250326,0.09345179428262841,1.0737401036297798,0.08776245437372959,1.2022346367106718,-1.2046163311535354,0.4036633947849238,1.2674584676778646,-0.3946354543528441,-0.6219242177145456,-1.0399976188595084,1.122804527115777,-0.5008693495107053,0.9784186860285585,-0.08043083738475101,-0.36496787043369633,-0.6168097303538578,1.018698497057169,1.5571946394761158,-0.2730890168438962,-0.553594113372498,0.3850288516403495,-1.2606777584774413,-0.5150515857566256,-0.06206810173224916,-0.4761498241130368,-1.227360380876015,-0.6795140248827156,0.7852019382029044,0.12015578019743199,0.15448327983342866,0.9636210741246033,-1.0459609728725692,-0.02296485373389448,0.09616917035668965,-0.7940704650569248,0.30993459625503095,0.34658304399281803,0.4978100425135643,-0.7743153476690465,-0.9877394719490403,1.4364075353743635,0.31469882561212037,1.0674253179404505,-0.1532463779174782,-0.37863351588128097,0.20066126627261957,0.0416414053764298,0.7429286190760456,-0.708188187866483,-1.1117670853817463,1.6879663590207712,0.14745827785143942,1.2376217039993163,0.07395896066006279,-0.06730272897946088,0.5124276582050279,0.613794519232256,1.0442503112506503,-0.9420106464375249,-0.933208691023935,1.103031233328833,0.027835453822481315,1.1018703762511568,0.22751318509085627,-0.19915158699071203,0.16671570346881293,0.4193915148340115,0.6952479658942443,1.1964581576468478,0.33823300005177814,1.342083257678068,0.5050889818785327,0.15966409406744206,0.06553977393810337,-0.2547959155064514,0.5614601245136616,-0.23515135206214835,1.142866099466568,0.528593223298678,0.9101011910297492,0.4836050598222519,-0.6815021116053194,0.22118789314755927,0.553077383057422,0.6214404854371497,0.08612479269355558,-0.97818847228661,-0.7423778763200404,0.2196421945621621,-0.0729575135441399,-0.6738231235755272,0.9890394860657762,-0.09274150994602655,-0.6261118731401858,0.7874458628517217,-1.4659327318869666,-1.3637414142748057,-0.006255418241571821,-1.4690195023016897,-1.4732566460428131,1.0166122132668367,1.0173818917661555,1.089298074229164,0.9978250271249288,1.3965842241362278,0.3489638654479862,0.8650369969198922,0.6601788965652152,0.6627562666509509,0.3327112118539407,0.7492792151635402,-0.9002090679982246,-0.21642919333981284,-0.4436118581894504,0.475455595365606,0.37395515727011236,-0.0831801906870876,0.20560096500624786,1.161508800619405,-1.2763627359608645,-0.6534434498162326,0.41725771683234797,0.6087878566858906,1.5835359228324881,1.2340022363143024,-1.2964490943266398,0.5314932469951527,-0.3503706920203332,0.11160933069447437,0.7633551727953811,0.45133202302381803,0.9981791924206481,-0.037045537838418,1.2404042682894911,-0.6184029541843762,0.8268570568806922,0.4611541477443957,0.38574999388360715,-0.20869191960983757,-1.102564382498341,1.4527330570686092,0.6297717005472928,1.1279014368843143,0.5609615771245655,0.3422944644901503,-0.0038904436277745163,0.9736878523750065,0.9778839462869862,0.8039435410190936,-0.9322979702807259,0.5753689418262546,-0.8888174758974573,-0.848630304390743,0.45103014817637005,-0.22119611468978198,0.602584896975819,0.23461239828201413,1.5280370546086175,-0.14725291822951922,0.4148717289747369,0.8542746969108069,0.16219089544362278,0.3303064726904,-0.06145902643704121,0.4971729217937341,0.2007158426568983,-0.07500462513535654,-0.0020449405807152657,-0.8196191875895003,-0.35215947212949306,1.7880294642817043,-0.362752747911825,0.6742014056594468,-0.2072356571389876,0.23346433152647422,-1.143288220095834,-0.06950389264885076,-0.2692492314046463,-0.9623409809154403,-1.3385598664554916,1.8706660224195222,-0.15674986441621155,0.6204104938566378,-0.27226772143812616,0.4970864296835021,-0.46600700271555356,0.3725825877838382,0.11778529986838228,-0.7077614496911049,-1.388673403997946,1.6635867740213102,-0.16630015115989555,0.9505344127590368,-0.522372843343947,0.601611383997678,-0.63733294247748,0.3965359584704347,-0.9396703078214639,-0.6055831146202582,0.4474127029026047,0.7685561610873641,-0.40248127433413516,0.372270523962109,-0.6572864229193226,-0.3674777775440795,-1.010327488605716,-0.32276458191168084,1.8514399501397316,0.7164435004858695,-0.5940415846544697,-0.25095432066573337,-1.2838105303811163,-0.17033335973237126,0.34753596576351753,0.23084757843953807,0.45131081319192445,-0.8782073482996893,-0.05787099757919651,0.07671092007872721,0.09338862750857478,-0.6783661366312782,0.3662689326298409,-0.06991019349152747,-0.5628363846533829,1.2641322165796354,-0.9158540436858541,-0.8128318582235575,-0.5429800707756612,-1.1447654907186344,-1.0410492048318183,1.7328274567823891,1.2597589815907757,0.916819642775996,0.7957005141417204,1.8214832120540034,-0.9383623772269819,-0.06020721745339269,-0.26539568363988864,0.5532079770789621,-0.7072749450884924,-0.3347872792952412,-0.3400612207466821,-0.42267214589553365,-0.28817942719305684,0.8211819069868115,-0.1771779758134778,0.5689372096061196,-0.408462922539574,1.2634470957183777,-1.3384354800380085,-0.7969859072351184,0.45986511171008837,-0.003122554110494745,1.6913900576235938,0.7560929170478627,-1.2264820388036328,0.49088109526038004,-1.335319363269345,-0.7304454221988728,0.42076644024960397,-0.1804014694364854,0.8861047247201619,0.07632859592065756,1.6298333411695873,-0.8796275739373968,0.20248197933203974,1.6268022536013458,-0.042384074617803226,-0.35465373708886466,-1.1028585933892885,1.1612903542638817,-0.979908128224633,1.1474920375365436,0.26158250631591395,-0.07872730211162833,0.020483854808038885,1.7232721536322149,1.8157467897510156,-0.22499216497885619,-0.35887440955351857,-0.12179170195758467,-0.47561840259845656,-0.8896055316359783,-0.6628882190599404,-0.5749348436056005,-0.83303708569628,-0.22380279617372587,1.8793571332259773,-0.11479231983767028,0.027406021910419267,1.7197307034213176,-0.6185879158588372,0.5505344637379695,0.04315956641659365,-1.2270857898837615,0.5879168527995483,0.10107787002960002,-0.8729619351207537,-1.1663025478952933,1.8471147084997603,-0.5820556835183932,0.862125381952662,0.3036971968395845,-0.5432014293707392,-1.1671555879353055,-0.08662584143642842,-0.20491983755152476,-0.5198878789674507,-1.092498841874237,1.880299665695036,-0.76513677258492,1.0539846291399757,-0.2581673925355985,-0.6156530505420659,-1.1796881699465462,-0.14477255541192285,0.4268018201384127,-1.0945078466298181,-1.2484597941926654,1.3637304195649163,-0.7708936838337188,0.7036109893973194,-0.017598259981877105,-0.4560100221526597,-1.3152388804826354,0.175616348992713,-1.4746463975155202,-0.8648663769159938,-0.7996306781938098,1.0227156864149125,-0.939627499222416,-0.2515803646399012,-1.0225807100021438,-0.7034277315729648,-1.2548644241204767,-0.42633562545766274,1.4727006967267535,-0.5200135970458153,0.1650884467377734,0.13490527846994824,-0.8893027430697242,-0.8631927964989563,-0.3557471277861426,-0.996271572243261,0.09721508510900377,-0.7209104672092956,-0.8769461761457779,-0.13711303396213878,-0.0633555242529545,-0.7916043905535604,0.6783188061542955,-1.2466803549278789,-1.1895329965669441,-0.01623574121587812,-0.81655660809316,-1.0168796693020243,1.1159347521621203,1.1376450065735806,0.942639744559187,0.8771363229683825,1.2961158477293953,-1.0852541461509362,-0.37242497966801874,-0.8446726257336767,-0.4876351196892432,-1.2659841909542666,-0.8533312754446506,-1.0605776107036062,-0.5183253685360079,-0.8366894268089922,-0.3029144422035017,-0.3065653749494517,-0.21280970079725772,-0.22347485942430953,0.7337164888237796,-0.40549415943410866,-0.8719368747412358,0.1618420272125657,1.4394810849841386,1.2344897389749172,-1.3154486812480337,-0.19481343832553558,-0.7315470490073832,-0.7902777038047408,-0.20336466984325577,0.28031139461316407,1.0832647088031073,-0.38087236739651525,0.9458457779221066,-1.0572959251623562,-0.2920102370547664,1.4165832951228172,-0.10858441684576382,-0.7548792480117188,-1.0376946316679165,1.0337928937315266,-1.3515748530614158,1.055469671419356,-0.07504347564415435,0.16512646034007156,-0.7838467889625707,1.7533666074975578,1.3751911769866938,-0.14359181796642875,-0.8211179686828064,-0.4787690485899707,-0.7576593837574584,-0.9656676941361014,-0.6907331578921911,0.028334036260564625,-1.0129632040514736,-1.012716243509947,0.8767511867679565,1.5569319999596896,-0.6270179981930823,-0.639267511936826,-0.5726990395946892,-1.274331753347912,-0.723319824809526,0.20285992596775604,0.3234095041487695,-0.7953355643420215,-1.4143248526672527,1.0909932625698369,0.07528848206088411,0.8425461495973541,-0.40474303775309534,0.08257455622136202,-0.8087155755633882,0.3873866968797793,0.44302871064774585,-0.6060587817882139,-1.4369200950571106,0.9640450764425301,-0.3344845305543586,0.7724498794335577,-0.061893173865316495,-0.7859839825604052,-0.6377808877422894,0.24144556748689963,0.38645633804359175,-0.9837098331914224,-1.5119416733682398,1.3727434417192017,-0.20121772372158106,1.1120103636871614,-0.12767877487675827,-0.5398807641770359,-0.7356734076239061,-0.04443699148780625,-0.4872713986002143,0.2164820189834378,0.04430156471100575,1.1619177285500166,0.5474957768074313,0.5787133952616811,-0.7949938186816987,-0.3110665560088824,-0.4973284448878996,-0.28123498884087567,1.1228753457145348,0.4528153354960113,-0.37904656309948204,-0.24247775137363592,-1.4809495694452763,-0.4107644354934298,0.6423109897469167,0.3962879944332399,0.1086226569909703,-0.4093780707213679,-0.6887711521778781,-1.0134640134092163,-0.15234302944521724,1.0031722977555324,-0.9373664230649971,1.0312626438630002,-1.8973900200986524,-1.7377242983116672,-0.3370767739450545,-1.7688804853274156,-1.7727118371520403,1.1647651801814543,0.9678998664721814,1.0735570554583806,1.2409463615910736,0.2964324855768948,-0.5491801309863148,0.27877800712444506,0.2715711183839898,-0.07088752577446668,-0.7246559804166168,0.09592231485358323,-0.8496932840874097,-0.6668568606083638,-1.1963302130760838,0.265246533840282,0.14184922647352477,0.6892361804047515,-0.34472545702067703,1.4693645774928221,-1.5273136277367578,-1.1356584485365715,0.17925581067635635,0.07559010137452792,1.1054914327952006,1.1170156146436134,-1.7115234899526177,-0.04351247806017751,-0.256078822750663,-0.4711829733867467,0.3580314247668316,0.03549183629703709,0.8684788535680216,-0.4390826887907005,1.2627648393322268,-1.6539740569700452,0.785006669053755,1.5095030481087703,0.09458908974216416,0.0646953042826135,-1.6971569776155633,1.2037548870643655,-1.167590033975044,0.9887565740216342,0.5817901161362936,-0.5541454257085856,0.2934977768863439,1.7095976181337977,0.9423183044515754,-0.20108392960830732,-1.0380331496320858,-0.37816156187062233,-0.4580707282065863,-0.6032828349827203,0.0941719538914928,-0.5486768806120916,-1.0593574619435435,0.6243308627263842,1.5413571860280697,-0.4238191177029587,-0.5563924327433545,1.1106501339115031,-0.1415640167496509,0.13158092597957927,-0.11739322201406203,-1.0877007938763257,-0.34212689735627216,0.15988443055504153,0.2977956257137306,-0.856378833353955,-1.6109275013718063,1.7112459367798196,0.023740393833157035,0.41320160495839575,-0.5043800173185099,-0.7642521008516444,-0.8106503511213801,0.2772347387940567,0.36030455364873176,-1.1180920188735266,-1.560893639981688,1.7977579738023808,-0.29486877977267023,1.1739958433915088,-0.13924392639868297,-0.06226512710909927,-1.0030662737611602,0.2669724172826567,0.4237816112243586,-1.2169803242797936,-1.5508866592382042,1.3681446760495217,-0.3370890856743831,1.1317341081021481,-0.07780270202792235,-0.3004933627908452,-0.3273023036305748,0.02329081812254292,-1.0381860654186035,-0.36915088574288635,-0.646086832826531,1.1187506884340581,-0.49030473777265526,0.3507148137365149,-0.9400160727742969,-0.32643681100381605,-1.0610487018932075,-0.24743184697073148,1.8331234243025352,0.20171294207526938,-0.42712486729345184,-0.458376399248295,-0.8495945185847124,0.5693536605613914,0.22293604345694434,0.11347027655714029,0.1314926769794873,-1.2516654757717403,-1.0410014542287136,-0.19450054315933424,-0.21318878501406027,-0.9142136375421575,0.15499532722625992,0.27498471361431354,-1.2591653546991741,0.9013944978153372,-1.5752285136051196,-1.509478393938111,-0.33396997171452875,-1.4591632870873221,-1.7304268681391355,1.7359179415919541,0.9853971830893277,1.1991661938730604,1.2213651283861653,1.7796652533664807,-1.0048191594759532,0.5005520963132863,0.4804151991788992,0.2806014424013906,-0.8283698647331825,-0.3538049858594611,-1.3302708291047274,-0.6453721847050858,-1.1247849891449313,-0.1402008888681214,-0.09312760970948981,0.1852492310458073,-0.5589325556812195,0.8739718201394286,-1.53179661276603,-1.2957651607314735,-0.09420136297705513,-0.2387084272503383,1.8440900385954015,0.9693044512117579,-1.426657771490912,0.5297359068030444,-1.3967712181822294,-1.1384699578424935,0.6432553840572927,-0.22529209289702393,1.0750353201592042,-0.736812010140985,1.811972018178611,-1.445546208649089,0.8308984193172347,1.9159560487605074,0.26879767825627104,-0.31390666447477267,-1.5264274629340902,0.9902859653446241,-1.315052699779662,1.055363200790793,0.7942747831594525,-0.6174737219392359,-0.09736956289111026,1.5520302013903235,1.9651626595347709,-0.10487434579861989,-0.6347537144244418,-0.15250944360625351,-1.0653660729351664,-1.4533963100660123,0.2913318737046457,-0.5429134947937769,-1.1028482368612238,-0.3235689109075727,1.8442182497125357,-0.045364788353384713,-0.3414175699274393,1.0689370245599146,-1.3718234606544013,-0.08228522423978021,-0.4219704080071501,-0.6881844645892531,-0.370317266850889,0.31551160688057733,-0.06857306741107391,-0.715734427161986,-1.906220986375966,1.5192310715622104,-0.509408381820797,0.5535497000231928,-0.38886934485478497,0.10480124751139666,-1.2076474642518447,0.657216798528858,0.3216977871899128,-0.5497797406879066,-1.558684997720203,1.3668809344132038,-0.7798794555069307,0.6403351164458577,-0.6040835847394348,0.014174449167126624,-1.256482273541971,0.475393899302756,-0.07744187069784483,-0.6576869332924239,-1.311736030390999,1.1680946077933052,0.14939599989893929,0.6974186374037554,-0.8539585888954353,0.10390290491800512,-1.1716313263536653,0.007620193943966294,-1.1210037124888772,-0.2983529284646854,0.09446725893780496,0.7549474881900402,-0.40754873064775593,0.6566946691048868,-0.8152830946905474,-0.1736677701460597,-0.662447134544941,0.09187818237958721,1.612864188737324,0.4907149284602708,-0.5972519071443524,-0.8479958262411602,-1.6378446014143773,-0.23179560851072073,0.19110662481607302,0.5608328692477077,0.561005087041751,-1.098870510518532,-0.8885277718430412,-0.6971310101696911,-0.1267945662705122,-0.7619711117000876,0.12686091294747676,0.16106976332561,-0.9317260972506264,1.0741542867540126,-1.1466772716969713,-1.4643110406800468,-0.43949233968639095,-1.5325599222294082,-1.7013132064766525,1.518905628980479,0.8358425895706344,0.8799541808157678,0.9424767519782198,1.8895603405412977,-0.8591619500628922,0.10805222066579429,0.045735632931597534,0.43204436845259697,-1.1365019254134314,0.5741260703175909,-1.1639025241734156,0.13065055566234027,-0.727138686969484,0.05787100315743871,0.0775421021486324,0.24768613692004635,-0.5936167939322317,0.851201041378804,-1.5631975259564355,-0.6895197421985171,-0.034284809798142586,-0.1950989034634782,1.6200593080313639,1.0260452812197296,-1.4031887492598731,0.01522994984592628,-1.4710444588353002,-1.1467865211147867,0.3260844534532716,-0.05023964648004393,0.7010572686358743,-0.5125150634587593,1.388578304410603,-1.3601946418371735,0.5277570077788688,1.8530709554081248,0.4735850096616424,0.6158745458163156,-1.6450706892274793,0.7212385549500118,-1.0457658420022462,0.7146895095602891,0.5713211625589977,-0.2324286083422125,-0.16860307799639837,1.6569774699868614,1.7384433348076058,-0.0004330856814331692,-0.8254689601007255,-0.5635025295249789,-0.9092986034575515,-0.9367775828345276,0.0033400780861688123,-0.48039441573250385,-1.1177879832094126,-0.7186117998024163,1.670689573132403,0.20061054294611583,0.15720420434964077,1.8635548065162544,-0.5629123811999707,0.6724150179419565,-0.27926419053041146,-0.3268451350544852,-0.2984906701712601,-0.6867618286523764,-1.0923435325580595,1.1628415078012446,-0.7378400936684522,0.8039831694102795,0.33821860676701176,-0.756983241228883,-1.2690819926113766,-0.11078397115264482,-0.3024661789559396,-0.49771690995094586,-1.307234108862249,1.6374483833054174,-0.7479754095137892,0.7004742817092672,0.09425275454508741,-0.5017261873619613,-1.3563031040026494,0.020809828627262963,-0.17510486955275656,-0.9428177045100694,-1.1756883627604582,1.5968152367612625,-0.46785939977888064,0.7899557151511013,0.11992553778210978,-0.534545980892297,-1.319809416677418,0.09189503543461815,-1.4594089927028735,-0.7964706979802375,-0.818026404752663,0.8852394211020966,-0.43319641469958814,0.0159144862744439,-1.209927297255114,-0.2318445728390131,-1.332970540179772,-0.4294292479201956,1.7299120580048495,-0.23423269376685985,-0.2309805998190533,0.32377524004353514,-1.3302529388249056,-0.9695340053863597,-0.34384774295227727,0.0382705194576367,-0.11922686924669469,-1.0710761376071294,-0.8889454800100697,0.3714170503101738,0.2984273083014439,-0.9534890970730795,-0.15075175195692136,-0.40515719436420794,-0.8162256461773347,0.7764552307151098,-1.1646922138476021,-1.2366483867964144,-0.10761499199536506,-1.439688579315049,-1.7111896949595777,1.497111670242437,1.0642836331838796,0.7520068029369541,1.1200264354147231,1.6489173111616335,-1.291355174515087,-0.3826402391109472,-0.3346143803579628,-0.1778112049438986,-1.5099396298264742,-0.17878232773668706,-0.8369175923118201,-0.43547065011310154,-1.008745422061609,-0.23469368073747612,0.06647520332674609,-0.3801792305386141,-0.3072106849267518,1.0025219055895316,-1.2803094702460045,-0.4946463080855426,-0.513477695522496,-0.14014916414865575,1.709842461486832,0.9502870987852782,-1.3712480516910077,-0.16515157255039037,-1.3069930668303844,-1.1038742094425402,-0.4083981221372343,-0.1694541211112078,0.976271151582885,-0.35172703098388697,1.6033647080426885,-1.1746373041741731,-0.2293633908624483,1.5427239174054161,-0.019636531360155054,-0.8569313973103834,-1.3673276442065398,1.125450500894263,-1.4687320753393331,1.1884752876475093,-0.4265230207751728,0.09286416479637015,-0.8708600406398839,1.7167098811186488,1.1771999650641252,-0.054114067301458936,-1.1652177511290245,-0.029070801650975937,-1.2129495162565762,-0.793388219656226,-0.26689787520113,0.1282746721703841,-1.3434645357477104,-0.5137895009118396,1.7151510570738082,0.08415355614144222,-0.2529393252617378,1.723731252347823,-0.9893468392318302,-0.07287140794100397,0.16134714902294023,-1.180650040308166,-0.031036196045539234,0.5669378849829138,0.48309396950022554,-0.3729737109448439,-1.0687460594271123,1.4068015620622336,0.1642943276799806,0.3643866901447417,-0.5758983287619137,0.5829827036122697,0.0779071627689448,0.542955117837157,0.46359306216380014,-0.23849274417523136,-1.1010896204164757,1.5137639799537337,0.7403177004202709,0.9443683791019124,-0.5213025903082725,0.5828942590920535,1.0072826865566098,-0.3256040903643008,-1.4801017429178973,1.3126053708152472,-0.04634102614900321,1.1280757478189098,-0.6108758975089936,0.14554975792762526,-0.31477734176864625,1.2680096423588871,-0.21311644094640314,-0.3017549029700715,-0.06313895238152148,1.061466071680975,0.4401404711738921,0.38757802365707184,0.00838308970987854,0.9371491343938144,-0.5361594038805233,0.23424315052920058,1.7354661630486454,0.23094313034107208,-0.05587490686844504,-0.2809976597206658,-1.1606664060568868,0.06659921131772285,0.4308286320566384,1.0356368596385275,0.11008930980590435,-0.38280414824962583,-1.1423834253145069,0.3671172709331392,0.1123198784717212,-0.27847367334040396,0.762301966275687,0.9076682378108709,-0.7149369561478783,0.9649958492209955,-0.861475358761319,-0.9853859930348868,-0.5348251966346773,-0.5649167550541541,-0.9671712813312622,1.0054693593882074,1.323644820780193,1.3346853645245575,1.0785203932521448,-0.5415657163189055,-0.03702301274761413,0.7476987918628463,0.030085326656196943,1.1668710837921832,-1.0636675255434014,0.445723190766675,-0.5626783307799362,0.12216529524591817,0.3371817899342695,0.503593808110152,-0.05431791202359932,0.9719154113076144,-1.4554300974336147,-0.6762384175375896,0.15825837034140533,0.01524474694585689,-0.1684077047317366,0.8703701873314122,-1.0544377131675902,0.3039446435463848,-0.8737237068892877,-0.02197227929683206,0.39175697517532504,-0.6684276958610961,1.1916392153824822,0.48789077629679584,1.8144406273774434,-1.3105331207028692,0.2368314243953505,1.6498430621997033,0.8282858585437786,0.2104630027971924,-1.227674728037155,1.0652675503921822,-1.1075072668912544,1.2743351512801027,0.1759193444328661,0.4890720254717341,-0.1384201624221233,1.5076178880727444,1.0159569490427558,0.19840375941809257,-0.2573427934728649,-0.9242218196540992,0.5905371581388068,-0.21960244384682806,-0.7773710226072923,0.47754797818829015,-0.5575486773243598,1.7023030834225583,-0.19418101479592312,0.2915072813872358,0.5041259731635446,-0.039888181099952916,0.5528593261136922,-0.02192018250230583,0.5983407953252613,-0.8828408531261676,-0.4176270569085344,0.8768337160184696,-0.27840283551188055,1.293493368827291,-0.26594842987027967,-0.6806325363653831,-1.3111352653218171,0.13442735051126686,0.9251196600292011,-0.1507268934885287,-0.5971166842910673,1.8552712112070833,0.11747130322052536,1.0554704128263594,0.5425285773406553,-0.1304557636204887,-1.1337163027034913,0.2738290832474978,0.6356532008039532,-0.5717840248243149,-0.3616546356070322,1.7763050943119176,0.5705358576806446,1.388279184212392,-0.08217219111671033,-0.356834749078393,-0.9854338302716819,0.13799098863536796,-0.9580966146173773,0.2141928158891997,0.08877174410445596,1.048092846816815,-0.17129403578313082,0.7765380367565262,-1.2883877107773292,0.027066142365860944,-1.3504011939689444,-0.11088284750432273,1.7326013496881323,0.4747025058572528,0.24445301887926335,0.1977993309410026,-0.33677828180447084,0.17094823101791282,0.5410670862140377,0.19378823070228224,0.3576127787879909,-0.40508814652800806,-0.8285010941044582,0.22748708196571715,-0.484865752887815,-0.530710636324092,0.6721998314795858,0.5312652521698998,-0.3458156899916686,1.2696053998149648,-0.6122904321723257,-0.38297079850897797,0.19266563528298256,0.026377407190889338,-0.5741086350934674,1.827376393263514,1.2992296444042652,1.1309821758752228,0.905400148179976,1.5884757577194406,-1.0476399057811812,0.5273689896815706,-0.16113346926504005,0.2337506737789319,-1.1914404657020663,0.5019462803711587,-0.7477300828087035,-0.030465256383222433,-0.9906795721037642,0.3762999549567014,0.024788948925991938,0.7400561855737223,0.6455507002588856,1.4492947760702153,-1.035155512602485,-0.6567757024613051,0.026110864096924865,0.7277711303780636,1.5523586828522888,1.4919969752920805,-1.2683822149170965,0.1600939713368408,-0.7009362488805585,-1.1116963828454547,0.9629448012489017,-0.11888407806896897,1.1356365877373857,-0.06643404074120159,1.8736124312370197,-0.12976443931897946,0.7147316079644617,1.5212009042780659,0.6941675534311935,-0.44872635105928194,-1.1961447362516826,1.4871177136969482,-1.1532555302526342,1.0538327711195383,0.5741508847133777,-0.30017123210328117,-0.009163101549495154,1.3113713893517869,1.7127859121018856,0.14496070692389065,-0.7394116517345779,-0.015391728469856378,-0.5373821876878468,-0.5719360993397281,0.16758188465858675,0.1790678627815138,-0.9799618604757547,-0.1781554094360691,1.8385422481057676,0.10553702803316019,-0.09938658626376494,2.032638213646779,-0.8230897129336091,0.5435023011776728,0.6131338144710918,-0.23032884612675633,-0.022902312899652805],\"xaxis\":\"x\",\"y\":[1.3781166667798364,-1.3546641735803613,-0.6759754027283505,0.2501903662057171,0.1687112301268528,0.5661888878775335,0.15007562308759423,-1.2531891770037558,0.07025014330510802,0.5379469918376644,1.0368833476659534,-0.7343345789407056,-0.3475574937924879,-0.0037759369022216313,0.09871510061928822,-1.0076731307024613,-0.2910783516069957,-0.7690392054677921,-0.8792423360492866,0.5813681080703345,1.2154212173741847,-0.6133810016105304,-0.5742545828564413,-0.15199623075792346,0.22220680144560995,-0.38798038080190506,0.32369609269587235,-0.24487239653968457,-0.47123928407861504,0.635438091562188,1.6914096294818883,0.5198684785593415,-0.1896837861243056,-0.6757917862552033,0.06529422193952951,-0.5927729972782494,0.9843971168892658,0.6318290523204063,-0.7300671530904033,0.9009080397814035,-0.6720143207192016,-0.040042479819013106,-0.5638760347831068,-0.5981177315817389,-1.0877999943240941,0.2924050955213178,-0.7453420087307918,-0.6524738441638273,1.2852805423214972,1.2962487445503297,-0.44426278368057015,-0.47821017273197186,-0.7584550868346567,-0.6267505708175588,-0.6084454608936152,0.8597475810432318,-0.5756736199153641,-0.7772991631114406,0.4762850731024845,-0.4222936922473888,0.33978086589121476,-0.6874555673478976,0.1669958820111693,-0.45158016428059383,0.37379766533140446,0.5179101274335343,0.3328960326476368,0.9137123060963821,-0.36288569531394027,-1.158553243860591,-0.7080920799083237,-0.3126661134535369,1.2417693148924316,0.8113375151343185,0.035387189607733766,-0.5845231597819632,-0.7521498215641157,-0.8696365482490178,1.4517986231867017,1.512414858854736,-0.9418907587906943,-1.1627082899322385,0.2534797743661904,-0.2076106699280266,-0.23163624888114662,-1.3156171861501622,-0.18706990577226493,-0.9096417850328631,-0.046111504933378726,0.025073865638800125,-0.8561994884075984,-0.8215310478173898,0.8609455534347571,-1.3285234929777088,-1.0323606785084631,-0.4574978646969456,-0.6727211642440902,-0.04176167514997936,-0.18624199007673609,-1.3317891724357986,0.23087760823808398,1.4102935859205425,-0.2657803701669728,-1.374341178912867,-0.09602451548388985,0.8190667161524161,-0.25058527558416505,-0.5298646107208851,-0.6545627256859161,-0.4667317803014674,-0.13175963596578089,0.10337968886269734,-1.0510737650353417,-0.7032789196790634,-0.7404251899002507,-0.48435422091884045,-0.27612169231853023,-1.0203934048868895,-0.9305624940316781,0.7925509586677573,-0.21944353269654526,-0.8005892604189948,-1.1862721078977103,-0.9650991828927733,-0.010947918763809303,0.050726555311068545,1.2916496377216913,-0.6942924362930846,0.9651167889479686,-1.030209379621028,1.513344836547188,0.33606028623121437,-0.5288392782637028,-0.6253558930945308,-0.9795399679551096,-0.8524455984986179,0.9192090908549214,-1.0763970454139553,-0.35851355406686863,0.9771160734258959,1.3556508148545559,-0.4032473034422278,-0.7311147144883612,0.18506797508331246,-0.7664223078364796,-1.1182961236045108,0.5030121331734889,-1.2640343218848604,-0.0705935472066244,0.86161431164883,1.344169517640015,-0.08624095134064184,-0.8387497673298815,-0.38409598071552736,-0.812206321046079,-0.18601635464709756,0.2364533101977869,-1.2108671334153105,-0.816642764984715,0.8128619175960916,1.3212165303400907,0.5895297004132342,-1.0073593525738815,-0.7424746269547128,0.8058504961044045,-0.687260209925787,1.4247793032345972,0.8612189042899755,-0.4561011168086666,0.8806043232639689,-0.8392853234322322,-0.9294488238980231,-0.12073326958777197,-1.1574375725288069,-1.1369444329543275,-0.41879509612629096,-0.6272311556513892,0.32225351974274036,1.5204398261168799,0.9754617592659613,-0.629758488063005,-0.7991734568359148,-1.3529570594572224,-0.07456616485645508,-0.38426661179758576,1.3111421792772857,-0.42239297901344536,-0.6172703862579315,0.6642444103633269,0.37566195896535526,-0.04345348060973937,-1.3526582596256969,0.3045596492649636,-0.029200572414919655,-0.7435998091658553,0.15402775040620256,0.6657645638267458,0.883871629222757,-0.9308783592964938,0.7094630707671523,-0.6223761455212425,-0.7993508303688158,1.519405792093144,0.4386725208821343,-0.3020770897392823,-0.7232523438811354,-0.961759509226012,-0.8126042349601688,0.9798123601493781,1.2430880632309282,-0.2877651741082307,-1.4682437284653262,0.8254844299413245,-0.2953525277057891,-0.636760033786287,-0.6411220892569488,-1.25149642818079,-0.4759880118022129,0.06310964486867113,-0.43699526338799777,0.42775617396952675,-0.690137640106692,-1.2821892063613007,-0.03404262704591253,0.15273164205202702,-0.8519793437391069,-0.4337305871404833,-0.6551168781832108,-0.9149381878820045,1.5962241696767716,-0.7200474109299512,-0.44520261040728754,0.7260973442700612,0.6732007246380588,1.2362876484447145,-0.5932303865797981,-1.2669487002464581,-0.6156447621795718,-0.9333460813558637,-1.0789669159822397,-1.2917855662847715,-0.03119153746041889,-1.0384106569136322,-0.12736417523436927,-0.7887237346950938,-0.7440149877714508,-0.8448136024490777,-0.560333481272322,-0.49758827064460254,-0.5346037714140122,-0.8963941230571664,0.8750684502822753,1.4285757758808861,-0.18959090418569816,0.5560449969282995,-0.3799210385233993,1.1784856478568397,-1.4145700168515354,-0.2748391775636241,0.26851419649845837,-0.1725008192155525,0.7574376422940408,0.8474765267130927,-1.2854065185933516,0.11814322635800784,-0.465612985455884,1.311452099207387,-1.2057608490203084,-0.4304144179427785,-0.009479602157857233,-0.34282701081706995,-1.0828836786625275,0.8069732831087579,-1.0688472896928902,-0.5881516992544992,-0.9943909224798969,1.3088795578011168,-1.1964156366514938,-0.32297936671611893,0.15234429695587526,-0.16649872638036647,0.14268167461226944,0.8249188034861265,-0.8666567833319349,-0.519218479367381,0.6812799977454952,1.1565301005518815,0.7761454147215483,0.3691470135271321,0.8097969509863823,0.4685218415445006,0.9166556509781998,1.234370472297749,0.5248520202601753,-0.11998439433710441,0.9810386717834061,-0.1151616895243753,0.14497291765262849,-1.3101615576739845,-1.0512339541132063,-0.7812633853620832,0.10348020394818942,0.12082245366840777,-1.1384330781198218,1.2667940968303644,1.5716020693395039,-0.12782697002518967,-0.34546839796136375,-1.107526618439984,0.3113150005933845,-0.5415965795574984,1.3515535180146165,-0.7202484106411177,-0.25360923830331933,0.7711542354069236,-0.18347444946837718,0.004373289029718311,-0.9760922069870813,0.17487660514947637,-0.005086730356369643,0.06679206945111812,0.9264755183841681,0.7941660292655427,0.54480806891708,0.05195513056759812,-0.6363913568509695,-1.3713359725913956,0.029702964593220946,1.2955862194194447,-0.7750204922087237,0.2062411013435474,-0.47464505514335636,0.28519719159064694,-0.23413032499778652,1.547449604936659,1.1352111271744771,-1.6381034094409401,-0.8677807446259171,0.15917573284319744,0.05595691314073921,-0.36403862583718655,-1.3377876561359103,-0.8493169864735066,-0.3652044360567589,0.9156714615749503,-0.03368526299484015,-1.5222599684782352,-0.1413235335692619,-0.27181712114241463,-1.4004577130019538,-1.0538734273381984,0.5598195120258028,-0.2974297877357855,0.37110520734764685,0.05114118280774151,-1.6056349956054328,-0.46120282140737356,1.2731117636904572,0.79894732831493,0.3523375124311954,0.9545935469486737,-0.7473522600890408,0.8570048653970345,-0.90997166162366,-1.0741379849574926,-0.05214012584225183,0.4583245017399602,-0.1581137643863825,-0.9427348046172934,-0.2949518314876081,0.08923854590047862,-0.4425242776943455,-0.7178010695018049,0.7670497181267937,-0.6875210587168537,0.0042607308536219005,-0.8966568396173512,-0.012568680309617651,0.5074757913192203,0.11990445297844339,-0.16891013003010666,0.5369027894772314,1.4939570336853663,-0.7656257344817639,-0.4614319824498983,0.0018937612934989956,1.6054295839402115,0.24009278927423172,-0.7335400829726535,0.24298502871866115,-0.32695320260459154,-0.12747536223531353,0.5571301542346606,-0.50013546273408,-0.05760342903592933,0.7211815119490891,1.6058706625695491,-0.6530863075420604,-0.13178915527094373,0.5619295991911469,-0.7122169051439821,-0.48929427700343425,0.43833643780966813,-0.3090593255763187,-0.49429651232904004,0.7622019194126112,1.5048923570755932,-0.49855202869092224,-0.4071979611008501,0.9140078096732345,-0.5921054340671794,-0.3642295440608266,0.5249172291891099,-0.28690569358431856,0.41394185915374704,0.8018838893380654,1.0636792285408185,0.7491271942835828,0.13633437757745662,0.036049813924665726,0.6560324624722427,0.4130115551334032,1.459784136441039,0.704673100440797,0.11412355273019993,0.8589916721479098,-0.10314482947504576,-0.4421767211520768,-0.1742022191486937,-0.0863627176276396,-0.9739814508616552,0.49468703265231023,-0.24775330157148645,-0.4935482736250643,1.6631979074979686,1.3413581985125576,-0.3974874105541166,-0.5261693847625896,-0.40855598731531617,0.21878976510277603,-0.2992058786622919,1.6907760408495114,-0.2747929033760049,-0.0937485399134977,0.36349771740908904,0.3518240810164853,0.6413305266910121,-0.02248028231823951,0.658859206049488,0.6079146952225368,-0.38243909101584966,0.6686754375173529,0.380407838372882,0.6289147283958044,-0.4817212961831287,0.8136437299195914,-0.47625573977636904,0.4743163106813279,1.212105079353882,0.5231852658842451,0.045847171542909675,-0.6642286275588722,-0.17462676420072248,-0.5511095085230832,1.5402306837144195,1.6934648254861504,-0.8334606851248624,0.05894902862556786,0.4181648862773441,0.5500633477725355,-0.23011683738506672,-0.8194459295012994,-0.8233481516914838,0.019654869077225936,0.5635345186026137,0.5224751188849234,-0.6462332890570123,0.26844652526220675,0.6300855102693023,-0.6862552283750286,-0.07954784717208167,0.7479599995486059,0.5812998760034321,-0.3624490927995028,0.24384378218003971,-0.36951472571993754,-0.5144379229715561,1.4070691677539457,-0.1679381572375084,0.456997589747622,0.5476766009077189,0.7131218152387384,-0.34963474695561536,-0.19700592801793915,-0.3589333954122637,-0.12315812068788351,-0.2295412169800652,-0.3402488120061336,-0.11311449346435132,-0.3080516127247818,0.5036170921010605,-0.44702424993541046,-0.6346603992784335,-0.62296272392943,-0.6596691850426648,0.9060800981165417,-0.12514210275110701,-0.18712726556182446,-0.2350305333996777,-0.5842839100994185,-0.7067774122908449,0.7016448460946229,1.4300236780587363,0.5724888044798653,0.8905726652165065,-0.09500144753804772,1.543550601162457,-0.4269585152148343,-0.24045263739374304,0.8972832979481824,-0.45283911524561415,0.43863562807748224,0.6325843164694368,-1.1222252138693505,-0.5095666974988486,0.7086630812811173,1.3989392457846948,-0.3270313258908199,-0.47552973978774965,0.4797753110789421,-0.490760503534718,0.9802131886436563,0.8055409613998163,-1.3016373712343343,-0.23782606696754197,0.963026786073468,1.2309921480480686,-0.500477936123495,-0.16486768492005802,0.17020399938259018,-0.17437679967402722,0.7723376921981865,0.9667960261218623,-0.898413006205284,-0.15275582900118279,0.6560419225008622,1.4232920839469128,-0.25085931490290925,0.24179925871050856,0.9783364390964633,0.6056709748764361,0.8423966740176458,1.5138181398587813,0.9022074877246574,-0.13795964598798074,0.44428158829477676,-0.3979868397272264,-0.226978102783644,-0.3478487164482115,-0.9819569119627756,-1.174699093991842,0.4189942146832645,0.8537915521822567,-0.3217281320370601,1.5693422668075876,1.8952261389315057,-0.4970315784932177,-0.3547004177268898,-0.9706483664495262,-0.02076206670281104,-0.3144312602273684,1.3444054491096573,-0.3231292681996996,-0.3763081116425779,0.4137127113050981,0.5533689306702476,0.7409266713310412,-1.1224507723989448,0.5385610247229493,0.46547402241563635,-0.2299783287759909,0.8449757331752836,0.6365290658772301,0.9165928491825931,-0.6071250094340493,0.9963970150334318,-0.19707894673999257,0.5055677420454474,1.1816377514721115,0.7372212292873587,0.927892328709124,-0.2485858738680467,-0.10471716372668682,-0.1845749973008508,1.2211936139992523,1.2927125114380276,-0.4631154106909153,-1.233298383719886,0.6688861612168019,0.40878539485293053,-0.09042352500073556,-0.39919245772207124,-1.23271810310715,-0.4603825718360527,0.25904217300871524,0.10043010532243499,-0.2464235402213224,0.3094946398067328,0.9927675444751856,-0.6605540904142242,-1.1705544832105816,0.7641718379018152,-0.43730696209151426,-0.1542401807613741,0.3413270558795746,-0.8046222205692065,-0.2531166326024758,1.2948004595208533,1.14829666141664,0.4643247693013245,0.632356282064269,0.7651681942638507,0.7673384435354101,-0.4443630167051669,-1.1922614927626038,0.47357486782110453,-0.011111561121189011,-0.13137957109130327,-1.0713215244384295,-0.5704483110335962,-0.19204630738727074,-0.5380877764147474,-0.32994463334224783,0.2353874313301348,-1.29166243466837,0.8908632649231943,0.9168410873369452,-0.40850264652176144,-0.1066220422224972,-0.6910763424171127,-0.2915066756297884,1.1542729883475615,1.598384488117518,-0.45781242738204414,0.8085541852370608,-0.4542466785351704,1.4888754163945097,-1.6887565989877331,-0.36102460911534706,0.01674434346642198,-0.7097684669401606,0.10870190865420325,0.6435981906267386,-1.0193225822599046,0.0787400649661058,0.21984364698956863,0.7588176416071367,-1.1144663895766558,-0.18999807204374275,0.6095720474701423,-0.65844163597775,-0.014366601154154198,0.7157863009260738,-1.1175871314677304,0.22026733293179407,0.12312365010150816,1.3292004895166236,-0.8406297648109571,-0.14851393595616877,-0.1361994739508525,-0.23534531691225755,-0.18987828989022304,0.7044407625675684,-0.7539729648554355,0.21162258077333565,0.4902829388661364,1.1968956607451184,0.19405739564633714,0.16524033002466976,-0.8762999957319106,0.9816583518199238,-0.5425077035246438,1.599516467600617,-0.22784913823103758,-0.16902011796030667,0.08658485185067054,0.014522072910329345,-0.6766443377545667,-1.4201825404929675,-0.45022751568843905,-0.4972827648282519,0.5091799490529739,-0.6323991774585322,-1.2576169877701464,1.3931659469437123,0.8496112411471001,-0.3069185807186264,-0.4866341692901381,-0.9488396963927686,-0.3975732801903692,-0.47956627699961196,0.5645181533083482,-1.51327025567714,-0.14865492992484494,1.0054654349188306,0.5799041809537422,0.11857489240930354,-0.9721921398163528,0.5561606359700051,-0.12094710602054493,-0.35183436858945216,0.7908329809044891,0.39129811175126455,0.8444917920218658,-0.4835018992322732,0.001383243501602948,-0.9782170148184733,0.33733633873489505,1.2535821714197095,-0.17605233530086153,0.08459519678491559,-0.5525072228009329,0.10845191787898759,-0.3747689506258321,1.1230591891650534,1.443917912514162,-1.618959645486824,-0.7806149542762685,0.837859307818055,0.2859582816836096,0.051516315963216264,-0.9882028151550236,-0.5872589695529643,-0.4858936513018341,0.3696536385398776,0.42091649647483775,-1.1243699726300542,-0.21159104106883175,0.22076712498595055,-1.2359995503868637,-0.8728285435381326,0.9102929389511051,-0.5654518881304069,-0.37915906564499147,0.01989737860774023,-1.1726087393701392,-0.7185399859305457,1.4106229572050546,0.4224242901172655,-0.4821407917760539,0.47375745561273847,-0.15494380692959112,0.34656020328736503,-1.4342566882579684,-0.7191377547698605,-0.708138069367195,-0.0773528539898468,-0.652730806699398,-0.4837693887633893,-0.5789040397148486,-0.6492724530483432,-0.43428670419258125,-0.5271126952815051,-0.5664962818422978,-1.172018764488164,-0.01222669379613535,-0.04851315783296552,0.09665631327171104,0.3102788502501529,-0.3615294056820239,-0.7107762581233669,0.30210662967888186,1.0975756561588885,0.263304857404512,-0.6719079253354092,-0.24807692443832827,1.2776735689028358,-1.715447008957727,-0.5689077671087092,0.11584771213391096,0.031224584449357898,-1.2429542147623698,1.2474178624901453,-0.954548929229676,-0.027311022851446286,0.9775770573139281,1.7286944040035592,-1.2727529864122409,-0.6422591263360926,-0.020699036061273147,-0.39170883505288256,-0.5339649892869843,1.2045413272606564,-1.2765570995405222,-0.2816975034402114,1.0044982840714918,1.1271810071468422,-1.6687032077408424,-0.3521311674641423,0.20213820680137579,0.05688223975928701,-0.6800514882912359,0.6082714655470673,-1.336844653117217,-0.5522749121291308,0.9234024494114305,1.5829834092196506,1.0756323870550235,-1.3280853999775637,-0.8131923482165897,1.055167607407764,-1.3366464850583724,1.484971323101256,0.6044064202034735,0.09610468402510683,1.0387524175896765,0.25123127075802715,0.07966834804488955,-0.6765417162015874,-1.0594009223816467,-0.9784135710196397,0.10596028155249514,-1.0265645913209842,-1.2569455076174287,1.1348522029833432,1.0964943286889972,-0.7385965645441324,0.2622476572977118,-1.0490460792467196,0.3273564275976847,-0.45559106103762814,1.3777668758211805,-0.278331864654304,-0.6013328087412733,0.2190116479263902,-0.3694866041493786,-0.3183833928495331,-1.1940946466823255,0.0553444916768048,-0.3339068196961633,-0.1278017133208079,0.6460874544764379,0.8217576175567601,1.0228592938244017,-0.18169227662129583,1.1566155677754357,-1.3431344887140524,-0.841401031853824,1.3918786063175106,0.7919056654365814,-1.0634646790683768,-0.3290108238770308,-0.40529217753150754,-0.2204342192623869,0.8030582434491657,1.3881905237262981,-0.9337723153134277,-1.1039684532694514,1.0058031643951497,0.07350963119579469,-0.7066413965496539,-1.3035602058054856,-1.0032112789036087,0.7600608422248818,1.0004477781919858,0.0029503838039630823,-1.6633984689407126,0.17873130923239336,0.6035741494838749,-1.4868460392153375,-1.2989049425970063,0.9386160549852018,-0.288249470994904,0.020528367521050646,0.1390459569062307,-1.6826567854113568,0.1266971899794867,1.4631227572956909,-0.9114774773832515,-0.03429856792869748,0.003828886422374342,0.9086340960160475,0.8798175325426537,-1.6372228298759806,-1.1302036690796444,-0.7829736316903897,-0.15812399616570152,-0.15876022509223914,-1.1443780067616316,-0.2654223114444277,-0.31862269125006076,-0.35872862733264355,-0.31021875516061226,-0.8986712392497442,-1.1811511900015936,0.9818754942771202,-0.8290313964520849,0.08763303892415766,-0.1884527650910532,0.45348028325424933,0.4745215068139487,1.0947776804009088,1.3018416912663728,-0.27401316459579744,0.8845476053185781,-0.527400204316507,-0.4578905951250124,-0.7235682520814478,0.6406389293597998,0.509359548007723,0.24869491539767102,1.0020467942372138,-0.5052357521894214,0.34006247311976356,0.7796274477211098,1.5896872077505813,-0.5148160000394946,-0.016902474904013406,0.5591977163778787,0.35505947673522004,0.8970607025756215,0.9428425837556038,-0.8373030919945493,0.05828007263870371,0.9829394306951782,1.4615744882250348,-0.42967760869871746,-0.6818630180755205,0.46889839870961414,0.3203027953085795,0.8919821671933424,0.8937118198957182,-0.7537173236508324,0.23271932449502553,0.6739220691077965,1.5422881487856634,0.9809059044105497,1.1109065998486436,0.8556694318843809,0.9019786908926838,0.9918510018905584,1.4889358448534407,1.0411975314064268,0.3468581118520643,0.9940189245689899,-0.09289674181191822,0.16422276879014128,0.047286678803583684,-0.8968896180486351,-0.7527263434545776,0.4370956326599439,1.1477659328907774,0.10712467850793958,-0.8580981894599168,-0.770909695868977,0.2615917527086047,-0.3540188356286155,1.4872169702277116,-0.07726764089017277,-0.6820986774133755,0.9691084750951146,0.3526441942464779,0.5947660699309082,-0.8338541853381722,0.7470886239901671,0.8481696162854973,0.3794716100730335,0.8603871080089855,0.8806224936917838,0.8191957065216858,-0.03713317742407532,0.775771444183023,-0.2541630627625041,0.7649254353512532,1.5809580102940015,0.7304037668408042,0.9726997813251109,-0.18694747157744893,0.4236985577537465,-0.6434519718908377,1.2957123755717581,1.539494958049168,-0.20673274978146697,-1.029690936504505,0.9321960532723305,0.937082299265425,-0.7392410094361843,-0.38670681126648354,0.7880817938797875,0.345068407122146,0.6239727759251723,-0.4044147368000631,0.7267385093064623,0.9520403785905087,-0.4118539255532841,-0.8651715878403555,0.6264976918466671,0.336355926401686,0.4180769987582989,0.3321451946277892,-0.13420173218319398,-0.16421737923965019,1.4897271842591875,0.2841008773602642,0.8306265649454693,0.8684587599221208,1.0045040738676176,0.9180591983173938,-0.13273207948146304,-0.7282239668302363,1.088626856343322,0.10609706570344409,0.2800740184339508,-0.8684433878660656,-0.3664356064010044,0.44755963274709826,-0.4385876946536324,-0.7199272001016865,1.2219134087469015,-0.8451648746465193,1.1170992288926713,0.8451494478334737,-0.2535581158424241,-0.26120928851433434,0.5243939456104761,1.338610251400952,0.09369409507854635,0.7621503799144628,0.329655795753517,1.3487674954242874,-1.0228144247271127,-0.30339516329559557,0.457258047108736,-0.147582006268526,-0.7389578068291435,0.9006353589267193,-1.0581048719317743,-0.23691008329768048,0.014058594780651702,1.6481577122671007,-1.1339746779235818,-0.48123950749262584,0.4405537352951185,0.056060780407718794,-0.6244658476174606,1.1136505024652772,-0.9445757410992904,-0.9166611731652184,0.5329859316347872,1.4130525461021424,-1.630951535284399,-0.15574661315316984,0.32923569971950395,0.0031347659207371543,0.44197877612329356,0.644763052731203,-0.8589824173503924,0.046291686091377314,0.5104011293319822,1.5205418337635535,0.046414075281829906,-0.3027730656622802,-0.4865957297240485,0.22441173352121913,-0.7103259252475977,1.57717389590078,0.4711282336059146,-0.052288319149867105,0.37388407252080263,-0.39804797660691865,0.4117505838710044,-1.3013150635048558,-0.9079725698342945,-0.8545898617719052,0.30271162305793853,-0.023494387084311636,-1.491188665645713,1.1306285845737363,1.2391029045521875,-0.8994071305273268,-1.0578274253372362,-0.4327320505866723,1.7652579168146416,-0.8443948464947597,-0.2887556864245332,0.2961825278060298,0.681863677824162,0.37179039083627535,-1.2142050908468411,0.6081888249065616,0.43053094066189035,-0.03393009007277501,0.6218018945689088,0.35980629306365725,0.5217637720883872,-0.4801778392179933,0.6935038742832194,-1.6440306802392788,0.05826760102312866,1.4275862687410978,-0.21466906505742178,-0.8011441262795826,-0.19869987673527853,-0.12525478996095993,0.05186399432885629,1.77992552583339,1.9139222584445523,-1.31539207215994,-0.9387689164864772,0.2805844697979458,0.42130473746149516,-0.47579908072863564,-1.5425971776716776,-0.9607030367861706,-0.14002865028315595,0.5886729771532783,0.4204404852850287,-1.404697100816809,-0.7716131798016865,0.313060288453296,-1.5195479760433461,-0.9459793821457284,0.6322713087356695,-0.23275563368995866,-0.45530887105305967,0.5227084846512102,-1.096738537254779,0.10542678656681623,1.4024109128849316,-0.17144126916220384,0.42063989206490865,0.3235105810994393,0.6832219815825455,0.8636352780315557,-1.458641332257603,-1.1297625779703178,0.7012509766290659,0.4862999538902377,0.17006677647984644,-0.8889932964607171,-0.4124263041560318,-0.6054948366054672,-0.6279165521470849,-0.22562790992286388,-0.5995989995305251,-1.080094600079901,0.1355553127629244,0.1237387772807531,0.13818690760222954,-0.3475081672075838,-0.2740335735981528,-0.4875992650575646,0.15056874207046603,1.6518254908843024,-0.7712833918542299,0.016147306742713127,-0.45834465757330123,1.4398029218358483,-0.9201194801008349,-0.44801364247184144,0.5029304249667911,0.02299280124436748,0.8798174060526488,1.1490685715236235,-1.1043931169394956,0.16661254781896628,1.1342020272678974,1.173589559926868,-0.6805050422211937,-0.749342704025032,0.2568887047011053,0.48825001576886956,0.7101411376829962,0.6997755458733314,-0.9889985163986162,-0.5851365613892474,0.752017212672905,1.1146485995671158,-1.0448640572908445,-0.7780615778678799,0.8179114042873163,0.019475694292727292,-0.683337822586773,0.6252770307082867,-0.914369131900078,-1.0048919674385615,0.8620497978100365,0.7874312995946197,0.9851844742784468,0.3538629487986664,-0.6086688311204843,0.6333092198576976,-1.0798764637824223,1.4627296109039063,0.8945152561590927,-0.48736194950094247,0.8174461827961412,-0.6267817971988845,0.5462473989358746,-1.4479544839046983,-0.9797060596184054,-1.1758974378888174,-1.556644011925441,0.5243596249099953,-1.0600028965086608,1.487633608346214,1.2715898626176125,-0.6425702013250112,-0.659499784269436,-1.2385477834021137,-0.8323377858599276,-0.48145871257901734,1.0718835690013861,-1.718488587694821,-0.5369530911214705,0.7620211301484957,0.9369623000739109,-0.2240108701948368,-1.1206670171366417,-0.03490491796381856,0.5739050279737952,0.6967686375369074,0.5801837622960001,0.576324248569895,0.50651366849644,0.1639918142355214,0.8239568678592969,-1.1850379115658178,-0.4799327140810992,0.8822497716965025,0.6618867895324317,0.5027587584993071,-0.673777674381281,-0.9744573970386232,-0.5044537775684891,0.7968700647744029,1.1283933242498037,-1.7313430266400558,-0.9809363497178136,0.6945479008370304,-0.5500350322110098,-0.4012898414389724,-1.2678015639201465,-1.029715064905274,-0.03369113663839546,0.5741765682325136,0.04987013408675072,-1.498494500092159,0.060348545621905544,0.8331048354858712,-1.3162154815391722,-1.138342391869364,0.4545539103738869,-0.8803903465593869,0.32124076012088865,0.16482770043561848,-0.623301906985415,0.3240437347025824,1.1937684952745795,-0.6369484558854234,-0.6789985207281397,0.7182011545115862,0.8490449834309134,0.5926254534685488,-0.33071463320712935,-0.9913929805817571,-0.5437542958715378,0.2984907521540795,0.41368926812196644,-1.0967596691332635,-0.07105764796343776,-0.40303638253236296,-0.37457175180624,-0.6084688508392544,-0.1423308028544731,-1.2247242120871278,0.6145895248433564,-0.5870845993406553,0.531369908875176,-1.1162306350130962,-0.8046781161173768,0.08719769686384912,0.9974709781761871,0.5170544017325275,-1.0773232203061363,0.6540113531029016,-0.8251813658957909,1.4930287675255938,0.1813153484095604,-0.2863971697061436,0.14665926562801943,0.5736713001553106,1.0729634329374427,-0.024796018130587148,-1.123449302273532,-0.6580934449519118,0.9932513306027915,1.4983253281257007,-1.115848688889131,0.022752482194632287,0.5451190628506981,1.0150063227671662,0.4314166239349009,0.051975653287484685,-0.9546428947217618,-0.8739936548573374,0.8655501318663206,1.7268984500742326,0.5198708281213839,-0.2939948408283235,0.4725313621276,0.359854033772276,0.27281264606067884,0.46029640615845535,-1.0182670876576243,-0.8710160624060176,0.9769175826507871,1.8585552380880497,0.9493386839729397,0.3137085340643076,0.2237431744805998,0.45985210421936507,-0.24300662521106223,0.8229988524941421,0.7995799324530265,-0.925382620812062,0.7725310925291985,-0.9041562831946028,0.6816296317524994,-1.563293594025353,-0.6839908770757821,-0.891095801765819,0.4424443364829978,0.40628419773296587,-1.7437792978642268,1.6344844192047834,1.5850881479564047,0.07932281327850749,0.6288216870469184,-1.0848380404380629,-0.8443602950973517,0.12662533778656318,1.5954430538358841,0.1393089918565152,0.18947166799518422,0.5985280311340353,-0.09784433554562877,0.5480197674255227,-1.0928342866904661,0.7282522511431962,0.9138093866290662,0.5596952394198237,0.5776173907693909,0.6019174865121941,0.5616508012846375,0.2948045252367719,0.779779063999933,-1.5798615854392901,0.8360568714531216,1.261999539712389,0.9389880067738091,0.3964407385903607,-0.4327331129969774,-0.46976936356941246,0.7594996877732656,1.4264578818980154,1.4423430606498227,-0.4826307372383842,-1.1857888051110772,0.16008646815443753,0.24509443377749418,-0.3150369155696681,-1.28221377404594,-1.1413834895529382,0.5416720867554113,0.1709899861125539,-0.44958059108525217,-1.6157519918422236,0.32303474357068895,0.993513832312386,-1.537622639420256,-0.8984507751359373,0.001285626935658395,-1.0110206307464178,0.7418869084943438,0.7056522506258109,-1.469143105730089,0.021982666839802444,1.6659631152549002,-0.29864200520279266,0.20814841198446382,0.3925225819806577,0.8225221587889887,0.8463990896563415,-1.220609982135539,-1.0316715433820134,-0.46342683963177095,0.6028622973927696,0.6004365645472458,-0.8726765075638064,0.4123328684208904,-0.7694882869766446,-0.12343766388993099,-0.12273501826255909,0.8478841023913877,-1.0573135625136239,0.6113647369792753,-0.08756636134939307,0.48180785668250364,-1.1718559516528366,-0.7236586648566963,0.4952120381257084,0.7552825756181067,1.0190943075699948,-0.7167422937190342,1.3113860431555981,-0.03040887115548355,-0.3417447186625178,0.3898008582511468,-0.22915223268936266,0.5285315437839784,1.0554141541754873,-0.6360594353663918,0.3264980870955362,0.7915086453365789,1.2423639962812458,0.35952980552286035,-0.3611159691900424,0.5544099540743123,-0.12900778895635964,0.8786661996965338,1.146477831582751,-0.5602773389241108,0.029904987819973583,0.8305809513765137,1.16142873347749,0.004876910577266435,-0.49859374716571453,0.12996976754224634,-0.2986478974493027,0.9849577460667985,1.1370569464875921,-0.7401968695133935,0.07083924509260285,0.8061423294159659,1.3146988984895518,0.9832219258579518,0.9228215962015858,0.8057684429702416,0.8866035380416178,0.8229580905921906,1.373898641331347,0.8739030739765729,0.3110199872733733,0.9410080139839515,0.20126606049580975,-0.017884091666695405,0.7347114376310824,-0.8318006253201885,-0.5614282368696866,0.29538738572202083,0.9699267084160164,0.7581157621191915,1.454103426741195,1.304133955949488,-0.7631631720266362,-0.5245831039332951,-0.6491629745441164,0.3229330674610411,-0.6120285580828377,1.8456744146517206,0.7322999400475442,-0.7135927745220977,1.4693001749728234,0.23819721656319287,0.47972951785253337,-0.9666728586550009,0.41067486701151246,0.4937045699932727,-0.22208806416481872,0.8631979550027191,1.1579202615265807,0.8229430231128764,-0.22290664412259675,0.9377311989045729,0.7399645608366165,0.7640901024271025,1.6062265643612215,0.8220494327855523,0.6947221908608354,-0.6980560031297864,0.06362232803008229,-0.6209092309178894,1.754045117893057,1.3275011011985824,0.9858465143552325,-0.5934876139358625,1.1939393648335255,0.2792624676110902,-0.1472936860807201,0.06966227276190141,-0.7900354954168821,-0.02670276028483713,1.0070816058126726,0.17188854013672847,0.060810889934180906,0.48661218502572784,0.9605904681742544,0.462231996340098,-0.636886778992403,1.029193601733827,-0.008508291770779693,-0.3153283078946372,0.5882555650723046,0.9710532976821297,-0.38938248165932193,1.4566978223470628,0.7563421525634823,0.11103981363971473,0.9355814493268451,0.7902986011386939,0.6965857291041894,0.36294271688201096,-0.46190280164387926,0.838186770049705,-0.07954062750649223,-0.49916745775545734,-0.7251151199202281,-0.6913850687749512,0.16258837467952855,-0.4613899558472513,-0.6780294105435191,0.7653341420740409,-0.5913324728401994,0.9720277523624941,0.33275653213781087,-0.23848692554965106,-0.07856893161391629,-0.5164549364947604,-0.4323290907380375,0.42761049118068056,1.2697233491974547,-0.4538980694564078,0.737016006427774,-0.22181493025604787,1.4855688139915189,-1.544094161303448,-0.42626686721414625,-0.3311219660166964,-0.16659262295040325,-0.5746160741085,-0.32887599044626953,-1.1672294408713317,-0.40969440604297297,0.2726229719220758,1.4504711017558096,-1.2547011194129314,0.18973468024448387,-0.21148234501458552,-0.13396002754440287,-0.5420508768663649,0.16492684630113041,-0.19473428743958252,1.1542668807811423,-0.9999206540790715,-0.4116474205775409,-0.29096838159054,-0.2067003407622563,-0.6854265349594214,-0.44078386692539107,-1.2916365592590737,-0.3476997635855832,0.05635580394214951,0.18735990425175203,0.14579703504101002,-1.2397066451784085,-0.5347535096800111,0.29864227235630847,-0.6763386724129639,1.5493833767474212,-0.7068333273824468,-0.45993930247717163,-1.1255592294400554,-0.002912906593820963,-0.04058774694199133,-1.6551932259465094,-1.0756551845133235,-0.9021188271891024,-1.4890293873192462,-0.014105489717650592,-1.5203281000901656,0.7161354930940185,0.8780396466572523,0.750032635083656,-0.673752049370399,-0.5406997031730407,-0.6259670232985742,0.21944772214497021,1.1810683871210153,-1.3610926249483453,-0.344792431635872,0.030847532284460053,-1.2896642660777566,-1.641650923212915,-1.0191601228373615,-1.2370653203641564,-1.1274411052579512,-0.44292076710357886,0.28224745854313893,-0.06984207293790273,0.30977291353296255,-1.0998298040242382,-0.06610621313162447,-1.5179172581217006,-0.8342566565568441,0.8745946037903991,0.8694849775275529,-0.4289232130610879,-0.022397705438778812,-0.4930644655267407,1.8292144137773088,-1.5112254785105008,-1.0853466359545751,0.2907289521232522,-0.4619101738055151,-0.6164203661781059,-1.454665302661492,-0.8944433047037302,-1.0620695907553788,-0.0016873755034230997,-0.06189372175644092,-1.7106327828432084,-0.25292628172441806,-0.7988342927850308,-1.6866128467926806,-0.9452667066775177,0.2914686616219512,-0.09085564345653373,0.14958019647641038,-0.23233668994261608,-1.7079269408889959,-0.28289918520169094,1.2717444253554682,-0.7679986748180829,0.08851798864562636,-0.25795972710637727,0.9174970814832168,-0.2712868620716205,-1.556733451558881,-1.1331855251480714,-1.0590573920349315,-0.07944017292674162,-0.666427279409969,-1.2001204268717862,-0.5054186995538795,-0.0904703799073945,-0.43818821485804144,-0.8165959497623846,0.09989058404132584,-0.7778106657483118,-0.8388877696134047,-0.056051804689644665,-0.9637189298101001,1.3305576481387829,-0.6155166229130089,-0.9663920817914281,-0.7418909991019599,1.3597047700190006,-0.6820731982440424,-0.5165451141563053,0.13213541076264967,-0.21764382441156715,0.6221533164463733,0.5303835533165248,-1.2765142938625553,-0.17212229481784344,0.9130766609875003,1.4834105503637771,-1.150293145387849,-0.7192342270820915,-0.843106166948391,0.15309834178154438,0.23201901843203074,0.8267389397785091,-0.773031177279283,-0.648451474069605,0.917466558434594,1.2931198937839181,-0.7622156097580556,-0.6729134955956092,-0.3165098693102572,0.22088119650109017,0.5407723324410583,0.6164897082220265,-1.380099162166756,-0.06382020289980553,0.8610641427449329,1.5077917477906377,0.8562026860021744,0.11017061200443422,0.10008069877582883,0.8431985103208793,-0.1393964326310238,1.2442038028567675,0.6513650542520331,0.28592366004270997,0.9674485951035809,-0.6079280022090494,0.04580695665614102,-0.8574088672622405,-0.8704464286667215,-0.925792451790181,-1.2990697081512894,0.3217876827929402,-1.3493355575409474,1.1824400287404722,1.4478978785002041,0.13833722056571526,-0.6651745916211885,-1.0972621910841494,-0.703559007517043,-0.2362074340412883,0.6417959687865348,-1.095190210287825,-0.2480077890678074,0.6696467840325024,-0.6885266576139809,-0.927236456207086,-1.07232140118781,0.4826503257214736,-0.9060791149480119,-0.1282746314546133,0.3048586080136247,0.5869573070671111,1.234146915171524,-0.07969775525352556,1.051817830060673,-1.2255153906741296,0.41580428255391466,1.0796109313700137,0.7493204095606473,0.7483874156361062,-0.812984382139184,-0.12199044418975645,-0.585402424142575,1.1432318746462857,1.1448129292576492,-0.7758131482643934,-1.0059819959251475,0.44383306455864363,-0.902918550697352,-0.5243342902769244,-1.1437372402042902,-1.2078723607250983,0.3214709951248171,0.18776126481018032,-0.3773008322824663,-1.4400457605231771,-0.025564360718962023,0.9266912735396722,-1.0621007229783117,-1.2369047306303302,0.743652555220865,-0.7765646351804805,0.6687690727004126,-0.2481694779295598,-0.8926987771630073,0.13870918613471708,0.9912208254351415,0.8590212826333161,-0.1446426686306054,-0.1505857599370848,0.4499077994572245,0.9210323641927153,-0.9483156253474024,-1.4342202560921522,0.6374220569935302,0.09291378350184552,0.028806306451596878,-1.1553935653983431,-0.6499180721350863,-0.08175340321355852,-0.7840724415944327,-0.5087152774460358,0.7312415685523191,-1.1501115890608973,0.6184383211558514,0.8951502823143318,0.3847930696509008,-1.1767557832936877,-1.1807665743833737,0.04920694687865383,0.9525294616536052,1.2903945468362554,-0.5219298330392307,0.8252752020180766,0.3481864743021484],\"yaxis\":\"y\",\"type\":\"scattergl\"}],                        {\"template\":{\"data\":{\"histogram2dcontour\":[{\"type\":\"histogram2dcontour\",\"colorbar\":{\"outlinewidth\":0,\"ticks\":\"\"},\"colorscale\":[[0.0,\"#0d0887\"],[0.1111111111111111,\"#46039f\"],[0.2222222222222222,\"#7201a8\"],[0.3333333333333333,\"#9c179e\"],[0.4444444444444444,\"#bd3786\"],[0.5555555555555556,\"#d8576b\"],[0.6666666666666666,\"#ed7953\"],[0.7777777777777778,\"#fb9f3a\"],[0.8888888888888888,\"#fdca26\"],[1.0,\"#f0f921\"]]}],\"choropleth\":[{\"type\":\"choropleth\",\"colorbar\":{\"outlinewidth\":0,\"ticks\":\"\"}}],\"histogram2d\":[{\"type\":\"histogram2d\",\"colorbar\":{\"outlinewidth\":0,\"ticks\":\"\"},\"colorscale\":[[0.0,\"#0d0887\"],[0.1111111111111111,\"#46039f\"],[0.2222222222222222,\"#7201a8\"],[0.3333333333333333,\"#9c179e\"],[0.4444444444444444,\"#bd3786\"],[0.5555555555555556,\"#d8576b\"],[0.6666666666666666,\"#ed7953\"],[0.7777777777777778,\"#fb9f3a\"],[0.8888888888888888,\"#fdca26\"],[1.0,\"#f0f921\"]]}],\"heatmap\":[{\"type\":\"heatmap\",\"colorbar\":{\"outlinewidth\":0,\"ticks\":\"\"},\"colorscale\":[[0.0,\"#0d0887\"],[0.1111111111111111,\"#46039f\"],[0.2222222222222222,\"#7201a8\"],[0.3333333333333333,\"#9c179e\"],[0.4444444444444444,\"#bd3786\"],[0.5555555555555556,\"#d8576b\"],[0.6666666666666666,\"#ed7953\"],[0.7777777777777778,\"#fb9f3a\"],[0.8888888888888888,\"#fdca26\"],[1.0,\"#f0f921\"]]}],\"heatmapgl\":[{\"type\":\"heatmapgl\",\"colorbar\":{\"outlinewidth\":0,\"ticks\":\"\"},\"colorscale\":[[0.0,\"#0d0887\"],[0.1111111111111111,\"#46039f\"],[0.2222222222222222,\"#7201a8\"],[0.3333333333333333,\"#9c179e\"],[0.4444444444444444,\"#bd3786\"],[0.5555555555555556,\"#d8576b\"],[0.6666666666666666,\"#ed7953\"],[0.7777777777777778,\"#fb9f3a\"],[0.8888888888888888,\"#fdca26\"],[1.0,\"#f0f921\"]]}],\"contourcarpet\":[{\"type\":\"contourcarpet\",\"colorbar\":{\"outlinewidth\":0,\"ticks\":\"\"}}],\"contour\":[{\"type\":\"contour\",\"colorbar\":{\"outlinewidth\":0,\"ticks\":\"\"},\"colorscale\":[[0.0,\"#0d0887\"],[0.1111111111111111,\"#46039f\"],[0.2222222222222222,\"#7201a8\"],[0.3333333333333333,\"#9c179e\"],[0.4444444444444444,\"#bd3786\"],[0.5555555555555556,\"#d8576b\"],[0.6666666666666666,\"#ed7953\"],[0.7777777777777778,\"#fb9f3a\"],[0.8888888888888888,\"#fdca26\"],[1.0,\"#f0f921\"]]}],\"surface\":[{\"type\":\"surface\",\"colorbar\":{\"outlinewidth\":0,\"ticks\":\"\"},\"colorscale\":[[0.0,\"#0d0887\"],[0.1111111111111111,\"#46039f\"],[0.2222222222222222,\"#7201a8\"],[0.3333333333333333,\"#9c179e\"],[0.4444444444444444,\"#bd3786\"],[0.5555555555555556,\"#d8576b\"],[0.6666666666666666,\"#ed7953\"],[0.7777777777777778,\"#fb9f3a\"],[0.8888888888888888,\"#fdca26\"],[1.0,\"#f0f921\"]]}],\"mesh3d\":[{\"type\":\"mesh3d\",\"colorbar\":{\"outlinewidth\":0,\"ticks\":\"\"}}],\"scatter\":[{\"fillpattern\":{\"fillmode\":\"overlay\",\"size\":10,\"solidity\":0.2},\"type\":\"scatter\"}],\"parcoords\":[{\"type\":\"parcoords\",\"line\":{\"colorbar\":{\"outlinewidth\":0,\"ticks\":\"\"}}}],\"scatterpolargl\":[{\"type\":\"scatterpolargl\",\"marker\":{\"colorbar\":{\"outlinewidth\":0,\"ticks\":\"\"}}}],\"bar\":[{\"error_x\":{\"color\":\"#2a3f5f\"},\"error_y\":{\"color\":\"#2a3f5f\"},\"marker\":{\"line\":{\"color\":\"#E5ECF6\",\"width\":0.5},\"pattern\":{\"fillmode\":\"overlay\",\"size\":10,\"solidity\":0.2}},\"type\":\"bar\"}],\"scattergeo\":[{\"type\":\"scattergeo\",\"marker\":{\"colorbar\":{\"outlinewidth\":0,\"ticks\":\"\"}}}],\"scatterpolar\":[{\"type\":\"scatterpolar\",\"marker\":{\"colorbar\":{\"outlinewidth\":0,\"ticks\":\"\"}}}],\"histogram\":[{\"marker\":{\"pattern\":{\"fillmode\":\"overlay\",\"size\":10,\"solidity\":0.2}},\"type\":\"histogram\"}],\"scattergl\":[{\"type\":\"scattergl\",\"marker\":{\"colorbar\":{\"outlinewidth\":0,\"ticks\":\"\"}}}],\"scatter3d\":[{\"type\":\"scatter3d\",\"line\":{\"colorbar\":{\"outlinewidth\":0,\"ticks\":\"\"}},\"marker\":{\"colorbar\":{\"outlinewidth\":0,\"ticks\":\"\"}}}],\"scattermapbox\":[{\"type\":\"scattermapbox\",\"marker\":{\"colorbar\":{\"outlinewidth\":0,\"ticks\":\"\"}}}],\"scatterternary\":[{\"type\":\"scatterternary\",\"marker\":{\"colorbar\":{\"outlinewidth\":0,\"ticks\":\"\"}}}],\"scattercarpet\":[{\"type\":\"scattercarpet\",\"marker\":{\"colorbar\":{\"outlinewidth\":0,\"ticks\":\"\"}}}],\"carpet\":[{\"aaxis\":{\"endlinecolor\":\"#2a3f5f\",\"gridcolor\":\"white\",\"linecolor\":\"white\",\"minorgridcolor\":\"white\",\"startlinecolor\":\"#2a3f5f\"},\"baxis\":{\"endlinecolor\":\"#2a3f5f\",\"gridcolor\":\"white\",\"linecolor\":\"white\",\"minorgridcolor\":\"white\",\"startlinecolor\":\"#2a3f5f\"},\"type\":\"carpet\"}],\"table\":[{\"cells\":{\"fill\":{\"color\":\"#EBF0F8\"},\"line\":{\"color\":\"white\"}},\"header\":{\"fill\":{\"color\":\"#C8D4E3\"},\"line\":{\"color\":\"white\"}},\"type\":\"table\"}],\"barpolar\":[{\"marker\":{\"line\":{\"color\":\"#E5ECF6\",\"width\":0.5},\"pattern\":{\"fillmode\":\"overlay\",\"size\":10,\"solidity\":0.2}},\"type\":\"barpolar\"}],\"pie\":[{\"automargin\":true,\"type\":\"pie\"}]},\"layout\":{\"autotypenumbers\":\"strict\",\"colorway\":[\"#636efa\",\"#EF553B\",\"#00cc96\",\"#ab63fa\",\"#FFA15A\",\"#19d3f3\",\"#FF6692\",\"#B6E880\",\"#FF97FF\",\"#FECB52\"],\"font\":{\"color\":\"#2a3f5f\"},\"hovermode\":\"closest\",\"hoverlabel\":{\"align\":\"left\"},\"paper_bgcolor\":\"white\",\"plot_bgcolor\":\"#E5ECF6\",\"polar\":{\"bgcolor\":\"#E5ECF6\",\"angularaxis\":{\"gridcolor\":\"white\",\"linecolor\":\"white\",\"ticks\":\"\"},\"radialaxis\":{\"gridcolor\":\"white\",\"linecolor\":\"white\",\"ticks\":\"\"}},\"ternary\":{\"bgcolor\":\"#E5ECF6\",\"aaxis\":{\"gridcolor\":\"white\",\"linecolor\":\"white\",\"ticks\":\"\"},\"baxis\":{\"gridcolor\":\"white\",\"linecolor\":\"white\",\"ticks\":\"\"},\"caxis\":{\"gridcolor\":\"white\",\"linecolor\":\"white\",\"ticks\":\"\"}},\"coloraxis\":{\"colorbar\":{\"outlinewidth\":0,\"ticks\":\"\"}},\"colorscale\":{\"sequential\":[[0.0,\"#0d0887\"],[0.1111111111111111,\"#46039f\"],[0.2222222222222222,\"#7201a8\"],[0.3333333333333333,\"#9c179e\"],[0.4444444444444444,\"#bd3786\"],[0.5555555555555556,\"#d8576b\"],[0.6666666666666666,\"#ed7953\"],[0.7777777777777778,\"#fb9f3a\"],[0.8888888888888888,\"#fdca26\"],[1.0,\"#f0f921\"]],\"sequentialminus\":[[0.0,\"#0d0887\"],[0.1111111111111111,\"#46039f\"],[0.2222222222222222,\"#7201a8\"],[0.3333333333333333,\"#9c179e\"],[0.4444444444444444,\"#bd3786\"],[0.5555555555555556,\"#d8576b\"],[0.6666666666666666,\"#ed7953\"],[0.7777777777777778,\"#fb9f3a\"],[0.8888888888888888,\"#fdca26\"],[1.0,\"#f0f921\"]],\"diverging\":[[0,\"#8e0152\"],[0.1,\"#c51b7d\"],[0.2,\"#de77ae\"],[0.3,\"#f1b6da\"],[0.4,\"#fde0ef\"],[0.5,\"#f7f7f7\"],[0.6,\"#e6f5d0\"],[0.7,\"#b8e186\"],[0.8,\"#7fbc41\"],[0.9,\"#4d9221\"],[1,\"#276419\"]]},\"xaxis\":{\"gridcolor\":\"white\",\"linecolor\":\"white\",\"ticks\":\"\",\"title\":{\"standoff\":15},\"zerolinecolor\":\"white\",\"automargin\":true,\"zerolinewidth\":2},\"yaxis\":{\"gridcolor\":\"white\",\"linecolor\":\"white\",\"ticks\":\"\",\"title\":{\"standoff\":15},\"zerolinecolor\":\"white\",\"automargin\":true,\"zerolinewidth\":2},\"scene\":{\"xaxis\":{\"backgroundcolor\":\"#E5ECF6\",\"gridcolor\":\"white\",\"linecolor\":\"white\",\"showbackground\":true,\"ticks\":\"\",\"zerolinecolor\":\"white\",\"gridwidth\":2},\"yaxis\":{\"backgroundcolor\":\"#E5ECF6\",\"gridcolor\":\"white\",\"linecolor\":\"white\",\"showbackground\":true,\"ticks\":\"\",\"zerolinecolor\":\"white\",\"gridwidth\":2},\"zaxis\":{\"backgroundcolor\":\"#E5ECF6\",\"gridcolor\":\"white\",\"linecolor\":\"white\",\"showbackground\":true,\"ticks\":\"\",\"zerolinecolor\":\"white\",\"gridwidth\":2}},\"shapedefaults\":{\"line\":{\"color\":\"#2a3f5f\"}},\"annotationdefaults\":{\"arrowcolor\":\"#2a3f5f\",\"arrowhead\":0,\"arrowwidth\":1},\"geo\":{\"bgcolor\":\"white\",\"landcolor\":\"#E5ECF6\",\"subunitcolor\":\"white\",\"showland\":true,\"showlakes\":true,\"lakecolor\":\"white\"},\"title\":{\"x\":0.05},\"mapbox\":{\"style\":\"light\"}}},\"xaxis\":{\"anchor\":\"y\",\"domain\":[0.0,1.0],\"title\":{\"text\":\"f1\"}},\"yaxis\":{\"anchor\":\"x\",\"domain\":[0.0,1.0],\"title\":{\"text\":\"f2\"}},\"coloraxis\":{\"colorbar\":{\"title\":{\"text\":\"y\"}},\"colorscale\":[[0.0,\"#0d0887\"],[0.1111111111111111,\"#46039f\"],[0.2222222222222222,\"#7201a8\"],[0.3333333333333333,\"#9c179e\"],[0.4444444444444444,\"#bd3786\"],[0.5555555555555556,\"#d8576b\"],[0.6666666666666666,\"#ed7953\"],[0.7777777777777778,\"#fb9f3a\"],[0.8888888888888888,\"#fdca26\"],[1.0,\"#f0f921\"]]},\"legend\":{\"tracegroupgap\":0},\"title\":{\"text\":\"String 'y(digits)' values mean discrete colors\"}},                        {\"responsive\": true}                    ).then(function(){\n",
              "                            \n",
              "var gd = document.getElementById('5f86d123-7fe2-47e9-8e2d-04dd5d4ab5f5');\n",
              "var x = new MutationObserver(function (mutations, observer) {{\n",
              "        var display = window.getComputedStyle(gd).display;\n",
              "        if (!display || display === 'none') {{\n",
              "            console.log([gd, 'removed!']);\n",
              "            Plotly.purge(gd);\n",
              "            observer.disconnect();\n",
              "        }}\n",
              "}});\n",
              "\n",
              "// Listen for the removal of the full notebook cells\n",
              "var notebookContainer = gd.closest('#notebook-container');\n",
              "if (notebookContainer) {{\n",
              "    x.observe(notebookContainer, {childList: true});\n",
              "}}\n",
              "\n",
              "// Listen for the clearing of the current output cell\n",
              "var outputEl = gd.closest('.output');\n",
              "if (outputEl) {{\n",
              "    x.observe(outputEl, {childList: true});\n",
              "}}\n",
              "\n",
              "                        })                };                            </script>        </div>\n",
              "</body>\n",
              "</html>"
            ]
          },
          "metadata": {}
        }
      ]
    },
    {
      "cell_type": "code",
      "source": [],
      "metadata": {
        "id": "IYce0ZNSERwU"
      },
      "execution_count": null,
      "outputs": []
    }
  ]
}
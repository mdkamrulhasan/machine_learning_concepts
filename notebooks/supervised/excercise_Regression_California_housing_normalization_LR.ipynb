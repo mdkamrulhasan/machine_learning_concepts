{
  "nbformat": 4,
  "nbformat_minor": 0,
  "metadata": {
    "colab": {
      "provenance": [],
      "include_colab_link": true
    },
    "kernelspec": {
      "name": "python3",
      "display_name": "Python 3"
    },
    "language_info": {
      "name": "python"
    }
  },
  "cells": [
    {
      "cell_type": "markdown",
      "metadata": {
        "id": "view-in-github",
        "colab_type": "text"
      },
      "source": [
        "<a href=\"https://colab.research.google.com/github/mdkamrulhasan/machine_learning_concepts/blob/master/notebooks/supervised/excercise_Regression_California_housing_normalization_LR.ipynb\" target=\"_parent\"><img src=\"https://colab.research.google.com/assets/colab-badge.svg\" alt=\"Open In Colab\"/></a>"
      ]
    },
    {
      "cell_type": "markdown",
      "source": [
        "We have talked about the following regression models.\n",
        "\n",
        " *   kNN\n",
        " *   Linear Rregression (LR)\n",
        "\n",
        "\n",
        "\n",
        "In this exercise, you will build a regression pipeline using a model of your choice and evaluate its accuracy. While training and testing your model, you are free to select any data-splitting criteria that best suit your approach.\n",
        "\n",
        "\n",
        "*Note: We have performed the packages and data loading part for you already.*"
      ],
      "metadata": {
        "id": "FBRyAWfz-KuJ"
      }
    },
    {
      "cell_type": "code",
      "execution_count": 2,
      "metadata": {
        "id": "03-NXl9m_dPA"
      },
      "outputs": [],
      "source": [
        "import numpy as np\n",
        "import pandas as pd\n",
        "# Classification modeling package (sklearn)\n",
        "from sklearn.neighbors import KNeighborsClassifier\n",
        "from sklearn.linear_model import LinearRegression\n",
        "\n",
        "# Model selection and Evaluation metrics\n",
        "from sklearn.model_selection import train_test_split\n",
        "from sklearn.metrics import mean_squared_error\n",
        "\n",
        "# Loading the  dataset\n",
        "from sklearn.datasets import fetch_california_housing"
      ]
    },
    {
      "cell_type": "code",
      "source": [
        "# Load the dataset in the form of features and labels\n",
        "X, y = fetch_california_housing(return_X_y=True)\n",
        "X.shape, y.shape"
      ],
      "metadata": {
        "colab": {
          "base_uri": "https://localhost:8080/"
        },
        "id": "T-_13-3PvgtE",
        "outputId": "080b765d-6954-4fb9-c9c3-84788678556c"
      },
      "execution_count": 3,
      "outputs": [
        {
          "output_type": "execute_result",
          "data": {
            "text/plain": [
              "((20640, 8), (20640,))"
            ]
          },
          "metadata": {},
          "execution_count": 3
        }
      ]
    }
  ]
}
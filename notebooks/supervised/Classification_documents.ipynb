{
  "nbformat": 4,
  "nbformat_minor": 0,
  "metadata": {
    "colab": {
      "provenance": [],
      "include_colab_link": true
    },
    "kernelspec": {
      "name": "python3",
      "display_name": "Python 3"
    },
    "language_info": {
      "name": "python"
    }
  },
  "cells": [
    {
      "cell_type": "markdown",
      "metadata": {
        "id": "view-in-github",
        "colab_type": "text"
      },
      "source": [
        "<a href=\"https://colab.research.google.com/github/mdkamrulhasan/machine_learning_concepts/blob/master/notebooks/supervised/Classification_documents.ipynb\" target=\"_parent\"><img src=\"https://colab.research.google.com/assets/colab-badge.svg\" alt=\"Open In Colab\"/></a>"
      ]
    },
    {
      "cell_type": "markdown",
      "source": [
        "What will we cover today ?\n",
        "\n",
        "\n",
        "1.   Four models:\n",
        "\n",
        " *   Logistic Rregression (LR)\n",
        " *   Random Forest (RF)\n",
        " *   Support Vectror Classification (SVR)\n",
        " *   Boosting\n",
        " *   Naive Bayes\n"
      ],
      "metadata": {
        "id": "FBRyAWfz-KuJ"
      }
    },
    {
      "cell_type": "code",
      "execution_count": null,
      "metadata": {
        "id": "03-NXl9m_dPA"
      },
      "outputs": [],
      "source": [
        "import numpy as np\n",
        "import pandas as pd\n",
        "# Models (Sklearn)\n",
        "from sklearn.linear_model import LogisticRegression\n",
        "from sklearn.ensemble import RandomForestClassifier, GradientBoostingClassifier\n",
        "from sklearn.naive_bayes import GaussianNB\n",
        "from sklearn.svm import SVC\n",
        "# Data and Evaluation packages\n",
        "from sklearn import datasets\n",
        "from sklearn.metrics import mean_squared_error\n",
        "from sklearn.metrics import accuracy_score\n",
        "# visualization\n",
        "import plotly.express as px"
      ]
    },
    {
      "cell_type": "markdown",
      "source": [
        "[Data description](https://scikit-learn.org/stable/tutorial/text_analytics/working_with_text_data.html)"
      ],
      "metadata": {
        "id": "WhUKTt3zUnSh"
      }
    },
    {
      "cell_type": "code",
      "source": [
        "categories = ['alt.atheism', 'soc.religion.christian', 'comp.graphics', 'sci.med']"
      ],
      "metadata": {
        "id": "0JEdGGV3JPdq"
      },
      "execution_count": null,
      "outputs": []
    },
    {
      "cell_type": "code",
      "source": [
        "from sklearn.datasets import fetch_20newsgroups\n",
        "twenty_train = fetch_20newsgroups(subset='train', categories=categories, shuffle=True, random_state=42)"
      ],
      "metadata": {
        "id": "Oh1a6fs-JH8B"
      },
      "execution_count": null,
      "outputs": []
    },
    {
      "cell_type": "code",
      "source": [
        "len(twenty_train.data), len(twenty_train.filenames)"
      ],
      "metadata": {
        "colab": {
          "base_uri": "https://localhost:8080/"
        },
        "id": "xAxjUQt4JJId",
        "outputId": "f2b39531-ee76-4783-bbe9-bbbb22ba2576"
      },
      "execution_count": null,
      "outputs": [
        {
          "output_type": "execute_result",
          "data": {
            "text/plain": [
              "(2257, 2257)"
            ]
          },
          "metadata": {},
          "execution_count": 4
        }
      ]
    },
    {
      "cell_type": "code",
      "source": [
        "from sklearn.feature_extraction.text import CountVectorizer\n",
        "count_vect = CountVectorizer(ngram_range=(1, 1))\n",
        "X_train_counts = count_vect.fit_transform(twenty_train.data)\n",
        "X_train_counts.shape"
      ],
      "metadata": {
        "colab": {
          "base_uri": "https://localhost:8080/"
        },
        "id": "-bSRCCZtJe-0",
        "outputId": "7d3562b2-f710-4179-e512-677b91ddd6cf"
      },
      "execution_count": null,
      "outputs": [
        {
          "output_type": "execute_result",
          "data": {
            "text/plain": [
              "(2257, 35788)"
            ]
          },
          "metadata": {},
          "execution_count": 5
        }
      ]
    },
    {
      "cell_type": "code",
      "source": [
        "X_train_counts[0]"
      ],
      "metadata": {
        "colab": {
          "base_uri": "https://localhost:8080/"
        },
        "id": "7a7JGUMNJJC9",
        "outputId": "fa8d3fa3-3239-49c0-d98a-f2b12e92ad66"
      },
      "execution_count": null,
      "outputs": [
        {
          "output_type": "execute_result",
          "data": {
            "text/plain": [
              "<Compressed Sparse Row sparse matrix of dtype 'int64'\n",
              "\twith 73 stored elements and shape (1, 35788)>"
            ]
          },
          "metadata": {},
          "execution_count": 6
        }
      ]
    },
    {
      "cell_type": "markdown",
      "source": [
        "Count vectorizer"
      ],
      "metadata": {
        "id": "0hlrI2i3iaba"
      }
    },
    {
      "cell_type": "code",
      "source": [
        "X = X_train_counts\n",
        "y = twenty_train.target"
      ],
      "metadata": {
        "id": "cdyAgOhrogOM"
      },
      "execution_count": null,
      "outputs": []
    },
    {
      "cell_type": "code",
      "source": [
        "np.sum(X[0])"
      ],
      "metadata": {
        "colab": {
          "base_uri": "https://localhost:8080/"
        },
        "id": "6r_AwrHDivbm",
        "outputId": "318e7c05-8a77-4341-d41d-c5bd5f2d4885"
      },
      "execution_count": null,
      "outputs": [
        {
          "output_type": "execute_result",
          "data": {
            "text/plain": [
              "np.int64(98)"
            ]
          },
          "metadata": {},
          "execution_count": 8
        }
      ]
    },
    {
      "cell_type": "markdown",
      "source": [
        "Highest freq word/token"
      ],
      "metadata": {
        "id": "uOqfrYqHZAm0"
      }
    },
    {
      "cell_type": "code",
      "source": [
        "query_record = 0# 100\n",
        "x_0_dense = X[query_record].todense()\n",
        "\n",
        "max_freq_index = x_0_dense.argmax()\n",
        "max_freq = x_0_dense[0, x_0_dense.argmax()]\n",
        "\n",
        "for key in count_vect.vocabulary_:\n",
        "  if count_vect.vocabulary_.get(key) == max_freq_index:\n",
        "    print(key, max_freq)\n",
        "    break"
      ],
      "metadata": {
        "colab": {
          "base_uri": "https://localhost:8080/"
        },
        "id": "vQbBdyAbX9_z",
        "outputId": "99ef50b5-a60a-4883-bfa2-1c67bbd0f492"
      },
      "execution_count": null,
      "outputs": [
        {
          "output_type": "stream",
          "name": "stdout",
          "text": [
            "the 5\n"
          ]
        }
      ]
    },
    {
      "cell_type": "code",
      "source": [
        "count_vect.vocabulary_"
      ],
      "metadata": {
        "id": "ECy_4uZCXtuv",
        "colab": {
          "base_uri": "https://localhost:8080/"
        },
        "outputId": "d339876c-8462-432a-ce2c-40383515c0b1"
      },
      "execution_count": null,
      "outputs": [
        {
          "output_type": "execute_result",
          "data": {
            "text/plain": [
              "{'from': 14887,\n",
              " 'sd345': 29022,\n",
              " 'city': 8696,\n",
              " 'ac': 4017,\n",
              " 'uk': 33256,\n",
              " 'michael': 21661,\n",
              " 'collier': 9031,\n",
              " 'subject': 31077,\n",
              " 'converting': 9805,\n",
              " 'images': 17366,\n",
              " 'to': 32493,\n",
              " 'hp': 16916,\n",
              " 'laserjet': 19780,\n",
              " 'iii': 17302,\n",
              " 'nntp': 23122,\n",
              " 'posting': 25663,\n",
              " 'host': 16881,\n",
              " 'hampton': 16082,\n",
              " 'organization': 23915,\n",
              " 'the': 32142,\n",
              " 'university': 33597,\n",
              " 'lines': 20253,\n",
              " '14': 587,\n",
              " 'does': 12051,\n",
              " 'anyone': 5201,\n",
              " 'know': 19458,\n",
              " 'of': 23610,\n",
              " 'good': 15576,\n",
              " 'way': 34755,\n",
              " 'standard': 30623,\n",
              " 'pc': 24651,\n",
              " 'application': 5285,\n",
              " 'pd': 24677,\n",
              " 'utility': 33915,\n",
              " 'convert': 9801,\n",
              " 'tif': 32391,\n",
              " 'img': 17389,\n",
              " 'tga': 32116,\n",
              " 'files': 14281,\n",
              " 'into': 18268,\n",
              " 'format': 14676,\n",
              " 'we': 34775,\n",
              " 'would': 35312,\n",
              " 'also': 4808,\n",
              " 'like': 20198,\n",
              " 'do': 12014,\n",
              " 'same': 28619,\n",
              " 'hpgl': 16927,\n",
              " 'plotter': 25361,\n",
              " 'please': 25337,\n",
              " 'email': 12833,\n",
              " 'any': 5195,\n",
              " 'response': 27836,\n",
              " 'is': 18474,\n",
              " 'this': 32270,\n",
              " 'correct': 9932,\n",
              " 'group': 15837,\n",
              " 'thanks': 32135,\n",
              " 'in': 17556,\n",
              " 'advance': 4378,\n",
              " 'programmer': 26175,\n",
              " 'computer': 9338,\n",
              " 'unit': 33572,\n",
              " 'tel': 31915,\n",
              " '071': 177,\n",
              " '477': 2326,\n",
              " '8000': 3062,\n",
              " 'x3769': 35416,\n",
              " 'london': 20459,\n",
              " 'fax': 14085,\n",
              " '8565': 3166,\n",
              " 'ec1v': 12541,\n",
              " '0hb': 230,\n",
              " 'ani': 5046,\n",
              " 'ms': 22366,\n",
              " 'uky': 33267,\n",
              " 'edu': 12626,\n",
              " 'aniruddha': 5062,\n",
              " 'deglurkar': 11001,\n",
              " 'help': 16418,\n",
              " 'splitting': 30464,\n",
              " 'trimming': 32915,\n",
              " 'region': 27378,\n",
              " 'along': 4788,\n",
              " 'mesh': 21550,\n",
              " 'kentucky': 19254,\n",
              " 'dept': 11193,\n",
              " 'math': 21153,\n",
              " 'sciences': 28899,\n",
              " '28': 1731,\n",
              " 'hi': 16550,\n",
              " 'have': 16254,\n",
              " 'problem': 26093,\n",
              " 'hope': 16833,\n",
              " 'some': 30173,\n",
              " 'gurus': 15949,\n",
              " 'can': 7766,\n",
              " 'me': 21322,\n",
              " 'solve': 30164,\n",
              " 'background': 6031,\n",
              " 'rectangular': 27238,\n",
              " 'uv': 33949,\n",
              " 'domain': 12075,\n",
              " 'mapping': 20985,\n",
              " '3d': 2148,\n",
              " 'bezier': 6574,\n",
              " 'patch': 24567,\n",
              " '2d': 1858,\n",
              " 'area': 5411,\n",
              " 'which': 34954,\n",
              " 'inside': 18016,\n",
              " 'loop': 20480,\n",
              " 'had': 16014,\n",
              " 'be': 6298,\n",
              " 'rendered': 27582,\n",
              " 'set': 29313,\n",
              " 'curve': 10471,\n",
              " 'segments': 29147,\n",
              " 'for': 14601,\n",
              " 'sake': 28580,\n",
              " 'notation': 23256,\n",
              " 'made': 20770,\n",
              " 'up': 33773,\n",
              " 'cells': 8153,\n",
              " 'my': 22541,\n",
              " 'has': 16216,\n",
              " 'split': 30462,\n",
              " 'individual': 17716,\n",
              " 'smaller': 29976,\n",
              " 'bounded': 7085,\n",
              " 'by': 7505,\n",
              " 'if': 17268,\n",
              " 'cell': 8150,\n",
              " 'wholly': 34992,\n",
              " 'then': 32164,\n",
              " 'it': 18551,\n",
              " 'output': 24079,\n",
              " 'as': 5549,\n",
              " 'whole': 34987,\n",
              " 'else': 12817,\n",
              " 'trivially': 32945,\n",
              " 'rejected': 27438,\n",
              " 'body': 6939,\n",
              " 'how': 16908,\n",
              " 'thiss': 32271,\n",
              " 'done': 12103,\n",
              " 'or': 23870,\n",
              " 'there': 32202,\n",
              " 'algo': 4687,\n",
              " 'somewhere': 30194,\n",
              " 'doing': 12065,\n",
              " 'appreciated': 5304,\n",
              " 'get': 15319,\n",
              " 'irritated': 18465,\n",
              " 'human': 16999,\n",
              " 'stay': 30701,\n",
              " 'cool': 9839,\n",
              " 'divine': 11944,\n",
              " 'djohnson': 11966,\n",
              " 'cs': 10324,\n",
              " 'ucsd': 33216,\n",
              " 'darin': 10667,\n",
              " 'johnson': 18893,\n",
              " 're': 27031,\n",
              " 'harrassed': 16194,\n",
              " 'at': 5698,\n",
              " 'work': 35255,\n",
              " 'could': 9992,\n",
              " 'use': 33858,\n",
              " 'prayers': 25765,\n",
              " 'cse': 10339,\n",
              " 'san': 28631,\n",
              " 'diego': 11499,\n",
              " '63': 2648,\n",
              " 'well': 34866,\n",
              " 'll': 20373,\n",
              " 'but': 7480,\n",
              " 'may': 21209,\n",
              " 'apply': 5289,\n",
              " 'other': 24020,\n",
              " 'people': 24784,\n",
              " 'so': 30068,\n",
              " 'post': 25646,\n",
              " 've': 34120,\n",
              " 'been': 6358,\n",
              " 'working': 35264,\n",
              " 'company': 9191,\n",
              " 'eight': 12703,\n",
              " 'years': 35587,\n",
              " 'various': 34083,\n",
              " 'engineering': 13051,\n",
              " 'jobs': 18863,\n",
              " 'female': 14166,\n",
              " 'yesterday': 35603,\n",
              " 'counted': 10004,\n",
              " 'and': 4992,\n",
              " 'realized': 27084,\n",
              " 'that': 32139,\n",
              " 'on': 23733,\n",
              " 'seven': 29333,\n",
              " 'different': 11520,\n",
              " 'occasions': 23548,\n",
              " 'sexually': 29352,\n",
              " 'dreaded': 12231,\n",
              " 'coming': 9110,\n",
              " 'back': 6024,\n",
              " 'today': 32506,\n",
              " 'what': 34923,\n",
              " 'boss': 7056,\n",
              " 'comes': 9098,\n",
              " 'ask': 5578,\n",
              " 'kind': 19370,\n",
              " 'question': 26709,\n",
              " 'your': 35648,\n",
              " 'should': 29578,\n",
              " 'person': 24895,\n",
              " 'bring': 7231,\n",
              " 'these': 32221,\n",
              " 'problems': 26097,\n",
              " 'he': 16302,\n",
              " 'she': 29455,\n",
              " 'not': 23250,\n",
              " 'seem': 29130,\n",
              " 'take': 31710,\n",
              " 'action': 4194,\n",
              " 'keep': 19210,\n",
              " 'going': 15545,\n",
              " 'higher': 16573,\n",
              " 'sexual': 29350,\n",
              " 'harrassment': 16195,\n",
              " 'need': 22774,\n",
              " 'tolerated': 32530,\n",
              " 'an': 4938,\n",
              " 'enormous': 13089,\n",
              " 'emotional': 12899,\n",
              " 'support': 31364,\n",
              " 'discuss': 11723,\n",
              " 'with': 35157,\n",
              " 'someone': 30180,\n",
              " 'they': 32233,\n",
              " 'are': 5410,\n",
              " 'trying': 32997,\n",
              " 'something': 30187,\n",
              " 'about': 3958,\n",
              " 'you': 35638,\n",
              " 'feel': 14135,\n",
              " 'perhaps': 24827,\n",
              " 'personnel': 24908,\n",
              " 'department': 11159,\n",
              " 'while': 34956,\n",
              " 'preserving': 25924,\n",
              " 'privacy': 26060,\n",
              " 'most': 22270,\n",
              " 'companies': 9188,\n",
              " 'will': 35057,\n",
              " 'want': 34660,\n",
              " 'deal': 10797,\n",
              " 'because': 6333,\n",
              " 'constant': 9614,\n",
              " 'anxiety': 5193,\n",
              " 'seriously': 29286,\n",
              " 'affect': 4431,\n",
              " 'effectively': 12659,\n",
              " 'employees': 12924,\n",
              " 'their': 32152,\n",
              " 'unclear': 33374,\n",
              " 'letter': 20054,\n",
              " 'inconceivable': 17622,\n",
              " 'management': 20906,\n",
              " 'remains': 27528,\n",
              " 'ignorant': 17283,\n",
              " 'employee': 12923,\n",
              " 'strife': 30973,\n",
              " 'even': 13491,\n",
              " 'after': 4471,\n",
              " 'miracle': 21859,\n",
              " 'notice': 23268,\n",
              " 'manager': 20907,\n",
              " 'did': 11493,\n",
              " 'attention': 5783,\n",
              " 'ups': 33807,\n",
              " 'indeed': 17666,\n",
              " 'ignore': 17287,\n",
              " 'entire': 13132,\n",
              " 'state': 30673,\n",
              " 'agency': 4496,\n",
              " 'willing': 35073,\n",
              " 'fight': 14265,\n",
              " 'check': 8380,\n",
              " 'lawyer': 19852,\n",
              " 'women': 35216,\n",
              " 'resource': 27816,\n",
              " 'center': 8159,\n",
              " 'etc': 13400,\n",
              " 'find': 14309,\n",
              " 'out': 24052,\n",
              " 'paster': 24555,\n",
              " 'priest': 26010,\n",
              " 'husband': 17055,\n",
              " 'judgemental': 19017,\n",
              " 'supportive': 31370,\n",
              " 'comforting': 9106,\n",
              " 'lot': 20517,\n",
              " 'healing': 16325,\n",
              " 'returned': 27926,\n",
              " '11': 336,\n",
              " '25': 1632,\n",
              " 'only': 23757,\n",
              " 'ever': 13503,\n",
              " 'single': 29769,\n",
              " 'already': 4805,\n",
              " 'left': 19951,\n",
              " 'lunch': 20631,\n",
              " '15': 677,\n",
              " 'no': 23123,\n",
              " 'one': 23741,\n",
              " 'bothered': 7065,\n",
              " 'call': 7714,\n",
              " 'building': 7391,\n",
              " 'though': 32297,\n",
              " 'number': 23363,\n",
              " 'was': 34703,\n",
              " 'posted': 25654,\n",
              " 'happens': 16136,\n",
              " 'honest': 16803,\n",
              " 'believe': 6430,\n",
              " 'due': 12354,\n",
              " 'gross': 15827,\n",
              " 'insensitivity': 18009,\n",
              " 'feelings': 14138,\n",
              " 'through': 32332,\n",
              " 'offices': 23636,\n",
              " 'tend': 31978,\n",
              " 'more': 22215,\n",
              " 'insensitive': 18008,\n",
              " 'than': 32131,\n",
              " 'normally': 23215,\n",
              " 'maybe': 21212,\n",
              " 'hustle': 17068,\n",
              " 'stress': 30954,\n",
              " 'happen': 16131,\n",
              " 'often': 23654,\n",
              " 'didn': 11495,\n",
              " 'realize': 27083,\n",
              " 'car': 7860,\n",
              " 'broken': 7265,\n",
              " 'come': 9093,\n",
              " 'wonder': 35218,\n",
              " 'why': 35006,\n",
              " 'go': 15511,\n",
              " 'make': 20862,\n",
              " 'stop': 30874,\n",
              " 'being': 6412,\n",
              " 'angry': 5041,\n",
              " 'ignored': 17288,\n",
              " 'laugh': 19819,\n",
              " 'once': 23736,\n",
              " 'went': 34876,\n",
              " 'off': 23614,\n",
              " 'without': 35168,\n",
              " 'our': 24046,\n",
              " 'who': 34982,\n",
              " 'paying': 24636,\n",
              " 'reason': 27103,\n",
              " 'mr': 22356,\n",
              " 'moderator': 22069,\n",
              " 'allows': 4766,\n",
              " 'latest': 19802,\n",
              " 'indulgence': 17737,\n",
              " 'turn': 33078,\n",
              " 'signs': 29690,\n",
              " 'age': 4492,\n",
              " 'closing': 8860,\n",
              " 'don': 12096,\n",
              " 'let': 20048,\n",
              " 'hateful': 16235,\n",
              " 'actions': 4195,\n",
              " 'harm': 16179,\n",
              " 'still': 30808,\n",
              " 'playground': 25324,\n",
              " 'bully': 7413,\n",
              " 'enjoy': 13068,\n",
              " 'seeing': 29124,\n",
              " 'hurt': 17050,\n",
              " 'cause': 8034,\n",
              " 'accept': 4039,\n",
              " 'opinions': 23815,\n",
              " 'imbecile': 17384,\n",
              " 'worthless': 35306,\n",
              " 'much': 22403,\n",
              " 'wiser': 35145,\n",
              " 'hold': 16743,\n",
              " 'great': 15743,\n",
              " 'esteem': 13379,\n",
              " 'luxury': 20663,\n",
              " 'day': 10752,\n",
              " 'bytes': 7517,\n",
              " 'swap': 31497,\n",
              " 's0612596': 28498,\n",
              " 'rug': 28425,\n",
              " 'nl': 23102,\n",
              " 'zwart': 35780,\n",
              " 'catholic': 8017,\n",
              " 'church': 8609,\n",
              " 'poland': 25461,\n",
              " 'faculteit': 13921,\n",
              " 'der': 11198,\n",
              " 'letteren': 20056,\n",
              " 'rijksuniversiteit': 28104,\n",
              " 'groningen': 15824,\n",
              " '10': 242,\n",
              " 'hello': 16413,\n",
              " 'writing': 35351,\n",
              " 'paper': 24382,\n",
              " 'role': 28256,\n",
              " '1989': 1097,\n",
              " 'tell': 31945,\n",
              " 'fill': 14285,\n",
              " 'recent': 27149,\n",
              " 'books': 7008,\n",
              " 'articles': 5530,\n",
              " 'english': 13055,\n",
              " 'german': 15305,\n",
              " 'french': 14842,\n",
              " 'important': 17508,\n",
              " 'concerning': 9379,\n",
              " 'abortion': 3954,\n",
              " 'law': 19841,\n",
              " 'religious': 27510,\n",
              " 'education': 12629,\n",
              " 'schools': 28877,\n",
              " 'birth': 6726,\n",
              " 'control': 9771,\n",
              " 'relation': 27456,\n",
              " 'government': 15618,\n",
              " 'thanx': 32138,\n",
              " 'masja': 21101,\n",
              " 'stanly': 30638,\n",
              " 'grok11': 15822,\n",
              " 'columbiasc': 9067,\n",
              " 'ncr': 22725,\n",
              " 'com': 9072,\n",
              " 'elder': 12731,\n",
              " 'brother': 7280,\n",
              " 'corp': 9925,\n",
              " 'columbia': 9066,\n",
              " 'sc': 28771,\n",
              " 'article': 5529,\n",
              " 'apr': 5340,\n",
              " '00': 0,\n",
              " '57': 2521,\n",
              " '41': 2203,\n",
              " '1993': 1102,\n",
              " '28246': 1742,\n",
              " 'athos': 5730,\n",
              " 'rutgers': 28473,\n",
              " 'rexlex': 27997,\n",
              " 'fnal': 14526,\n",
              " 'gov': 15612,\n",
              " 'writes': 35350,\n",
              " '01': 37,\n",
              " '56': 2513,\n",
              " '22824': 1540,\n",
              " 'shrum': 29610,\n",
              " 'hpfcso': 16926,\n",
              " 'fc': 14095,\n",
              " 'matt': 21176,\n",
              " '22': 1490,\n",
              " 'therefore': 32205,\n",
              " 'main': 20842,\n",
              " 'highways': 16585,\n",
              " 'many': 20978,\n",
              " 'invite': 18363,\n",
              " 'wedding': 34810,\n",
              " 'feast': 14109,\n",
              " 'hmmmmmm': 16703,\n",
              " 'sounds': 30250,\n",
              " 'theology': 32179,\n",
              " 'christ': 8544,\n",
              " 'odds': 23595,\n",
              " 'am': 4852,\n",
              " 'parable': 24395,\n",
              " 'jesus': 18774,\n",
              " 'tells': 31948,\n",
              " 'kingdom': 19383,\n",
              " 'heaven': 16358,\n",
              " 'unto': 33741,\n",
              " 'certain': 8197,\n",
              " 'king': 19382,\n",
              " 'marriage': 21060,\n",
              " 'his': 16642,\n",
              " 'son': 30199,\n",
              " 'clothes': 8863,\n",
              " 'were': 34879,\n",
              " 'customary': 10481,\n",
              " 'given': 15406,\n",
              " 'those': 32295,\n",
              " 'chose': 8525,\n",
              " 'attend': 5777,\n",
              " 'man': 20903,\n",
              " 'refused': 27352,\n",
              " 'wear': 34790,\n",
              " 'equalivant': 13239,\n",
              " 'righteousness': 28091,\n",
              " 'when': 34935,\n",
              " 'died': 11498,\n",
              " 'sins': 29785,\n",
              " 'provided': 26356,\n",
              " 'decision': 10874,\n",
              " 'put': 26570,\n",
              " 'vbv': 34111,\n",
              " 'lor': 20493,\n",
              " 'eeap': 12639,\n",
              " 'cwru': 10510,\n",
              " 'virgilio': 34360,\n",
              " 'dean': 10805,\n",
              " 'velasco': 34151,\n",
              " 'jr': 18983,\n",
              " 'arrogance': 5512,\n",
              " 'christians': 8559,\n",
              " 'case': 7965,\n",
              " 'western': 34896,\n",
              " 'reserve': 27768,\n",
              " 'univ': 33581,\n",
              " 'cleveland': 8795,\n",
              " 'ohio': 23662,\n",
              " 'usa': 33848,\n",
              " '2073': 1396,\n",
              " 'geneva': 15237,\n",
              " 'hayesstw': 16277,\n",
              " 'risc1': 28131,\n",
              " 'unisa': 33569,\n",
              " 'za': 35688,\n",
              " 'steve': 30776,\n",
              " 'hayes': 16276,\n",
              " 'similar': 29715,\n",
              " 'analogy': 4953,\n",
              " 'might': 21732,\n",
              " 'medical': 21386,\n",
              " 'doctor': 12026,\n",
              " 'believes': 6437,\n",
              " 'blood': 6863,\n",
              " 'transfusion': 32756,\n",
              " 'necessary': 22765,\n",
              " 'save': 28735,\n",
              " 'life': 20167,\n",
              " 'child': 8451,\n",
              " 'whose': 34999,\n",
              " 'parents': 24451,\n",
              " 'jehovah': 18729,\n",
              " 'witnesses': 35176,\n",
              " 'conscientious': 9557,\n",
              " 'objections': 23477,\n",
              " 'efforts': 12669,\n",
              " 'persuade': 24913,\n",
              " 'them': 32160,\n",
              " 'agree': 4529,\n",
              " 'perceived': 24793,\n",
              " 'arrogant': 5513,\n",
              " 'precisely': 25794,\n",
              " 'truth': 32989,\n",
              " 'otherwise': 24026,\n",
              " 'belief': 6426,\n",
              " 'irrelevant': 18452,\n",
              " 'here': 16482,\n",
              " 'matters': 21179,\n",
              " 'true': 32973,\n",
              " 'seen': 29135,\n",
              " 'foce': 14533,\n",
              " 'beliefs': 6427,\n",
              " 'carry': 7938,\n",
              " 'step': 30747,\n",
              " 'further': 15006,\n",
              " 'doctors': 12028,\n",
              " 'claim': 8713,\n",
              " 'infallible': 17784,\n",
              " 'generally': 15219,\n",
              " 'admit': 4330,\n",
              " 'conceivably': 9360,\n",
              " 'wrong': 35358,\n",
              " 'tranfusion': 32722,\n",
              " 'all': 4720,\n",
              " 'however': 16913,\n",
              " 'enough': 13091,\n",
              " 'confidence': 9461,\n",
              " 'conviction': 9816,\n",
              " 'genuine': 15261,\n",
              " 'concern': 9377,\n",
              " 'fallible': 13977,\n",
              " 'beings': 6413,\n",
              " 'must': 22509,\n",
              " 'acknowledge': 4153,\n",
              " 'possibility': 25640,\n",
              " 'say': 28755,\n",
              " 'such': 31180,\n",
              " 'doubts': 12166,\n",
              " 'reasonable': 27105,\n",
              " 'stand': 30621,\n",
              " 'convictions': 9817,\n",
              " 'electrical': 12746,\n",
              " 'eng': 13037,\n",
              " 'applied': 5287,\n",
              " 'physics': 25121,\n",
              " 'graduate': 15653,\n",
              " 'student': 31031,\n",
              " 'roboticist': 28207,\n",
              " 'training': 32709,\n",
              " 'wannabee': 34657,\n",
              " 'bullwinkle': 7412,\n",
              " 'intimidating': 18267,\n",
              " 'referee': 27307,\n",
              " 'very': 34229,\n",
              " 'doesn': 12052,\n",
              " 'look': 20470,\n",
              " 'jewish': 18779,\n",
              " 'carpenter': 7928,\n",
              " 'jodfishe': 18866,\n",
              " 'silver': 29706,\n",
              " 'ucs': 33213,\n",
              " 'indiana': 17687,\n",
              " 'joseph': 18929,\n",
              " 'dale': 10604,\n",
              " 'fisher': 14363,\n",
              " 'anger': 5030,\n",
              " '34': 2012,\n",
              " '17': 842,\n",
              " '44': 2258,\n",
              " '2232': 1512,\n",
              " 'news': 22944,\n",
              " 'cbnewsk': 8065,\n",
              " 'att': 5758,\n",
              " 'paul': 24616,\n",
              " 'conditt': 9428,\n",
              " 'insert': 18011,\n",
              " 'deletion': 11041,\n",
              " 'aaron': 3892,\n",
              " 'discourse': 11701,\n",
              " 'ref': 27304,\n",
              " 'galatians': 15060,\n",
              " '19': 966,\n",
              " '20': 1341,\n",
              " 'obvious': 23541,\n",
              " 'speaking': 30330,\n",
              " 'acts': 4211,\n",
              " 'flesh': 14440,\n",
              " 'just': 19076,\n",
              " 'emotions': 12902,\n",
              " 'themselves': 32163,\n",
              " 'moral': 22200,\n",
              " 'immoral': 17423,\n",
              " 'bad': 6057,\n",
              " 'first': 14357,\n",
              " 'label': 19649,\n",
              " 'emotion': 12898,\n",
              " 'numb': 23362,\n",
              " 'ourselves': 24050,\n",
              " 'hide': 16562,\n",
              " 'god': 15521,\n",
              " 'accepts': 4045,\n",
              " 'us': 33847,\n",
              " 'oh': 23660,\n",
              " 'definitely': 10983,\n",
              " 'colossians': 9056,\n",
              " 'ephesians': 13192,\n",
              " '27': 1700,\n",
              " 'controlled': 9774,\n",
              " 'puts': 26572,\n",
              " 'strong': 31000,\n",
              " 'emphasis': 12911,\n",
              " 'self': 29171,\n",
              " 'write': 35346,\n",
              " 'timothy': 32435,\n",
              " 'making': 20868,\n",
              " 'sure': 31394,\n",
              " 'teach': 31849,\n",
              " 'remainder': 27525,\n",
              " 'paragraph': 24411,\n",
              " 'think': 32253,\n",
              " 'quick': 26724,\n",
              " 'judge': 19014,\n",
              " 'forgiven': 14656,\n",
              " 'aids': 4566,\n",
              " 'dealt': 10802,\n",
              " 'taken': 31711,\n",
              " 'responsibility': 27840,\n",
              " 'appropriate': 5319,\n",
              " 'choices': 8499,\n",
              " 'read': 27049,\n",
              " 'yourself': 35651,\n",
              " 'joe': 18869,\n",
              " 'again': 4486,\n",
              " 'issue': 18542,\n",
              " 'especially': 13351,\n",
              " 'over': 24108,\n",
              " 'stem': 30741,\n",
              " 'instances': 18051,\n",
              " 'giving': 15408,\n",
              " 'soon': 30208,\n",
              " 'moore': 22193,\n",
              " 'aldridge': 4661,\n",
              " 'netcom': 22861,\n",
              " 'jacquelin': 18627,\n",
              " 'teenage': 31893,\n",
              " 'acne': 4165,\n",
              " 'line': 20242,\n",
              " 'communication': 9171,\n",
              " 'services': 29306,\n",
              " '408': 2198,\n",
              " '241': 1599,\n",
              " '9760': 3432,\n",
              " 'guest': 15907,\n",
              " 'pchurch': 24668,\n",
              " 'swell': 31528,\n",
              " 'actrix': 4210,\n",
              " 'gen': 15195,\n",
              " 'nz': 23432,\n",
              " 'pat': 24565,\n",
              " 'churchill': 8612,\n",
              " 'usual': 33889,\n",
              " 'spotty': 30494,\n",
              " 'chin': 8470,\n",
              " 'greasy': 15742,\n",
              " 'nose': 23240,\n",
              " 'bought': 7073,\n",
              " 'him': 16603,\n",
              " 'clearasil': 8777,\n",
              " 'face': 13892,\n",
              " 'wash': 34705,\n",
              " 'ointment': 23671,\n",
              " 'probably': 26085,\n",
              " 'diet': 11505,\n",
              " 'product': 26136,\n",
              " 'called': 7718,\n",
              " 'dalacin': 10602,\n",
              " 'used': 33860,\n",
              " 'prescription': 25907,\n",
              " 'treatment': 32847,\n",
              " 'available': 5906,\n",
              " 'chemist': 8406,\n",
              " 'counter': 10006,\n",
              " 'asked': 5580,\n",
              " 'couple': 10028,\n",
              " 'pharmacists': 24998,\n",
              " 'either': 12711,\n",
              " 'severe': 29337,\n",
              " 'ok': 23674,\n",
              " 'odd': 23589,\n",
              " 'spots': 30493,\n",
              " 'teenager': 31894,\n",
              " 'nothing': 23264,\n",
              " 'serious': 29285,\n",
              " 'father': 14060,\n",
              " 'figure': 14272,\n",
              " 'escalate': 13330,\n",
              " 'disfiguring': 11735,\n",
              " 'kids': 19336,\n",
              " 'senstitive': 29229,\n",
              " 'appearance': 5267,\n",
              " 'wary': 34702,\n",
              " 'neighbour': 22816,\n",
              " 'wierd': 35031,\n",
              " 'malady': 20873,\n",
              " 'eventually': 13501,\n",
              " 'down': 12176,\n",
              " 'overdose': 24121,\n",
              " 'vitamin': 34417,\n",
              " 'scaliness': 28779,\n",
              " 'around': 5489,\n",
              " 'hairline': 16038,\n",
              " 'scalp': 28783,\n",
              " 'sort': 30233,\n",
              " 'cradle': 10109,\n",
              " 'cap': 7820,\n",
              " 'pointers': 25445,\n",
              " 'advice': 4399,\n",
              " 'tried': 32898,\n",
              " 'anti': 5138,\n",
              " 'dandruff': 10633,\n",
              " 'shampoos': 29412,\n",
              " 'inclined': 17601,\n",
              " 'condition': 9423,\n",
              " 'worse': 35295,\n",
              " 'better': 6557,\n",
              " 'shall': 29399,\n",
              " 'bury': 7463,\n",
              " 'kid': 19330,\n",
              " 'till': 32409,\n",
              " '21': 1421,\n",
              " 'lucky': 20599,\n",
              " 'ones': 23746,\n",
              " 'little': 20342,\n",
              " 'luck': 20597,\n",
              " 'skin': 29864,\n",
              " 'gets': 15322,\n",
              " 'oily': 23668,\n",
              " 'really': 27088,\n",
              " 'miserable': 21898,\n",
              " 'pimples': 25200,\n",
              " 'dry': 12294,\n",
              " 'frequent': 14848,\n",
              " 'lukewarm': 20613,\n",
              " 'water': 34727,\n",
              " 'rinses': 28120,\n",
              " 'getting': 15323,\n",
              " 'thing': 32249,\n",
              " 'under': 33410,\n",
              " 'simple': 29724,\n",
              " 'submerging': 31093,\n",
              " 'bathwater': 6253,\n",
              " 'softened': 30112,\n",
              " 'washing': 34709,\n",
              " 'taking': 31716,\n",
              " 'mineral': 21814,\n",
              " 'heard': 16336,\n",
              " 'iodine': 18380,\n",
              " 'causes': 8037,\n",
              " 'trouble': 32962,\n",
              " 'fast': 14048,\n",
              " 'food': 14581,\n",
              " 'restaurants': 27850,\n",
              " 'sterilize': 30766,\n",
              " 'equipment': 13256,\n",
              " 'where': 34938,\n",
              " 'foods': 14583,\n",
              " 'came': 7746,\n",
              " 'grease': 15741,\n",
              " 'immediately': 17410,\n",
              " 'removed': 27567,\n",
              " 'eating': 12524,\n",
              " 'meat': 21356,\n",
              " 'keeping': 19213,\n",
              " 'hair': 16036,\n",
              " 'rinse': 28119,\n",
              " 'mousse': 22315,\n",
              " 'dip': 11599,\n",
              " 'spray': 30502,\n",
              " 'warm': 34672,\n",
              " 'bath': 6248,\n",
              " 'soaks': 30071,\n",
              " 'cloths': 8865,\n",
              " 'soften': 30111,\n",
              " 'oil': 23667,\n",
              " 'pores': 25580,\n",
              " 'prevent': 25983,\n",
              " 'blackheads': 6774,\n",
              " 'hydrophilic': 17093,\n",
              " 'loves': 20543,\n",
              " 'softens': 30113,\n",
              " 'washes': 34708,\n",
              " 'chance': 8278,\n",
              " 'goes': 15541,\n",
              " 'limp': 20226,\n",
              " 'oilyness': 23669,\n",
              " 'becoming': 6342,\n",
              " 'convinced': 9820,\n",
              " 'best': 6540,\n",
              " 'whitehead': 34973,\n",
              " 'leave': 19926,\n",
              " 'alone': 4787,\n",
              " 'days': 10760,\n",
              " 'pimple': 25199,\n",
              " 'misery': 21901,\n",
              " 'prying': 26386,\n",
              " 'black': 6773,\n",
              " 'whiteheads': 34974,\n",
              " 'infections': 17796,\n",
              " 'red': 27255,\n",
              " 'usually': 33891,\n",
              " 'break': 7167,\n",
              " 'naturally': 22686,\n",
              " 'won': 35217,\n",
              " 'infection': 17795,\n",
              " 'afterwards': 4479,\n",
              " 'normal': 23210,\n",
              " 'cosmetic': 9970,\n",
              " 'industry': 17742,\n",
              " 'makes': 20866,\n",
              " 'money': 22135,\n",
              " 'selling': 29180,\n",
              " 'idea': 17219,\n",
              " 'incredible': 17650,\n",
              " 'defect': 10949,\n",
              " 'hidden': 16561,\n",
              " 'cost': 9981,\n",
              " 'causing': 8039,\n",
              " 'jackie': 18618,\n",
              " 'geb': 15173,\n",
              " 'pitt': 25234,\n",
              " 'gordon': 15591,\n",
              " 'banks': 6140,\n",
              " 'blindsight': 6838,\n",
              " 'reply': 27664,\n",
              " 'pittsburgh': 25237,\n",
              " 'science': 28897,\n",
              " '18': 896,\n",
              " 'werner': 34881,\n",
              " '240393161954': 1594,\n",
              " 'tol7mac15': 32522,\n",
              " 'soe': 30105,\n",
              " 'berkeley': 6507,\n",
              " 'john': 18880,\n",
              " '19213': 995,\n",
              " 'uucp': 33940,\n",
              " 'wrote': 35363,\n",
              " 'explain': 13733,\n",
              " 'thought': 32298,\n",
              " 'types': 33142,\n",
              " 'cones': 9444,\n",
              " 'equivalent': 13259,\n",
              " 'rgb': 28011,\n",
              " 'basically': 6223,\n",
              " 'right': 28089,\n",
              " 'sensitive': 29222,\n",
              " 'green': 15755,\n",
              " 'blue': 6882,\n",
              " 'yellow': 35597,\n",
              " 'two': 33125,\n",
              " 'common': 9158,\n",
              " 'kinds': 19378,\n",
              " 'color': 9045,\n",
              " 'blindness': 6836,\n",
              " 'yes': 35601,\n",
              " 'remember': 27543,\n",
              " 'now': 23301,\n",
              " 'contrary': 9748,\n",
              " 'original': 23940,\n",
              " 'respondent': 27832,\n",
              " 'claimed': 8715,\n",
              " 'n3jxp': 22582,\n",
              " 'skepticism': 29848,\n",
              " 'chastity': 8362,\n",
              " 'intellect': 18117,\n",
              " 'cadre': 7665,\n",
              " 'dsl': 12307,\n",
              " 'shameful': 29408,\n",
              " 'surrender': 31424,\n",
              " 'too': 32570,\n",
              " 'libman': 20133,\n",
              " 'hsc': 16954,\n",
              " 'usc': 33853,\n",
              " 'marlena': 21053,\n",
              " 'patient': 24593,\n",
              " 'relationship': 27459,\n",
              " 'southern': 30259,\n",
              " 'california': 7711,\n",
              " 'los': 20506,\n",
              " 'angeles': 5026,\n",
              " 'ca': 7643,\n",
              " '64': 2667,\n",
              " 'situation': 29813,\n",
              " 'occurred': 23566,\n",
              " 'between': 6561,\n",
              " 'physican': 25115,\n",
              " 'upset': 33808,\n",
              " 'saw': 28747,\n",
              " 'recurring': 27248,\n",
              " 'pain': 24296,\n",
              " 'suggested': 31218,\n",
              " 'medication': 21389,\n",
              " 'course': 10037,\n",
              " 'told': 32523,\n",
              " 'begin': 6381,\n",
              " 'monitor': 22140,\n",
              " 'its': 18585,\n",
              " 'effectiveness': 12660,\n",
              " 'general': 15209,\n",
              " 'health': 16328,\n",
              " 'exactly': 13552,\n",
              " 'reaching': 27038,\n",
              " 'secretary': 29094,\n",
              " 'explained': 13737,\n",
              " 'her': 16470,\n",
              " 'following': 14565,\n",
              " 'request': 27727,\n",
              " 'worried': 35290,\n",
              " 'episodes': 13215,\n",
              " 'effective': 12658,\n",
              " 'words': 35249,\n",
              " 'whatever': 34924,\n",
              " 'busy': 7479,\n",
              " 'time': 32417,\n",
              " 'chit': 8493,\n",
              " 'chat': 8363,\n",
              " 'simply': 29736,\n",
              " 'instructions': 18080,\n",
              " '7th': 3052,\n",
              " 'status': 30696,\n",
              " 'feeling': 14137,\n",
              " 'talk': 31723,\n",
              " 'responded': 27831,\n",
              " 'spit': 30445,\n",
              " 'said': 28573,\n",
              " 'raised': 26849,\n",
              " 'voice': 34463,\n",
              " 'started': 30661,\n",
              " 'quickly': 26727,\n",
              " 'nervousness': 22847,\n",
              " 'interfered': 18176,\n",
              " 'choice': 8498,\n",
              " 'stuttered': 31052,\n",
              " ...}"
            ]
          },
          "metadata": {},
          "execution_count": 10
        }
      ]
    },
    {
      "cell_type": "markdown",
      "source": [
        "## Unique y values (i.e the labels)"
      ],
      "metadata": {
        "id": "_WAO-2Lz2bre"
      }
    },
    {
      "cell_type": "code",
      "source": [
        "set(y)"
      ],
      "metadata": {
        "colab": {
          "base_uri": "https://localhost:8080/"
        },
        "id": "dKP4ET432fn8",
        "outputId": "a62b5338-d282-4495-cdf7-dca4a653a787"
      },
      "execution_count": null,
      "outputs": [
        {
          "output_type": "execute_result",
          "data": {
            "text/plain": [
              "{np.int64(0), np.int64(1), np.int64(2), np.int64(3)}"
            ]
          },
          "metadata": {},
          "execution_count": 11
        }
      ]
    },
    {
      "cell_type": "markdown",
      "source": [
        "## (80-20) % Train-Test splits"
      ],
      "metadata": {
        "id": "PXUU3R_JylmU"
      }
    },
    {
      "cell_type": "code",
      "source": [
        "from sklearn.model_selection import train_test_split\n",
        "X_train, X_test, y_train, y_test = train_test_split(X, y, test_size = 0.20, random_state=42)"
      ],
      "metadata": {
        "id": "B79pqxBlLbMG"
      },
      "execution_count": null,
      "outputs": []
    },
    {
      "cell_type": "markdown",
      "source": [
        "## Training and Testing a LR model"
      ],
      "metadata": {
        "id": "ur6PTDbUXMDH"
      }
    },
    {
      "cell_type": "code",
      "source": [
        "# Create linear regression object\n",
        "# regr = LinearRegression()\n",
        "clf = LogisticRegression()\n",
        "# Train the model using the training sets\n",
        "clf.fit(X_train, y_train)"
      ],
      "metadata": {
        "colab": {
          "base_uri": "https://localhost:8080/",
          "height": 219
        },
        "id": "A0B9wcMAK6GK",
        "outputId": "b6164327-62b1-4b76-ca5b-93c2baaabbfa"
      },
      "execution_count": null,
      "outputs": [
        {
          "output_type": "stream",
          "name": "stderr",
          "text": [
            "/usr/local/lib/python3.12/dist-packages/sklearn/linear_model/_logistic.py:465: ConvergenceWarning: lbfgs failed to converge (status=1):\n",
            "STOP: TOTAL NO. OF ITERATIONS REACHED LIMIT.\n",
            "\n",
            "Increase the number of iterations (max_iter) or scale the data as shown in:\n",
            "    https://scikit-learn.org/stable/modules/preprocessing.html\n",
            "Please also refer to the documentation for alternative solver options:\n",
            "    https://scikit-learn.org/stable/modules/linear_model.html#logistic-regression\n",
            "  n_iter_i = _check_optimize_result(\n"
          ]
        },
        {
          "output_type": "execute_result",
          "data": {
            "text/plain": [
              "LogisticRegression()"
            ],
            "text/html": [
              "<style>#sk-container-id-1 {\n",
              "  /* Definition of color scheme common for light and dark mode */\n",
              "  --sklearn-color-text: #000;\n",
              "  --sklearn-color-text-muted: #666;\n",
              "  --sklearn-color-line: gray;\n",
              "  /* Definition of color scheme for unfitted estimators */\n",
              "  --sklearn-color-unfitted-level-0: #fff5e6;\n",
              "  --sklearn-color-unfitted-level-1: #f6e4d2;\n",
              "  --sklearn-color-unfitted-level-2: #ffe0b3;\n",
              "  --sklearn-color-unfitted-level-3: chocolate;\n",
              "  /* Definition of color scheme for fitted estimators */\n",
              "  --sklearn-color-fitted-level-0: #f0f8ff;\n",
              "  --sklearn-color-fitted-level-1: #d4ebff;\n",
              "  --sklearn-color-fitted-level-2: #b3dbfd;\n",
              "  --sklearn-color-fitted-level-3: cornflowerblue;\n",
              "\n",
              "  /* Specific color for light theme */\n",
              "  --sklearn-color-text-on-default-background: var(--sg-text-color, var(--theme-code-foreground, var(--jp-content-font-color1, black)));\n",
              "  --sklearn-color-background: var(--sg-background-color, var(--theme-background, var(--jp-layout-color0, white)));\n",
              "  --sklearn-color-border-box: var(--sg-text-color, var(--theme-code-foreground, var(--jp-content-font-color1, black)));\n",
              "  --sklearn-color-icon: #696969;\n",
              "\n",
              "  @media (prefers-color-scheme: dark) {\n",
              "    /* Redefinition of color scheme for dark theme */\n",
              "    --sklearn-color-text-on-default-background: var(--sg-text-color, var(--theme-code-foreground, var(--jp-content-font-color1, white)));\n",
              "    --sklearn-color-background: var(--sg-background-color, var(--theme-background, var(--jp-layout-color0, #111)));\n",
              "    --sklearn-color-border-box: var(--sg-text-color, var(--theme-code-foreground, var(--jp-content-font-color1, white)));\n",
              "    --sklearn-color-icon: #878787;\n",
              "  }\n",
              "}\n",
              "\n",
              "#sk-container-id-1 {\n",
              "  color: var(--sklearn-color-text);\n",
              "}\n",
              "\n",
              "#sk-container-id-1 pre {\n",
              "  padding: 0;\n",
              "}\n",
              "\n",
              "#sk-container-id-1 input.sk-hidden--visually {\n",
              "  border: 0;\n",
              "  clip: rect(1px 1px 1px 1px);\n",
              "  clip: rect(1px, 1px, 1px, 1px);\n",
              "  height: 1px;\n",
              "  margin: -1px;\n",
              "  overflow: hidden;\n",
              "  padding: 0;\n",
              "  position: absolute;\n",
              "  width: 1px;\n",
              "}\n",
              "\n",
              "#sk-container-id-1 div.sk-dashed-wrapped {\n",
              "  border: 1px dashed var(--sklearn-color-line);\n",
              "  margin: 0 0.4em 0.5em 0.4em;\n",
              "  box-sizing: border-box;\n",
              "  padding-bottom: 0.4em;\n",
              "  background-color: var(--sklearn-color-background);\n",
              "}\n",
              "\n",
              "#sk-container-id-1 div.sk-container {\n",
              "  /* jupyter's `normalize.less` sets `[hidden] { display: none; }`\n",
              "     but bootstrap.min.css set `[hidden] { display: none !important; }`\n",
              "     so we also need the `!important` here to be able to override the\n",
              "     default hidden behavior on the sphinx rendered scikit-learn.org.\n",
              "     See: https://github.com/scikit-learn/scikit-learn/issues/21755 */\n",
              "  display: inline-block !important;\n",
              "  position: relative;\n",
              "}\n",
              "\n",
              "#sk-container-id-1 div.sk-text-repr-fallback {\n",
              "  display: none;\n",
              "}\n",
              "\n",
              "div.sk-parallel-item,\n",
              "div.sk-serial,\n",
              "div.sk-item {\n",
              "  /* draw centered vertical line to link estimators */\n",
              "  background-image: linear-gradient(var(--sklearn-color-text-on-default-background), var(--sklearn-color-text-on-default-background));\n",
              "  background-size: 2px 100%;\n",
              "  background-repeat: no-repeat;\n",
              "  background-position: center center;\n",
              "}\n",
              "\n",
              "/* Parallel-specific style estimator block */\n",
              "\n",
              "#sk-container-id-1 div.sk-parallel-item::after {\n",
              "  content: \"\";\n",
              "  width: 100%;\n",
              "  border-bottom: 2px solid var(--sklearn-color-text-on-default-background);\n",
              "  flex-grow: 1;\n",
              "}\n",
              "\n",
              "#sk-container-id-1 div.sk-parallel {\n",
              "  display: flex;\n",
              "  align-items: stretch;\n",
              "  justify-content: center;\n",
              "  background-color: var(--sklearn-color-background);\n",
              "  position: relative;\n",
              "}\n",
              "\n",
              "#sk-container-id-1 div.sk-parallel-item {\n",
              "  display: flex;\n",
              "  flex-direction: column;\n",
              "}\n",
              "\n",
              "#sk-container-id-1 div.sk-parallel-item:first-child::after {\n",
              "  align-self: flex-end;\n",
              "  width: 50%;\n",
              "}\n",
              "\n",
              "#sk-container-id-1 div.sk-parallel-item:last-child::after {\n",
              "  align-self: flex-start;\n",
              "  width: 50%;\n",
              "}\n",
              "\n",
              "#sk-container-id-1 div.sk-parallel-item:only-child::after {\n",
              "  width: 0;\n",
              "}\n",
              "\n",
              "/* Serial-specific style estimator block */\n",
              "\n",
              "#sk-container-id-1 div.sk-serial {\n",
              "  display: flex;\n",
              "  flex-direction: column;\n",
              "  align-items: center;\n",
              "  background-color: var(--sklearn-color-background);\n",
              "  padding-right: 1em;\n",
              "  padding-left: 1em;\n",
              "}\n",
              "\n",
              "\n",
              "/* Toggleable style: style used for estimator/Pipeline/ColumnTransformer box that is\n",
              "clickable and can be expanded/collapsed.\n",
              "- Pipeline and ColumnTransformer use this feature and define the default style\n",
              "- Estimators will overwrite some part of the style using the `sk-estimator` class\n",
              "*/\n",
              "\n",
              "/* Pipeline and ColumnTransformer style (default) */\n",
              "\n",
              "#sk-container-id-1 div.sk-toggleable {\n",
              "  /* Default theme specific background. It is overwritten whether we have a\n",
              "  specific estimator or a Pipeline/ColumnTransformer */\n",
              "  background-color: var(--sklearn-color-background);\n",
              "}\n",
              "\n",
              "/* Toggleable label */\n",
              "#sk-container-id-1 label.sk-toggleable__label {\n",
              "  cursor: pointer;\n",
              "  display: flex;\n",
              "  width: 100%;\n",
              "  margin-bottom: 0;\n",
              "  padding: 0.5em;\n",
              "  box-sizing: border-box;\n",
              "  text-align: center;\n",
              "  align-items: start;\n",
              "  justify-content: space-between;\n",
              "  gap: 0.5em;\n",
              "}\n",
              "\n",
              "#sk-container-id-1 label.sk-toggleable__label .caption {\n",
              "  font-size: 0.6rem;\n",
              "  font-weight: lighter;\n",
              "  color: var(--sklearn-color-text-muted);\n",
              "}\n",
              "\n",
              "#sk-container-id-1 label.sk-toggleable__label-arrow:before {\n",
              "  /* Arrow on the left of the label */\n",
              "  content: \"▸\";\n",
              "  float: left;\n",
              "  margin-right: 0.25em;\n",
              "  color: var(--sklearn-color-icon);\n",
              "}\n",
              "\n",
              "#sk-container-id-1 label.sk-toggleable__label-arrow:hover:before {\n",
              "  color: var(--sklearn-color-text);\n",
              "}\n",
              "\n",
              "/* Toggleable content - dropdown */\n",
              "\n",
              "#sk-container-id-1 div.sk-toggleable__content {\n",
              "  max-height: 0;\n",
              "  max-width: 0;\n",
              "  overflow: hidden;\n",
              "  text-align: left;\n",
              "  /* unfitted */\n",
              "  background-color: var(--sklearn-color-unfitted-level-0);\n",
              "}\n",
              "\n",
              "#sk-container-id-1 div.sk-toggleable__content.fitted {\n",
              "  /* fitted */\n",
              "  background-color: var(--sklearn-color-fitted-level-0);\n",
              "}\n",
              "\n",
              "#sk-container-id-1 div.sk-toggleable__content pre {\n",
              "  margin: 0.2em;\n",
              "  border-radius: 0.25em;\n",
              "  color: var(--sklearn-color-text);\n",
              "  /* unfitted */\n",
              "  background-color: var(--sklearn-color-unfitted-level-0);\n",
              "}\n",
              "\n",
              "#sk-container-id-1 div.sk-toggleable__content.fitted pre {\n",
              "  /* unfitted */\n",
              "  background-color: var(--sklearn-color-fitted-level-0);\n",
              "}\n",
              "\n",
              "#sk-container-id-1 input.sk-toggleable__control:checked~div.sk-toggleable__content {\n",
              "  /* Expand drop-down */\n",
              "  max-height: 200px;\n",
              "  max-width: 100%;\n",
              "  overflow: auto;\n",
              "}\n",
              "\n",
              "#sk-container-id-1 input.sk-toggleable__control:checked~label.sk-toggleable__label-arrow:before {\n",
              "  content: \"▾\";\n",
              "}\n",
              "\n",
              "/* Pipeline/ColumnTransformer-specific style */\n",
              "\n",
              "#sk-container-id-1 div.sk-label input.sk-toggleable__control:checked~label.sk-toggleable__label {\n",
              "  color: var(--sklearn-color-text);\n",
              "  background-color: var(--sklearn-color-unfitted-level-2);\n",
              "}\n",
              "\n",
              "#sk-container-id-1 div.sk-label.fitted input.sk-toggleable__control:checked~label.sk-toggleable__label {\n",
              "  background-color: var(--sklearn-color-fitted-level-2);\n",
              "}\n",
              "\n",
              "/* Estimator-specific style */\n",
              "\n",
              "/* Colorize estimator box */\n",
              "#sk-container-id-1 div.sk-estimator input.sk-toggleable__control:checked~label.sk-toggleable__label {\n",
              "  /* unfitted */\n",
              "  background-color: var(--sklearn-color-unfitted-level-2);\n",
              "}\n",
              "\n",
              "#sk-container-id-1 div.sk-estimator.fitted input.sk-toggleable__control:checked~label.sk-toggleable__label {\n",
              "  /* fitted */\n",
              "  background-color: var(--sklearn-color-fitted-level-2);\n",
              "}\n",
              "\n",
              "#sk-container-id-1 div.sk-label label.sk-toggleable__label,\n",
              "#sk-container-id-1 div.sk-label label {\n",
              "  /* The background is the default theme color */\n",
              "  color: var(--sklearn-color-text-on-default-background);\n",
              "}\n",
              "\n",
              "/* On hover, darken the color of the background */\n",
              "#sk-container-id-1 div.sk-label:hover label.sk-toggleable__label {\n",
              "  color: var(--sklearn-color-text);\n",
              "  background-color: var(--sklearn-color-unfitted-level-2);\n",
              "}\n",
              "\n",
              "/* Label box, darken color on hover, fitted */\n",
              "#sk-container-id-1 div.sk-label.fitted:hover label.sk-toggleable__label.fitted {\n",
              "  color: var(--sklearn-color-text);\n",
              "  background-color: var(--sklearn-color-fitted-level-2);\n",
              "}\n",
              "\n",
              "/* Estimator label */\n",
              "\n",
              "#sk-container-id-1 div.sk-label label {\n",
              "  font-family: monospace;\n",
              "  font-weight: bold;\n",
              "  display: inline-block;\n",
              "  line-height: 1.2em;\n",
              "}\n",
              "\n",
              "#sk-container-id-1 div.sk-label-container {\n",
              "  text-align: center;\n",
              "}\n",
              "\n",
              "/* Estimator-specific */\n",
              "#sk-container-id-1 div.sk-estimator {\n",
              "  font-family: monospace;\n",
              "  border: 1px dotted var(--sklearn-color-border-box);\n",
              "  border-radius: 0.25em;\n",
              "  box-sizing: border-box;\n",
              "  margin-bottom: 0.5em;\n",
              "  /* unfitted */\n",
              "  background-color: var(--sklearn-color-unfitted-level-0);\n",
              "}\n",
              "\n",
              "#sk-container-id-1 div.sk-estimator.fitted {\n",
              "  /* fitted */\n",
              "  background-color: var(--sklearn-color-fitted-level-0);\n",
              "}\n",
              "\n",
              "/* on hover */\n",
              "#sk-container-id-1 div.sk-estimator:hover {\n",
              "  /* unfitted */\n",
              "  background-color: var(--sklearn-color-unfitted-level-2);\n",
              "}\n",
              "\n",
              "#sk-container-id-1 div.sk-estimator.fitted:hover {\n",
              "  /* fitted */\n",
              "  background-color: var(--sklearn-color-fitted-level-2);\n",
              "}\n",
              "\n",
              "/* Specification for estimator info (e.g. \"i\" and \"?\") */\n",
              "\n",
              "/* Common style for \"i\" and \"?\" */\n",
              "\n",
              ".sk-estimator-doc-link,\n",
              "a:link.sk-estimator-doc-link,\n",
              "a:visited.sk-estimator-doc-link {\n",
              "  float: right;\n",
              "  font-size: smaller;\n",
              "  line-height: 1em;\n",
              "  font-family: monospace;\n",
              "  background-color: var(--sklearn-color-background);\n",
              "  border-radius: 1em;\n",
              "  height: 1em;\n",
              "  width: 1em;\n",
              "  text-decoration: none !important;\n",
              "  margin-left: 0.5em;\n",
              "  text-align: center;\n",
              "  /* unfitted */\n",
              "  border: var(--sklearn-color-unfitted-level-1) 1pt solid;\n",
              "  color: var(--sklearn-color-unfitted-level-1);\n",
              "}\n",
              "\n",
              ".sk-estimator-doc-link.fitted,\n",
              "a:link.sk-estimator-doc-link.fitted,\n",
              "a:visited.sk-estimator-doc-link.fitted {\n",
              "  /* fitted */\n",
              "  border: var(--sklearn-color-fitted-level-1) 1pt solid;\n",
              "  color: var(--sklearn-color-fitted-level-1);\n",
              "}\n",
              "\n",
              "/* On hover */\n",
              "div.sk-estimator:hover .sk-estimator-doc-link:hover,\n",
              ".sk-estimator-doc-link:hover,\n",
              "div.sk-label-container:hover .sk-estimator-doc-link:hover,\n",
              ".sk-estimator-doc-link:hover {\n",
              "  /* unfitted */\n",
              "  background-color: var(--sklearn-color-unfitted-level-3);\n",
              "  color: var(--sklearn-color-background);\n",
              "  text-decoration: none;\n",
              "}\n",
              "\n",
              "div.sk-estimator.fitted:hover .sk-estimator-doc-link.fitted:hover,\n",
              ".sk-estimator-doc-link.fitted:hover,\n",
              "div.sk-label-container:hover .sk-estimator-doc-link.fitted:hover,\n",
              ".sk-estimator-doc-link.fitted:hover {\n",
              "  /* fitted */\n",
              "  background-color: var(--sklearn-color-fitted-level-3);\n",
              "  color: var(--sklearn-color-background);\n",
              "  text-decoration: none;\n",
              "}\n",
              "\n",
              "/* Span, style for the box shown on hovering the info icon */\n",
              ".sk-estimator-doc-link span {\n",
              "  display: none;\n",
              "  z-index: 9999;\n",
              "  position: relative;\n",
              "  font-weight: normal;\n",
              "  right: .2ex;\n",
              "  padding: .5ex;\n",
              "  margin: .5ex;\n",
              "  width: min-content;\n",
              "  min-width: 20ex;\n",
              "  max-width: 50ex;\n",
              "  color: var(--sklearn-color-text);\n",
              "  box-shadow: 2pt 2pt 4pt #999;\n",
              "  /* unfitted */\n",
              "  background: var(--sklearn-color-unfitted-level-0);\n",
              "  border: .5pt solid var(--sklearn-color-unfitted-level-3);\n",
              "}\n",
              "\n",
              ".sk-estimator-doc-link.fitted span {\n",
              "  /* fitted */\n",
              "  background: var(--sklearn-color-fitted-level-0);\n",
              "  border: var(--sklearn-color-fitted-level-3);\n",
              "}\n",
              "\n",
              ".sk-estimator-doc-link:hover span {\n",
              "  display: block;\n",
              "}\n",
              "\n",
              "/* \"?\"-specific style due to the `<a>` HTML tag */\n",
              "\n",
              "#sk-container-id-1 a.estimator_doc_link {\n",
              "  float: right;\n",
              "  font-size: 1rem;\n",
              "  line-height: 1em;\n",
              "  font-family: monospace;\n",
              "  background-color: var(--sklearn-color-background);\n",
              "  border-radius: 1rem;\n",
              "  height: 1rem;\n",
              "  width: 1rem;\n",
              "  text-decoration: none;\n",
              "  /* unfitted */\n",
              "  color: var(--sklearn-color-unfitted-level-1);\n",
              "  border: var(--sklearn-color-unfitted-level-1) 1pt solid;\n",
              "}\n",
              "\n",
              "#sk-container-id-1 a.estimator_doc_link.fitted {\n",
              "  /* fitted */\n",
              "  border: var(--sklearn-color-fitted-level-1) 1pt solid;\n",
              "  color: var(--sklearn-color-fitted-level-1);\n",
              "}\n",
              "\n",
              "/* On hover */\n",
              "#sk-container-id-1 a.estimator_doc_link:hover {\n",
              "  /* unfitted */\n",
              "  background-color: var(--sklearn-color-unfitted-level-3);\n",
              "  color: var(--sklearn-color-background);\n",
              "  text-decoration: none;\n",
              "}\n",
              "\n",
              "#sk-container-id-1 a.estimator_doc_link.fitted:hover {\n",
              "  /* fitted */\n",
              "  background-color: var(--sklearn-color-fitted-level-3);\n",
              "}\n",
              "</style><div id=\"sk-container-id-1\" class=\"sk-top-container\"><div class=\"sk-text-repr-fallback\"><pre>LogisticRegression()</pre><b>In a Jupyter environment, please rerun this cell to show the HTML representation or trust the notebook. <br />On GitHub, the HTML representation is unable to render, please try loading this page with nbviewer.org.</b></div><div class=\"sk-container\" hidden><div class=\"sk-item\"><div class=\"sk-estimator fitted sk-toggleable\"><input class=\"sk-toggleable__control sk-hidden--visually\" id=\"sk-estimator-id-1\" type=\"checkbox\" checked><label for=\"sk-estimator-id-1\" class=\"sk-toggleable__label fitted sk-toggleable__label-arrow\"><div><div>LogisticRegression</div></div><div><a class=\"sk-estimator-doc-link fitted\" rel=\"noreferrer\" target=\"_blank\" href=\"https://scikit-learn.org/1.6/modules/generated/sklearn.linear_model.LogisticRegression.html\">?<span>Documentation for LogisticRegression</span></a><span class=\"sk-estimator-doc-link fitted\">i<span>Fitted</span></span></div></label><div class=\"sk-toggleable__content fitted\"><pre>LogisticRegression()</pre></div> </div></div></div></div>"
            ]
          },
          "metadata": {},
          "execution_count": 13
        }
      ]
    },
    {
      "cell_type": "markdown",
      "source": [
        "Regression model parameters"
      ],
      "metadata": {
        "id": "9qP4_2vpXisT"
      }
    },
    {
      "cell_type": "code",
      "source": [
        "# Make predictions using the testing set\n",
        "y_pred = clf.predict(X_test)\n",
        "# The mean squared error\n",
        "print(\"accuracy: %.2f\" % accuracy_score(y_test, y_pred))"
      ],
      "metadata": {
        "colab": {
          "base_uri": "https://localhost:8080/"
        },
        "id": "Kt230GBvfj_z",
        "outputId": "d970ac17-406d-483c-a8ef-1ea01a1349e9"
      },
      "execution_count": null,
      "outputs": [
        {
          "output_type": "stream",
          "name": "stdout",
          "text": [
            "accuracy: 0.96\n"
          ]
        }
      ]
    },
    {
      "cell_type": "markdown",
      "source": [
        "## Confusion Matrix"
      ],
      "metadata": {
        "id": "MObKfHkXtUuw"
      }
    },
    {
      "cell_type": "code",
      "source": [
        "from sklearn.metrics import confusion_matrix\n",
        "cm = confusion_matrix(y_test, y_pred)"
      ],
      "metadata": {
        "id": "ejk_psjRtX78"
      },
      "execution_count": null,
      "outputs": []
    },
    {
      "cell_type": "code",
      "source": [
        "import matplotlib.pyplot as plt\n",
        "from sklearn.metrics import confusion_matrix, ConfusionMatrixDisplay\n",
        "disp = ConfusionMatrixDisplay(confusion_matrix=cm,\n",
        "                              display_labels=clf.classes_)\n",
        "disp.plot()\n",
        "plt.show()"
      ],
      "metadata": {
        "colab": {
          "base_uri": "https://localhost:8080/",
          "height": 449
        },
        "id": "YpBVjya65dAP",
        "outputId": "59c84d28-bbad-4ed1-c7e7-3226c31bc8ca"
      },
      "execution_count": null,
      "outputs": [
        {
          "output_type": "display_data",
          "data": {
            "text/plain": [
              "<Figure size 640x480 with 2 Axes>"
            ],
            "image/png": "[encoded data removed]"
          },
          "metadata": {}
        }
      ]
    },
    {
      "cell_type": "code",
      "source": [
        "disp = ConfusionMatrixDisplay(confusion_matrix=cm/cm.sum(axis=0),\n",
        "                              display_labels=clf.classes_)\n",
        "disp.plot()\n",
        "plt.show()"
      ],
      "metadata": {
        "colab": {
          "base_uri": "https://localhost:8080/",
          "height": 449
        },
        "id": "fWAPeZPT8gR6",
        "outputId": "a7769d81-ab63-4496-8e86-bb3a4ea29721"
      },
      "execution_count": null,
      "outputs": [
        {
          "output_type": "display_data",
          "data": {
            "text/plain": [
              "<Figure size 640x480 with 2 Axes>"
            ],
            "image/png": "[encoded data removed]"
          },
          "metadata": {}
        }
      ]
    },
    {
      "cell_type": "markdown",
      "source": [
        "## Converting compressed and sparse to full matrix"
      ],
      "metadata": {
        "id": "bOPmHci3LNut"
      }
    },
    {
      "cell_type": "code",
      "source": [
        "X = X.toarray()"
      ],
      "metadata": {
        "id": "thMsW2JgIouK"
      },
      "execution_count": null,
      "outputs": []
    },
    {
      "cell_type": "markdown",
      "source": [
        "## Random splitting"
      ],
      "metadata": {
        "id": "lJ8AJ7R25SPV"
      }
    },
    {
      "cell_type": "code",
      "source": [
        "from sklearn.model_selection import train_test_split\n",
        "X_train, X_test, y_train, y_test = train_test_split(\n",
        "    X, y, test_size=0.2, random_state=0)\n",
        "X_train.shape, y_train.shape, X_test.shape, y_test.shape"
      ],
      "metadata": {
        "colab": {
          "base_uri": "https://localhost:8080/"
        },
        "id": "DavQndni5PWz",
        "outputId": "6dd352a4-1ecb-4166-c739-32b630fb64d5"
      },
      "execution_count": null,
      "outputs": [
        {
          "output_type": "execute_result",
          "data": {
            "text/plain": [
              "((1805, 35788), (1805,), (452, 35788), (452,))"
            ]
          },
          "metadata": {},
          "execution_count": 36
        }
      ]
    },
    {
      "cell_type": "markdown",
      "source": [
        "## Our Wrapper Class (Can take any model as an input)"
      ],
      "metadata": {
        "id": "e29Ql57TKy33"
      }
    },
    {
      "cell_type": "code",
      "source": [
        "from sklearn.model_selection import cross_val_score\n",
        "\n",
        "class myClassificationModel:\n",
        "  def __init__(self, model):\n",
        "    self.model = model\n",
        "    self.nb_cv_splits = 2\n",
        "    self.evaluation_metrics = 'accuracy' #'f1'\n",
        "\n",
        "  def train(self, X, y):\n",
        "    self.model.fit(X, y)\n",
        "\n",
        "  def evaluate(self, X, y):\n",
        "    y_predict = self.model.predict(X)\n",
        "    # returns accuracy score\n",
        "    return accuracy_score(y, y_predict)\n",
        "\n",
        "  def cv_error(self, X, y):\n",
        "    return cross_val_score(self.model,\n",
        "                           X,\n",
        "                           y, scoring=self.evaluation_metrics,\n",
        "                           cv=self.nb_cv_splits)\n",
        "\n"
      ],
      "metadata": {
        "id": "1ZUXAXzYzQSX"
      },
      "execution_count": null,
      "outputs": []
    },
    {
      "cell_type": "markdown",
      "source": [
        "## Logistic Regression (LR)"
      ],
      "metadata": {
        "id": "qcaltgrg-23H"
      }
    },
    {
      "cell_type": "code",
      "source": [
        "my_model = myClassificationModel(LogisticRegression())\n",
        "my_model.train(X_train, y_train)\n",
        "print('train-error', my_model.evaluate(X_train, y_train))\n",
        "print('test-error', my_model.evaluate(X_test, y_test))"
      ],
      "metadata": {
        "colab": {
          "base_uri": "https://localhost:8080/"
        },
        "id": "km_iBt4Z3Poc",
        "outputId": "97a32598-fbaa-4f23-c2bb-9caf9a619b52"
      },
      "execution_count": null,
      "outputs": [
        {
          "output_type": "stream",
          "name": "stderr",
          "text": [
            "/usr/local/lib/python3.12/dist-packages/sklearn/linear_model/_logistic.py:465: ConvergenceWarning: lbfgs failed to converge (status=1):\n",
            "STOP: TOTAL NO. OF ITERATIONS REACHED LIMIT.\n",
            "\n",
            "Increase the number of iterations (max_iter) or scale the data as shown in:\n",
            "    https://scikit-learn.org/stable/modules/preprocessing.html\n",
            "Please also refer to the documentation for alternative solver options:\n",
            "    https://scikit-learn.org/stable/modules/linear_model.html#logistic-regression\n",
            "  n_iter_i = _check_optimize_result(\n"
          ]
        },
        {
          "output_type": "stream",
          "name": "stdout",
          "text": [
            "train-error 1.0\n",
            "test-error 0.9535398230088495\n"
          ]
        }
      ]
    },
    {
      "cell_type": "code",
      "source": [
        "cv_scores = my_model.cv_error(X, y)\n",
        "print('cross validation scores:', cv_scores)\n",
        "print('cross validation score (mean):', np.mean(cv_scores))\n",
        "print('cross validation score (std):', np.std(cv_scores))"
      ],
      "metadata": {
        "colab": {
          "base_uri": "https://localhost:8080/"
        },
        "id": "pGdGAWmEYiOG",
        "outputId": "9998fab8-6a48-4834-c6bd-035ac45563cf"
      },
      "execution_count": null,
      "outputs": [
        {
          "output_type": "stream",
          "name": "stderr",
          "text": [
            "/usr/local/lib/python3.12/dist-packages/sklearn/linear_model/_logistic.py:465: ConvergenceWarning: lbfgs failed to converge (status=1):\n",
            "STOP: TOTAL NO. OF ITERATIONS REACHED LIMIT.\n",
            "\n",
            "Increase the number of iterations (max_iter) or scale the data as shown in:\n",
            "    https://scikit-learn.org/stable/modules/preprocessing.html\n",
            "Please also refer to the documentation for alternative solver options:\n",
            "    https://scikit-learn.org/stable/modules/linear_model.html#logistic-regression\n",
            "  n_iter_i = _check_optimize_result(\n",
            "/usr/local/lib/python3.12/dist-packages/sklearn/linear_model/_logistic.py:465: ConvergenceWarning: lbfgs failed to converge (status=1):\n",
            "STOP: TOTAL NO. OF ITERATIONS REACHED LIMIT.\n",
            "\n",
            "Increase the number of iterations (max_iter) or scale the data as shown in:\n",
            "    https://scikit-learn.org/stable/modules/preprocessing.html\n",
            "Please also refer to the documentation for alternative solver options:\n",
            "    https://scikit-learn.org/stable/modules/linear_model.html#logistic-regression\n",
            "  n_iter_i = _check_optimize_result(\n"
          ]
        },
        {
          "output_type": "stream",
          "name": "stdout",
          "text": [
            "cross validation scores: [0.95883134 0.94680851 0.94148936]\n",
            "cross validation score (mean): 0.949043071213962\n",
            "cross validation score (std): 0.007254010836801785\n"
          ]
        },
        {
          "output_type": "stream",
          "name": "stderr",
          "text": [
            "/usr/local/lib/python3.12/dist-packages/sklearn/linear_model/_logistic.py:465: ConvergenceWarning: lbfgs failed to converge (status=1):\n",
            "STOP: TOTAL NO. OF ITERATIONS REACHED LIMIT.\n",
            "\n",
            "Increase the number of iterations (max_iter) or scale the data as shown in:\n",
            "    https://scikit-learn.org/stable/modules/preprocessing.html\n",
            "Please also refer to the documentation for alternative solver options:\n",
            "    https://scikit-learn.org/stable/modules/linear_model.html#logistic-regression\n",
            "  n_iter_i = _check_optimize_result(\n"
          ]
        }
      ]
    },
    {
      "cell_type": "markdown",
      "source": [
        "## Random Forest (RF)"
      ],
      "metadata": {
        "id": "teCa-Rky-4cE"
      }
    },
    {
      "cell_type": "code",
      "source": [
        "my_model = myClassificationModel(RandomForestClassifier())\n",
        "my_model.train(X_train, y_train)\n",
        "print('train-error', my_model.evaluate(X_train, y_train))\n",
        "print('test-error', my_model.evaluate(X_test, y_test))"
      ],
      "metadata": {
        "colab": {
          "base_uri": "https://localhost:8080/"
        },
        "id": "Hs-P2is44K2h",
        "outputId": "30241ae9-7ac6-4e0c-912d-22217f8de91d"
      },
      "execution_count": null,
      "outputs": [
        {
          "output_type": "stream",
          "name": "stdout",
          "text": [
            "train-error 1.0\n",
            "test-error 0.9092920353982301\n"
          ]
        }
      ]
    },
    {
      "cell_type": "code",
      "source": [
        "my_model = myClassificationModel(RandomForestClassifier())\n",
        "cv_scores = my_model.cv_error(X, y)\n",
        "print('cross validation scores:', cv_scores)\n",
        "print('cross validation score (mean):', np.mean(cv_scores))\n",
        "print('cross validation score (std):', np.std(cv_scores))"
      ],
      "metadata": {
        "id": "-msCks0EfUqJ",
        "colab": {
          "base_uri": "https://localhost:8080/"
        },
        "outputId": "413cb280-d676-4d86-8e5a-5e0807647c89"
      },
      "execution_count": null,
      "outputs": [
        {
          "output_type": "stream",
          "name": "stdout",
          "text": [
            "cross validation scores: [0.88396811 0.84219858]\n",
            "cross validation score (mean): 0.8630833474674757\n",
            "cross validation score (std): 0.02088476590719207\n"
          ]
        }
      ]
    },
    {
      "cell_type": "markdown",
      "source": [
        "## Support Vector Classifier (SVC)"
      ],
      "metadata": {
        "id": "N8B7DobC-6sH"
      }
    },
    {
      "cell_type": "code",
      "source": [
        "my_model = myClassificationModel(SVC())\n",
        "my_model.train(X_train, y_train)\n",
        "print('train-error', my_model.evaluate(X_train, y_train))\n",
        "print('test-error', my_model.evaluate(X_test, y_test))"
      ],
      "metadata": {
        "colab": {
          "base_uri": "https://localhost:8080/"
        },
        "id": "3kxBjxGs92j3",
        "outputId": "91049884-682f-41b6-d10a-1bbf58612e1d"
      },
      "execution_count": null,
      "outputs": [
        {
          "output_type": "stream",
          "name": "stdout",
          "text": [
            "train-error 0.8487534626038781\n",
            "test-error 0.7942477876106194\n"
          ]
        }
      ]
    },
    {
      "cell_type": "code",
      "source": [
        "my_model = myClassificationModel(SVC())\n",
        "cv_scores = my_model.cv_error(X, y)\n",
        "print('cross validation scores:', cv_scores)\n",
        "print('cross validation score (mean):', np.mean(cv_scores))\n",
        "print('cross validation score (std):', np.std(cv_scores))"
      ],
      "metadata": {
        "colab": {
          "base_uri": "https://localhost:8080/"
        },
        "id": "UnLoGX1BRdsj",
        "outputId": "6a238f7f-9411-437b-dde3-bb6aa04ccc2d"
      },
      "execution_count": null,
      "outputs": [
        {
          "output_type": "stream",
          "name": "stdout",
          "text": [
            "cross validation scores: [0.72010629 0.68173759]\n",
            "cross validation score (mean): 0.7009219387017946\n",
            "cross validation score (std): 0.01918435004931246\n"
          ]
        }
      ]
    },
    {
      "cell_type": "markdown",
      "source": [
        "## Naive Bayes"
      ],
      "metadata": {
        "id": "nQQVzDa0X3a8"
      }
    },
    {
      "cell_type": "code",
      "source": [
        "my_model = myClassificationModel(GaussianNB())\n",
        "my_model.train(X_train, y_train)\n",
        "print('train-error', my_model.evaluate(X_train, y_train))\n",
        "print('test-error', my_model.evaluate(X_test, y_test))"
      ],
      "metadata": {
        "id": "JRcjZrraWKu1",
        "colab": {
          "base_uri": "https://localhost:8080/"
        },
        "outputId": "24748999-8f6a-4db5-9672-dc400826d4a7"
      },
      "execution_count": null,
      "outputs": [
        {
          "output_type": "stream",
          "name": "stdout",
          "text": [
            "train-error 1.0\n",
            "test-error 0.9402654867256637\n"
          ]
        }
      ]
    },
    {
      "cell_type": "code",
      "source": [
        "my_model = myClassificationModel(GaussianNB())\n",
        "cv_scores = my_model.cv_error(X, y)\n",
        "print('cross validation scores:', cv_scores)\n",
        "print('cross validation score (mean):', np.mean(cv_scores))\n",
        "print('cross validation score (std):', np.std(cv_scores))"
      ],
      "metadata": {
        "id": "aY5ENB5iX9I7",
        "colab": {
          "base_uri": "https://localhost:8080/"
        },
        "outputId": "2779d157-634e-45ae-9213-990101d236e2"
      },
      "execution_count": null,
      "outputs": [
        {
          "output_type": "stream",
          "name": "stdout",
          "text": [
            "cross validation scores: [0.72010629 0.68173759]\n",
            "cross validation score (mean): 0.7009219387017946\n",
            "cross validation score (std): 0.01918435004931246\n"
          ]
        }
      ]
    }
  ]
}
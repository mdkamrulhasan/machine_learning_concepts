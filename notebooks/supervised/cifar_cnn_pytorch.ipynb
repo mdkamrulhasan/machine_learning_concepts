{
  "nbformat": 4,
  "nbformat_minor": 0,
  "metadata": {
    "colab": {
      "provenance": [],
      "authorship_tag": "ABX9TyNxaQcT6NrcK4ur9weOZ6Qd",
      "include_colab_link": true
    },
    "kernelspec": {
      "name": "python3",
      "display_name": "Python 3"
    },
    "language_info": {
      "name": "python"
    }
  },
  "cells": [
    {
      "cell_type": "markdown",
      "metadata": {
        "id": "view-in-github",
        "colab_type": "text"
      },
      "source": [
        "<a href=\"https://colab.research.google.com/github/mdkamrulhasan/machine_learning_concepts/blob/master/notebooks/supervised/cifar_cnn_pytorch.ipynb\" target=\"_parent\"><img src=\"https://colab.research.google.com/assets/colab-badge.svg\" alt=\"Open In Colab\"/></a>"
      ]
    },
    {
      "cell_type": "markdown",
      "source": [
        "Training an image classifier\n",
        "We will do the following steps in order:\n",
        "\n",
        "\n",
        "\n",
        "1.   Load and normalize the CIFAR10 training and test datasets using torchvision\n",
        "2.   Define a Convolutional Neural Network\n",
        "3.   Define a loss function\n",
        "4.   Train the network on the training data\n",
        "5.   Test the network on the test data"
      ],
      "metadata": {
        "id": "_Li9T2ooMNyj"
      }
    },
    {
      "cell_type": "markdown",
      "source": [
        "[Adapted from](https://pytorch.org/tutorials/beginner/blitz/cifar10_tutorial.html)"
      ],
      "metadata": {
        "id": "CeXIeshkCx5K"
      }
    },
    {
      "cell_type": "code",
      "execution_count": null,
      "metadata": {
        "id": "yjyovC3YCtjS"
      },
      "outputs": [],
      "source": [
        "import torch\n",
        "import torchvision\n",
        "import torchvision.transforms as transforms"
      ]
    },
    {
      "cell_type": "markdown",
      "source": [
        "## 1. Load and normalize CIFAR10"
      ],
      "metadata": {
        "id": "-HLNmkcpC7AD"
      }
    },
    {
      "cell_type": "code",
      "source": [
        "transform = transforms.Compose(\n",
        "    [transforms.ToTensor(),\n",
        "     transforms.Normalize((0.5, 0.5, 0.5), (0.5, 0.5, 0.5))])\n",
        "\n",
        "batch_size = 4\n",
        "\n",
        "trainset = torchvision.datasets.CIFAR10(root='./data', train=True,\n",
        "                                        download=True, transform=transform)\n",
        "trainloader = torch.utils.data.DataLoader(trainset, batch_size=batch_size,\n",
        "                                          shuffle=True, num_workers=2)\n",
        "\n",
        "testset = torchvision.datasets.CIFAR10(root='./data', train=False,\n",
        "                                       download=True, transform=transform)\n",
        "testloader = torch.utils.data.DataLoader(testset, batch_size=batch_size,\n",
        "                                         shuffle=False, num_workers=2)\n",
        "\n",
        "classes = ('plane', 'car', 'bird', 'cat',\n",
        "           'deer', 'dog', 'frog', 'horse', 'ship', 'truck')"
      ],
      "metadata": {
        "colab": {
          "base_uri": "https://localhost:8080/"
        },
        "id": "YBBU5LD7DJaI",
        "outputId": "0f02363e-0691-4e17-ea19-ec47c9d385eb"
      },
      "execution_count": null,
      "outputs": [
        {
          "output_type": "stream",
          "name": "stdout",
          "text": [
            "Downloading https://www.cs.toronto.edu/~kriz/cifar-10-python.tar.gz to ./data/cifar-10-python.tar.gz\n"
          ]
        },
        {
          "output_type": "stream",
          "name": "stderr",
          "text": [
            "100%|██████████| 170M/170M [00:02<00:00, 71.7MB/s]\n"
          ]
        },
        {
          "output_type": "stream",
          "name": "stdout",
          "text": [
            "Extracting ./data/cifar-10-python.tar.gz to ./data\n",
            "Files already downloaded and verified\n"
          ]
        }
      ]
    },
    {
      "cell_type": "markdown",
      "source": [
        "Display some images"
      ],
      "metadata": {
        "id": "yjPvwLUuDVtJ"
      }
    },
    {
      "cell_type": "code",
      "source": [
        "import matplotlib.pyplot as plt\n",
        "import numpy as np\n",
        "\n",
        "# functions to show an image\n",
        "\n",
        "\n",
        "def imshow(img):\n",
        "    img = img / 2 + 0.5     # unnormalize\n",
        "    npimg = img.numpy()\n",
        "    plt.imshow(np.transpose(npimg, (1, 2, 0)))\n",
        "    plt.show()\n",
        "\n",
        "\n",
        "# get some random training images\n",
        "dataiter = iter(trainloader)\n",
        "images, labels = next(dataiter)\n",
        "\n",
        "# show images\n",
        "imshow(torchvision.utils.make_grid(images))\n",
        "# print labels\n",
        "print(' '.join(f'{classes[labels[j]]:5s}' for j in range(batch_size)))"
      ],
      "metadata": {
        "colab": {
          "base_uri": "https://localhost:8080/",
          "height": 211
        },
        "id": "NRb_n7QrDPSm",
        "outputId": "bd128765-a2af-4692-a8a2-671389912e2e"
      },
      "execution_count": null,
      "outputs": [
        {
          "output_type": "display_data",
          "data": {
            "text/plain": [
              "<Figure size 640x480 with 1 Axes>"
            ],
            "image/png": "[encoded data removed]"
          },
          "metadata": {}
        },
        {
          "output_type": "stream",
          "name": "stdout",
          "text": [
            "horse horse horse truck\n"
          ]
        }
      ]
    },
    {
      "cell_type": "markdown",
      "source": [
        "##2. Define a CNN model architecture"
      ],
      "metadata": {
        "id": "kLeR4ynuDdiK"
      }
    },
    {
      "cell_type": "code",
      "source": [
        "import torch.nn as nn\n",
        "import torch.nn.functional as F\n",
        "\n",
        "\n",
        "class Net(nn.Module):\n",
        "    def __init__(self):\n",
        "        super().__init__()\n",
        "        self.conv1 = nn.Conv2d(3, 6, 5)\n",
        "        self.pool = nn.MaxPool2d(2, 2)\n",
        "        self.conv2 = nn.Conv2d(6, 16, 5)\n",
        "        self.fc1 = nn.Linear(16 * 5 * 5, 120)\n",
        "        self.fc2 = nn.Linear(120, 84)\n",
        "        self.fc3 = nn.Linear(84, 10)\n",
        "\n",
        "    def forward(self, x):\n",
        "        x = self.pool(F.relu(self.conv1(x)))\n",
        "        x = self.pool(F.relu(self.conv2(x)))\n",
        "        x = torch.flatten(x, 1) # flatten all dimensions except batch\n",
        "        x = F.relu(self.fc1(x))\n",
        "        x = F.relu(self.fc2(x))\n",
        "        x = self.fc3(x)\n",
        "        return x\n",
        "\n",
        "# CNN model instantiation\n",
        "net = Net()"
      ],
      "metadata": {
        "id": "66crBPvqDXPZ"
      },
      "execution_count": null,
      "outputs": []
    },
    {
      "cell_type": "code",
      "source": [
        "from torchsummary import summary\n",
        "summary(net, input_size=(3, 32, 32))"
      ],
      "metadata": {
        "colab": {
          "base_uri": "https://localhost:8080/"
        },
        "id": "i12Pxbj3DytY",
        "outputId": "0fa27f4b-3f57-47f3-b600-3ddf46942516"
      },
      "execution_count": null,
      "outputs": [
        {
          "output_type": "stream",
          "name": "stdout",
          "text": [
            "----------------------------------------------------------------\n",
            "        Layer (type)               Output Shape         Param #\n",
            "================================================================\n",
            "            Conv2d-1            [-1, 6, 28, 28]             456\n",
            "         MaxPool2d-2            [-1, 6, 14, 14]               0\n",
            "            Conv2d-3           [-1, 16, 10, 10]           2,416\n",
            "         MaxPool2d-4             [-1, 16, 5, 5]               0\n",
            "            Linear-5                  [-1, 120]          48,120\n",
            "            Linear-6                   [-1, 84]          10,164\n",
            "            Linear-7                   [-1, 10]             850\n",
            "================================================================\n",
            "Total params: 62,006\n",
            "Trainable params: 62,006\n",
            "Non-trainable params: 0\n",
            "----------------------------------------------------------------\n",
            "Input size (MB): 0.01\n",
            "Forward/backward pass size (MB): 0.06\n",
            "Params size (MB): 0.24\n",
            "Estimated Total Size (MB): 0.31\n",
            "----------------------------------------------------------------\n"
          ]
        }
      ]
    },
    {
      "cell_type": "markdown",
      "source": [
        "##3. Define a Loss function"
      ],
      "metadata": {
        "id": "1iOSWblFDpp_"
      }
    },
    {
      "cell_type": "code",
      "source": [
        "import torch.optim as optim\n",
        "\n",
        "criterion = nn.CrossEntropyLoss()\n",
        "optimizer = optim.SGD(net.parameters(), lr=0.001, momentum=0.9)"
      ],
      "metadata": {
        "id": "lMIn0p4bDkCX"
      },
      "execution_count": null,
      "outputs": []
    },
    {
      "cell_type": "markdown",
      "source": [
        "##4. Model/network training"
      ],
      "metadata": {
        "id": "LedzN2AIEY38"
      }
    },
    {
      "cell_type": "code",
      "source": [
        "NB_EPOCHS = 10\n",
        "\n",
        "for epoch in range(NB_EPOCHS):  # loop over the dataset multiple times\n",
        "\n",
        "    running_loss = 0.0\n",
        "    for i, data in enumerate(trainloader, 0):\n",
        "        # get the inputs; data is a list of [inputs, labels]\n",
        "        inputs, labels = data\n",
        "\n",
        "        # zero the parameter gradients\n",
        "        optimizer.zero_grad()\n",
        "\n",
        "        # forward + backward + optimize\n",
        "        outputs = net(inputs)\n",
        "        loss = criterion(outputs, labels)\n",
        "        loss.backward()\n",
        "        optimizer.step()\n",
        "\n",
        "        # print statistics\n",
        "        running_loss += loss.item()\n",
        "        if i % 2000 == 1999:    # print every 2000 mini-batches\n",
        "            print(f'[{epoch + 1}, {i + 1:5d}] loss: {running_loss / 2000:.3f}')\n",
        "            running_loss = 0.0\n",
        "\n",
        "print('Finished Training')"
      ],
      "metadata": {
        "colab": {
          "base_uri": "https://localhost:8080/"
        },
        "id": "jdKsS4rCDtEw",
        "outputId": "e195a4ef-e81a-41d1-fd7e-ef58898e10ba"
      },
      "execution_count": null,
      "outputs": [
        {
          "output_type": "stream",
          "name": "stdout",
          "text": [
            "[1,  2000] loss: 1.236\n",
            "[1,  4000] loss: 1.212\n",
            "[1,  6000] loss: 1.187\n",
            "[1,  8000] loss: 1.190\n",
            "[1, 10000] loss: 1.175\n",
            "[1, 12000] loss: 1.166\n",
            "[2,  2000] loss: 1.071\n",
            "[2,  4000] loss: 1.102\n",
            "[2,  6000] loss: 1.088\n",
            "[2,  8000] loss: 1.093\n",
            "[2, 10000] loss: 1.109\n",
            "[2, 12000] loss: 1.097\n",
            "[3,  2000] loss: 1.004\n",
            "[3,  4000] loss: 1.005\n",
            "[3,  6000] loss: 1.018\n",
            "[3,  8000] loss: 1.020\n",
            "[3, 10000] loss: 1.013\n",
            "[3, 12000] loss: 1.028\n",
            "[4,  2000] loss: 0.933\n",
            "[4,  4000] loss: 0.971\n",
            "[4,  6000] loss: 0.966\n",
            "[4,  8000] loss: 0.959\n",
            "[4, 10000] loss: 0.968\n",
            "[4, 12000] loss: 0.978\n",
            "[5,  2000] loss: 0.895\n",
            "[5,  4000] loss: 0.883\n",
            "[5,  6000] loss: 0.930\n",
            "[5,  8000] loss: 0.931\n",
            "[5, 10000] loss: 0.927\n",
            "[5, 12000] loss: 0.923\n",
            "[6,  2000] loss: 0.842\n",
            "[6,  4000] loss: 0.849\n",
            "[6,  6000] loss: 0.879\n",
            "[6,  8000] loss: 0.901\n",
            "[6, 10000] loss: 0.875\n",
            "[6, 12000] loss: 0.905\n",
            "[7,  2000] loss: 0.821\n",
            "[7,  4000] loss: 0.808\n",
            "[7,  6000] loss: 0.824\n",
            "[7,  8000] loss: 0.870\n",
            "[7, 10000] loss: 0.838\n",
            "[7, 12000] loss: 0.870\n",
            "[8,  2000] loss: 0.777\n",
            "[8,  4000] loss: 0.773\n",
            "[8,  6000] loss: 0.796\n",
            "[8,  8000] loss: 0.826\n",
            "[8, 10000] loss: 0.849\n",
            "[8, 12000] loss: 0.828\n",
            "[9,  2000] loss: 0.729\n",
            "[9,  4000] loss: 0.759\n",
            "[9,  6000] loss: 0.774\n",
            "[9,  8000] loss: 0.791\n",
            "[9, 10000] loss: 0.799\n",
            "[9, 12000] loss: 0.835\n",
            "[10,  2000] loss: 0.703\n",
            "[10,  4000] loss: 0.747\n",
            "[10,  6000] loss: 0.737\n",
            "[10,  8000] loss: 0.784\n",
            "[10, 10000] loss: 0.759\n",
            "[10, 12000] loss: 0.798\n",
            "Finished Training\n"
          ]
        }
      ]
    },
    {
      "cell_type": "markdown",
      "source": [
        "### Save the model for future reference"
      ],
      "metadata": {
        "id": "wFv7IY0jK_aC"
      }
    },
    {
      "cell_type": "code",
      "source": [
        "PATH = './cifar_net.pth'\n",
        "torch.save(net.state_dict(), PATH)"
      ],
      "metadata": {
        "id": "85SZjHRcEelV"
      },
      "execution_count": null,
      "outputs": []
    },
    {
      "cell_type": "markdown",
      "source": [
        "### Load the model"
      ],
      "metadata": {
        "id": "wZDnKp77KzSx"
      }
    },
    {
      "cell_type": "code",
      "source": [
        "net = Net()\n",
        "net.load_state_dict(torch.load(PATH, weights_only=True))"
      ],
      "metadata": {
        "colab": {
          "base_uri": "https://localhost:8080/"
        },
        "id": "YJhU0ZULKyJU",
        "outputId": "26aec422-7348-406f-cac2-1acb97fb3597"
      },
      "execution_count": null,
      "outputs": [
        {
          "output_type": "execute_result",
          "data": {
            "text/plain": [
              "<All keys matched successfully>"
            ]
          },
          "metadata": {},
          "execution_count": 17
        }
      ]
    },
    {
      "cell_type": "markdown",
      "source": [
        "##5. Test the network on test data"
      ],
      "metadata": {
        "id": "2_JSit_QFBGy"
      }
    },
    {
      "cell_type": "code",
      "source": [
        "correct = 0\n",
        "total = 0\n",
        "# since we're not training, we don't need to calculate the gradients for our outputs\n",
        "with torch.no_grad():\n",
        "    for data in testloader:\n",
        "        images, labels = data\n",
        "        # calculate outputs by running images through the network\n",
        "        outputs = net(images)\n",
        "        # the class with the highest energy is what we choose as prediction\n",
        "        _, predicted = torch.max(outputs, 1)\n",
        "        total += labels.size(0)\n",
        "        correct += (predicted == labels).sum().item()\n",
        "\n",
        "print(f'Accuracy of the network on the 10000 test images: {100 * correct // total} %')"
      ],
      "metadata": {
        "colab": {
          "base_uri": "https://localhost:8080/"
        },
        "id": "xr55pu7lFANg",
        "outputId": "6b3156ae-5213-4dca-a772-617fdf81a2f4"
      },
      "execution_count": null,
      "outputs": [
        {
          "output_type": "stream",
          "name": "stdout",
          "text": [
            "Accuracy of the network on the 10000 test images: 63 %\n"
          ]
        }
      ]
    },
    {
      "cell_type": "markdown",
      "source": [
        "### Training on GPU"
      ],
      "metadata": {
        "id": "EFwym_x6EsR7"
      }
    },
    {
      "cell_type": "code",
      "source": [
        "device = torch.device('cuda:0' if torch.cuda.is_available() else 'cpu')\n",
        "\n",
        "# Assuming that we are on a CUDA machine, this should print a CUDA device:\n",
        "\n",
        "print(device)"
      ],
      "metadata": {
        "colab": {
          "base_uri": "https://localhost:8080/"
        },
        "id": "B2PHWNFpLUBA",
        "outputId": "eec3e173-0039-4163-e029-6389f710aac4"
      },
      "execution_count": null,
      "outputs": [
        {
          "output_type": "stream",
          "name": "stdout",
          "text": [
            "cpu\n"
          ]
        }
      ]
    },
    {
      "cell_type": "markdown",
      "source": [],
      "metadata": {
        "id": "z_n_8RxkL15Y"
      }
    },
    {
      "cell_type": "code",
      "source": [
        "#The rest of this section assumes that device is a CUDA device.\n",
        "\n",
        "#Then these methods will recursively go over all modules and convert their parameters and buffers to CUDA tensors:\n",
        "net.to(device)\n",
        "\n",
        "#Remember that you will have to send the inputs and targets at every step to the GPU too:\n",
        "inputs, labels = data[0].to(device), data[1].to(device)"
      ],
      "metadata": {
        "id": "Yc9JsqirLXgM"
      },
      "execution_count": null,
      "outputs": []
    },
    {
      "cell_type": "markdown",
      "source": [
        "Why don’t I notice MASSIVE speedup compared to CPU? Because your network is really small.\n",
        "\n",
        "**Exercise:** Try increasing the width of your network (argument 2 of the first nn.Conv2d, and argument 1 of the second nn.Conv2d – they need to be the same number), see what kind of speedup you get."
      ],
      "metadata": {
        "id": "vqwV-NsYNFLg"
      }
    },
    {
      "cell_type": "markdown",
      "source": [
        "Goals achieved:\n",
        "\n",
        "Understanding PyTorch’s Tensor library and neural networks at a high level.\n",
        "\n",
        "Train a small neural network to classify images\n",
        "\n",
        "Training on multiple GPUs\n",
        "If you want to see even more MASSIVE speedup using all of your GPUs, please check out Optional: Data Parallelism."
      ],
      "metadata": {
        "id": "y9HJ9WweMBfb"
      }
    },
    {
      "cell_type": "code",
      "source": [],
      "metadata": {
        "id": "7OALdwhjMCCs"
      },
      "execution_count": null,
      "outputs": []
    }
  ]
}